{
  "nbformat": 4,
  "nbformat_minor": 0,
  "metadata": {
    "colab": {
      "provenance": [],
      "authorship_tag": "ABX9TyPbMVlxXx8eL36iSc2LE+lm",
      "include_colab_link": true
    },
    "kernelspec": {
      "name": "python3",
      "display_name": "Python 3"
    },
    "language_info": {
      "name": "python"
    }
  },
  "cells": [
    {
      "cell_type": "markdown",
      "metadata": {
        "id": "view-in-github",
        "colab_type": "text"
      },
      "source": [
        "<a href=\"https://colab.research.google.com/github/jmasonlee/efficiently_testing_etl_pipelines/blob/main/fixing_a_big_test.ipynb\" target=\"_parent\"><img src=\"https://colab.research.google.com/assets/colab-badge.svg\" alt=\"Open In Colab\"/></a>"
      ]
    },
    {
      "cell_type": "markdown",
      "source": [
        "## STEP 0.A: Setup Notebook"
      ],
      "metadata": {
        "id": "aqYjZpizVD3i"
      }
    },
    {
      "cell_type": "code",
      "source": [
        "!rm -rf efficiently_testing_etl_pipelines\n",
        "!git clone https://github.com/jmasonlee/efficiently_testing_etl_pipelines.git\n",
        "!cp -r /content/efficiently_testing_etl_pipelines/src/ .\n",
        "!cp -r /content/efficiently_testing_etl_pipelines/tests/ .\n",
        "!rm -rf efficiently_testing_etl_pipelines\n",
        "!rm -rf tests/diamond_pricing_test*\n",
        "!rm -rf tests/test_helpers/*verification_helpers.py\n",
        "!rm -rf tests/conftest.py\n",
        "!rm -rf sample_data\n"
      ],
      "metadata": {
        "id": "i4KRAp6vTEJm",
        "outputId": "cd7aecf4-87b3-4ff6-811b-99961c6e94d4",
        "colab": {
          "base_uri": "https://localhost:8080/"
        }
      },
      "execution_count": 11,
      "outputs": [
        {
          "output_type": "stream",
          "name": "stdout",
          "text": [
            "Cloning into 'efficiently_testing_etl_pipelines'...\n",
            "remote: Enumerating objects: 687, done.\u001b[K\n",
            "remote: Counting objects: 100% (328/328), done.\u001b[K\n",
            "remote: Compressing objects: 100% (159/159), done.\u001b[K\n",
            "remote: Total 687 (delta 210), reused 259 (delta 162), pack-reused 359\u001b[K\n",
            "Receiving objects: 100% (687/687), 300.78 KiB | 1.60 MiB/s, done.\n",
            "Resolving deltas: 100% (416/416), done.\n"
          ]
        }
      ]
    },
    {
      "cell_type": "markdown",
      "source": [
        "# STEP 0.B: Setup Tests"
      ],
      "metadata": {
        "id": "5cRRMTtEBYy0"
      }
    },
    {
      "cell_type": "markdown",
      "source": [
        "### Install Dependencies\n",
        "\n",
        "For the exercise, we will need some special dependencies to allow us to run lots of tests in a notebook."
      ],
      "metadata": {
        "id": "_h199h_XEAwT"
      }
    },
    {
      "cell_type": "markdown",
      "source": [
        "`ipytest` lets us run our tests in a notebook.\n",
        "\n"
      ],
      "metadata": {
        "id": "DVAcSonZmslt"
      }
    },
    {
      "cell_type": "code",
      "source": [
        "!pip install ipytest"
      ],
      "metadata": {
        "id": "7v0kaWulDXi-",
        "outputId": "1285718e-e887-4d11-809a-53c6c273de06",
        "colab": {
          "base_uri": "https://localhost:8080/"
        }
      },
      "execution_count": 12,
      "outputs": [
        {
          "output_type": "stream",
          "name": "stdout",
          "text": [
            "Requirement already satisfied: ipytest in /usr/local/lib/python3.10/dist-packages (0.13.3)\n",
            "Requirement already satisfied: ipython in /usr/local/lib/python3.10/dist-packages (from ipytest) (7.34.0)\n",
            "Requirement already satisfied: packaging in /usr/local/lib/python3.10/dist-packages (from ipytest) (23.1)\n",
            "Requirement already satisfied: pytest>=5.4 in /usr/local/lib/python3.10/dist-packages (from ipytest) (7.2.2)\n",
            "Requirement already satisfied: attrs>=19.2.0 in /usr/local/lib/python3.10/dist-packages (from pytest>=5.4->ipytest) (23.1.0)\n",
            "Requirement already satisfied: iniconfig in /usr/local/lib/python3.10/dist-packages (from pytest>=5.4->ipytest) (2.0.0)\n",
            "Requirement already satisfied: pluggy<2.0,>=0.12 in /usr/local/lib/python3.10/dist-packages (from pytest>=5.4->ipytest) (1.2.0)\n",
            "Requirement already satisfied: exceptiongroup>=1.0.0rc8 in /usr/local/lib/python3.10/dist-packages (from pytest>=5.4->ipytest) (1.1.2)\n",
            "Requirement already satisfied: tomli>=1.0.0 in /usr/local/lib/python3.10/dist-packages (from pytest>=5.4->ipytest) (2.0.1)\n",
            "Requirement already satisfied: setuptools>=18.5 in /usr/local/lib/python3.10/dist-packages (from ipython->ipytest) (67.7.2)\n",
            "Requirement already satisfied: jedi>=0.16 in /usr/local/lib/python3.10/dist-packages (from ipython->ipytest) (0.18.2)\n",
            "Requirement already satisfied: decorator in /usr/local/lib/python3.10/dist-packages (from ipython->ipytest) (4.4.2)\n",
            "Requirement already satisfied: pickleshare in /usr/local/lib/python3.10/dist-packages (from ipython->ipytest) (0.7.5)\n",
            "Requirement already satisfied: traitlets>=4.2 in /usr/local/lib/python3.10/dist-packages (from ipython->ipytest) (5.7.1)\n",
            "Requirement already satisfied: prompt-toolkit!=3.0.0,!=3.0.1,<3.1.0,>=2.0.0 in /usr/local/lib/python3.10/dist-packages (from ipython->ipytest) (3.0.39)\n",
            "Requirement already satisfied: pygments in /usr/local/lib/python3.10/dist-packages (from ipython->ipytest) (2.14.0)\n",
            "Requirement already satisfied: backcall in /usr/local/lib/python3.10/dist-packages (from ipython->ipytest) (0.2.0)\n",
            "Requirement already satisfied: matplotlib-inline in /usr/local/lib/python3.10/dist-packages (from ipython->ipytest) (0.1.6)\n",
            "Requirement already satisfied: pexpect>4.3 in /usr/local/lib/python3.10/dist-packages (from ipython->ipytest) (4.8.0)\n",
            "Requirement already satisfied: parso<0.9.0,>=0.8.0 in /usr/local/lib/python3.10/dist-packages (from jedi>=0.16->ipython->ipytest) (0.8.3)\n",
            "Requirement already satisfied: ptyprocess>=0.5 in /usr/local/lib/python3.10/dist-packages (from pexpect>4.3->ipython->ipytest) (0.7.0)\n",
            "Requirement already satisfied: wcwidth in /usr/local/lib/python3.10/dist-packages (from prompt-toolkit!=3.0.0,!=3.0.1,<3.1.0,>=2.0.0->ipython->ipytest) (0.2.6)\n"
          ]
        }
      ]
    },
    {
      "cell_type": "markdown",
      "source": [
        "ipytest is what allows us to run our tests in a notebook. This next cell is not needed if you are writing tests in a separate pytest file."
      ],
      "metadata": {
        "id": "3_ILjU8goCNY"
      }
    },
    {
      "cell_type": "code",
      "source": [
        "import ipytest\n",
        "ipytest.autoconfig()"
      ],
      "metadata": {
        "id": "t7iwGQ4Le-Oe"
      },
      "execution_count": 13,
      "outputs": []
    },
    {
      "cell_type": "markdown",
      "source": [
        "We are installing `pyspark` because it doesn't come with the base colab environment"
      ],
      "metadata": {
        "id": "HzwfHFGmm2Ca"
      }
    },
    {
      "cell_type": "code",
      "source": [
        "!pip install pyspark"
      ],
      "metadata": {
        "id": "QNnk84AsmmFQ",
        "outputId": "0793759c-4e6a-4f14-fb7a-1336e1034abe",
        "colab": {
          "base_uri": "https://localhost:8080/"
        }
      },
      "execution_count": 14,
      "outputs": [
        {
          "output_type": "stream",
          "name": "stdout",
          "text": [
            "Requirement already satisfied: pyspark in /usr/local/lib/python3.10/dist-packages (3.4.1)\n",
            "Requirement already satisfied: py4j==0.10.9.7 in /usr/local/lib/python3.10/dist-packages (from pyspark) (0.10.9.7)\n"
          ]
        }
      ]
    },
    {
      "cell_type": "code",
      "source": [
        "!pip install chispa"
      ],
      "metadata": {
        "colab": {
          "base_uri": "https://localhost:8080/"
        },
        "id": "r_EYg-cC1cD5",
        "outputId": "e13888c7-56bf-406d-d38d-7b988620ccde"
      },
      "execution_count": 15,
      "outputs": [
        {
          "output_type": "stream",
          "name": "stdout",
          "text": [
            "Requirement already satisfied: chispa in /usr/local/lib/python3.10/dist-packages (0.9.2)\n"
          ]
        }
      ]
    },
    {
      "cell_type": "markdown",
      "source": [
        "## Create a local SparkSession\n",
        "\n",
        "Normally spark runs on a bunch of executors in the cloud. Since we want our tests to be able to run on a single dev machine, we make a fixture that gives us a local spark context."
      ],
      "metadata": {
        "id": "V_OJcnSiBgUb"
      }
    },
    {
      "cell_type": "code",
      "source": [
        "import pytest\n",
        "from _pytest.fixtures import FixtureRequest\n",
        "from pyspark import SparkConf\n",
        "from pyspark.sql import SparkSession\n",
        "\n",
        "@pytest.fixture(scope=\"session\")\n",
        "def spark(request: FixtureRequest):\n",
        "    conf = (SparkConf()\n",
        "        .setMaster(\"local\")\n",
        "        .setAppName(\"sample_pyspark_testing_starter\"))\n",
        "\n",
        "    spark = SparkSession \\\n",
        "        .builder \\\n",
        "        .config(conf=conf) \\\n",
        "        .getOrCreate()\n",
        "\n",
        "    request.addfinalizer(lambda: spark.stop())\n",
        "    return spark"
      ],
      "metadata": {
        "id": "xXPLpebJ6iI2"
      },
      "execution_count": 16,
      "outputs": []
    },
    {
      "cell_type": "markdown",
      "source": [
        "## Create Helpers\n",
        "\n",
        "This is a helper function that retrieves our test output from the expected.json file"
      ],
      "metadata": {
        "id": "actN5s7DCF9J"
      }
    },
    {
      "cell_type": "code",
      "source": [
        "import json\n",
        "from typing import List, Dict\n",
        "\n",
        "from pyspark.pandas import DataFrame\n",
        "\n",
        "\n",
        "def create_df_from_json(json_file, spark):\n",
        "    return spark.read.option(\"multiline\", \"true\").json(json_file)\n",
        "\n",
        "\n",
        "def data_frame_to_json(df: DataFrame) -> List:\n",
        "    output = [json.loads(item) for item in df.toJSON().collect()]\n",
        "    output.sort(key=lambda item: item[\"id\"])\n",
        "    print(output)\n",
        "    return output\n",
        "\n",
        "def expected_json(name: str) -> Dict:\n",
        "    with open(f\"tests/fixtures/{name}\") as f:\n",
        "        return json.loads(f.read())"
      ],
      "metadata": {
        "id": "VO2-3px25xEl"
      },
      "execution_count": 17,
      "outputs": []
    },
    {
      "cell_type": "code",
      "source": [
        "import pyspark\n",
        "def build_indep_vars(df, independent_vars, categorical_vars=None, keep_intermediate=False, summarizer=True):\n",
        "    check_input(categorical_vars, df, independent_vars)\n",
        "\n",
        "    from pyspark.ml import Pipeline\n",
        "    from pyspark.ml.feature import StringIndexer, OneHotEncoder, VectorAssembler\n",
        "    idx = 'index'\n",
        "    vec = 'vector'\n",
        "    if categorical_vars:\n",
        "        string_indexer = [StringIndexer(inputCol=x,\n",
        "                                        outputCol=f\"{x}_{idx}\")\n",
        "                          for x in categorical_vars]\n",
        "\n",
        "        encoder        = [OneHotEncoder(dropLast=True,\n",
        "                                        inputCol =f'{x}_{idx}',\n",
        "                                        outputCol=f'{x}_{vec}')\n",
        "                          for x in categorical_vars]\n",
        "\n",
        "        independent_vars = ['{}_vector'.format(x) if x in categorical_vars else x for x in independent_vars]\n",
        "    else:\n",
        "        string_indexer, encoder = [], []\n",
        "\n",
        "    assembler = VectorAssembler(inputCols=independent_vars,\n",
        "                                outputCol='indep_vars')\n",
        "    pipeline  = Pipeline(stages=string_indexer+encoder+[assembler])\n",
        "    model = pipeline.fit(df)\n",
        "    df = model.transform(df)\n",
        "\n",
        "    if not keep_intermediate:\n",
        "        fcols = [c for c in df.columns if f'_{idx}' not in c[-3:] and f'_{vec}' not in c[-7:]]\n",
        "        df = df[fcols]\n",
        "\n",
        "    return df\n",
        "\n",
        "\n",
        "def check_input(categorical_vars, df, independent_vars):\n",
        "    assert (type(\n",
        "        df) is pyspark.sql.dataframe.DataFrame), 'pypark_glm: A pySpark dataframe is required as the first argument.'\n",
        "    assert (type(\n",
        "        independent_vars) is list), 'pyspark_glm: List of independent variable column names must be the third argument.'\n",
        "    for iv in independent_vars:\n",
        "        assert (type(iv) is str), 'pyspark_glm: Independent variables must be column name strings.'\n",
        "        assert (iv in df.columns), 'pyspark_glm: Independent variable name is not a dataframe column.'\n",
        "    if categorical_vars:\n",
        "        for cv in categorical_vars:\n",
        "            assert (type(cv) is str), 'pyspark_glm: Categorical variables must be column name strings.'\n",
        "            assert (cv in df.columns), 'pyspark_glm: Categorical variable name is not a dataframe column.'\n",
        "            assert (cv in independent_vars), 'pyspark_glm: Categorical variables must be independent variables.'\n"
      ],
      "metadata": {
        "id": "eBvHph1aCJiN"
      },
      "execution_count": 18,
      "outputs": []
    },
    {
      "cell_type": "code",
      "source": [
        "from pyspark.sql import DataFrame, Window, Column\n",
        "from pyspark.sql.functions import log, when, mean, col\n",
        "\n",
        "def replace_null(orig: Column, average: Column):\n",
        "    return when(orig.isNull(), average).otherwise(orig)\n",
        "\n",
        "def transform(df: DataFrame) -> DataFrame:\n",
        "\n",
        "    df = df.withColumn('lprice', log('price'))\n",
        "    window = Window.partitionBy('cut', 'clarity').orderBy('price').rowsBetween(-3, 3)\n",
        "    moving_avg = mean(df['price']).over(window)\n",
        "    df = df.withColumn('moving_avg', moving_avg)\n",
        "\n",
        "    df = df.withColumn('price', when(df.price.isNull(), df.moving_avg).otherwise(df.price))\n",
        "    df = df[['id', 'carat', 'clarity', 'color', 'price']]\n",
        "    df = build_indep_vars(df, ['carat', 'clarity', 'color'],\n",
        "                                      categorical_vars=['clarity', 'color'],\n",
        "                                      keep_intermediate=False,\n",
        "                                      summarizer=True)\n",
        "    return df"
      ],
      "metadata": {
        "id": "22lMaALmCTJm"
      },
      "execution_count": 19,
      "outputs": []
    },
    {
      "cell_type": "markdown",
      "source": [
        "# STEP 1: Investigate The Test"
      ],
      "metadata": {
        "id": "MjwHttFB5TB7"
      }
    },
    {
      "cell_type": "code",
      "source": [
        "%%ipytest -qq\n",
        "from pyspark.sql import SparkSession\n",
        "\n",
        "def test_will_do_the_right_thing(spark: SparkSession):\n",
        "    #ARRANGE - SET UP TEST INPUTS\n",
        "    diamonds_df = create_df_from_json(\"tests/fixtures/diamonds.json\", spark)\n",
        "\n",
        "    #ACT - RUN THE CODE WE ARE TESTING\n",
        "    actual_df = transform(diamonds_df)\n",
        "\n",
        "    #ASSERT - CHECK THE OUTPUTS ARE CORRECT\n",
        "    assert data_frame_to_json(actual_df) == expected_json(\"expected.json\")"
      ],
      "metadata": {
        "id": "lH1x9ZOi58X7",
        "outputId": "fd21feec-7770-457c-9b66-9f5f6d1e6de9",
        "colab": {
          "base_uri": "https://localhost:8080/"
        }
      },
      "execution_count": 20,
      "outputs": [
        {
          "output_type": "stream",
          "name": "stdout",
          "text": [
            "\u001b[32m.\u001b[0m\u001b[32m                                                                                            [100%]\u001b[0m\n"
          ]
        }
      ]
    },
    {
      "cell_type": "markdown",
      "source": [
        "# Step 1: Setup For the Saff Squeeze"
      ],
      "metadata": {
        "id": "95eTfqjbZfGV"
      }
    },
    {
      "cell_type": "markdown",
      "source": [
        "Let's get ready to improve the test.\n",
        "\n",
        "**our bug**: Diamonds of the same cut and clarity are influencing the calculated price of diamonds with a different color. Only diamonds with the same cut, clarity _**and color**_ should be influencing the calculated price for diamonds with a null price."
      ],
      "metadata": {
        "id": "oDLkPTvpnKGS"
      }
    },
    {
      "cell_type": "markdown",
      "source": [
        "## STEP 1A - Test for the desired behaviour\n",
        "- [ ] There is a second json file (`expected_correct.json`) where the expected price for the unpriced diamond has been updated to the correct value. Use that file name as the argument passed to `expected_json`\n",
        "- [ ] Run the test. It should fail."
      ],
      "metadata": {
        "id": "ToSNXfVOxzz8"
      }
    },
    {
      "cell_type": "code",
      "source": [
        "%%ipytest -qq\n",
        "from pyspark.sql import SparkSession\n",
        "\n",
        "def test_will_do_the_right_thing(spark: SparkSession):\n",
        "    diamonds_df = create_df_from_json(\"tests/fixtures/diamonds.json\", spark)\n",
        "\n",
        "    actual_df = transform(diamonds_df)\n",
        "\n",
        "    assert data_frame_to_json(actual_df) == expected_json(\"expected.json\")  # <- Rename the \"expected.json\" file to \"expected_correct.json\""
      ],
      "metadata": {
        "outputId": "b1c682e1-dadb-457d-9dd4-ca8765e6ebb9",
        "colab": {
          "base_uri": "https://localhost:8080/"
        },
        "id": "_VKLXAMic975"
      },
      "execution_count": 21,
      "outputs": [
        {
          "output_type": "stream",
          "name": "stdout",
          "text": [
            "\u001b[32m.\u001b[0m\u001b[32m                                                                                            [100%]\u001b[0m\n"
          ]
        }
      ]
    },
    {
      "cell_type": "markdown",
      "source": [
        "## STEP 1B - Duplicate the test\n",
        "\n",
        "- [ ] Duplicate the test. Now you should have two copies of the same test.\n",
        "  * One copy will stay the same, so we can make sure that nothing is broken.\n",
        "  * The second copy is what we will change in the next steps.\n",
        "- [ ] Name the second test\n",
        "```\n",
        "test_null_price_is_replaced_based_on_cut_clarity_and_color\n",
        "```\n",
        "- [ ] Run the tests. They should both fail."
      ],
      "metadata": {
        "id": "t32-FfGUyLA4"
      }
    },
    {
      "cell_type": "code",
      "source": [
        "%%ipytest -qq\n",
        "from pyspark.sql import SparkSession\n",
        "\n",
        "\n",
        "# Duplicate the test below and rename the duplicate to:\n",
        "# test_null_price_is_replaced_based_on_cut_clarity_and_color\n",
        "\n",
        "########################## START OF THE ORIGINAL TEST ##########################\n",
        "def test_will_do_the_right_thing(spark: SparkSession):\n",
        "    diamonds_df = create_df_from_json(\"tests/fixtures/diamonds.json\", spark)\n",
        "\n",
        "    actual_df = transform(diamonds_df)\n",
        "\n",
        "    assert data_frame_to_json(actual_df) == expected_json(\"expected_correct.json\")\n",
        "########################### END OF THE ORIGINAL TEST ###########################"
      ],
      "metadata": {
        "outputId": "b1c682e1-dadb-457d-9dd4-ca8765e6ebb9",
        "colab": {
          "base_uri": "https://localhost:8080/"
        },
        "id": "n7tUmVtwzSBN"
      },
      "execution_count": null,
      "outputs": [
        {
          "output_type": "stream",
          "name": "stdout",
          "text": [
            "\u001b[32m.\u001b[0m\u001b[32m                                                                                            [100%]\u001b[0m\n"
          ]
        }
      ]
    },
    {
      "cell_type": "markdown",
      "source": [
        "#STEP 1C - Temporarily disable the original test\n",
        "- [ ] Mark the failing test with `@pytest.mark.skip()` to make our output less confusing.\n",
        "- [ ] Run the tests. You should see this in your cell output:\n",
        "![Screen Shot 2023-07-14 at 8.44.24 AM.png](data:image/png;base64,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)\n",
        "\n",
        "The lowercase $\\color{goldenrod}{\\text{s}}$$\\color{red}{\\text{F}}$\n",
        "indicates that two tests were run. One test ($\\color{goldenrod}{\\text{s}}$) was skipped. The other test ($\\color{red}{\\text{F}}$) failed.\n",
        "\n",
        "Immediately below the FAILURES line, you should see the name of the test that failed, in red. It is the test we are changing:\n",
        "$\\color{red}{\\text{____________________ test_null_price_is_replaced_based_on_cut_clarity_and_color ____________________}}$\n",
        "\n",
        "\n"
      ],
      "metadata": {
        "id": "zUTmZZoM18kE"
      }
    },
    {
      "cell_type": "code",
      "source": [
        "%%ipytest -qq\n",
        "import pytest # <- UNCOMMENT THIS LINE\n",
        "\n",
        "from pyspark.sql import SparkSession\n",
        "\n",
        "\n",
        "@pytest.mark.skip()\n",
        "def test_will_do_the_right_thing(spark: SparkSession):\n",
        "    diamonds_df = create_df_from_json(\"tests/fixtures/diamonds.json\", spark)\n",
        "\n",
        "    actual_df = transform(diamonds_df)\n",
        "\n",
        "    assert data_frame_to_json(actual_df) == expected_json(\"expected_correct.json\")\n",
        "\n",
        "def test_null_price_is_replaced_based_on_cut_clarity_and_color(spark: SparkSession):\n",
        "    diamonds_df = create_df_from_json(\"tests/fixtures/diamonds.json\", spark)\n",
        "\n",
        "    actual_df = transform(diamonds_df)\n",
        "\n",
        "    assert data_frame_to_json(actual_df) == expected_json(\"expected_correct.json\")"
      ],
      "metadata": {
        "outputId": "ee5710d6-51dd-4e13-df40-63ba0620a177",
        "colab": {
          "base_uri": "https://localhost:8080/"
        },
        "id": "yOq-T54i14tl"
      },
      "execution_count": 23,
      "outputs": [
        {
          "output_type": "stream",
          "name": "stdout",
          "text": [
            "\u001b[33ms\u001b[0m\u001b[31mF\u001b[0m\u001b[31m                                                                                           [100%]\u001b[0m\n",
            "============================================= FAILURES =============================================\n",
            "\u001b[31m\u001b[1m____________________ test_null_price_is_replaced_based_on_cut_clarity_and_color ____________________\u001b[0m\n",
            "\n",
            "spark = <pyspark.sql.session.SparkSession object at 0x78529b901ed0>\n",
            "\n",
            "    \u001b[94mdef\u001b[39;49;00m \u001b[92mtest_null_price_is_replaced_based_on_cut_clarity_and_color\u001b[39;49;00m(spark: SparkSession):\u001b[90m\u001b[39;49;00m\n",
            "        diamonds_df = create_df_from_json(\u001b[33m\"\u001b[39;49;00m\u001b[33mtests/fixtures/diamonds.json\u001b[39;49;00m\u001b[33m\"\u001b[39;49;00m, spark)\u001b[90m\u001b[39;49;00m\n",
            "    \u001b[90m\u001b[39;49;00m\n",
            "        actual_df = transform(diamonds_df)\u001b[90m\u001b[39;49;00m\n",
            "    \u001b[90m\u001b[39;49;00m\n",
            ">       \u001b[94massert\u001b[39;49;00m data_frame_to_json(actual_df) == expected_json(\u001b[33m\"\u001b[39;49;00m\u001b[33mexpected_correct.json\u001b[39;49;00m\u001b[33m\"\u001b[39;49;00m)\u001b[90m\u001b[39;49;00m\n",
            "\u001b[1m\u001b[31mE       AssertionError: assert [{'carat': 0....G', ...}, ...] == [{'carat': 0....G', ...}, ...]\u001b[0m\n",
            "\u001b[1m\u001b[31mE         At index 1 diff: {'id': 'DI-26', 'carat': 0.21, 'clarity': 'VVS1', 'color': 'D', 'price': 3333.0, 'clarity_index': 0.0, 'color_index': 0.0, 'indep_vars': {'type': 0, 'size': 7, 'indices': [0, 1, 4], 'values': [0.21, 1.0, 1.0]}} != {'id': 'DI-26', 'carat': 0.21, 'clarity': 'VVS1', 'color': 'D', 'price': 2690.0, 'clarity_index': 0.0, 'color_index': 0.0, 'indep_vars': {'type': 0, 'size': 7, 'indices': [0, 1, 4], 'values': [0.21, 1.0, 1.0]}}\u001b[0m\n",
            "\u001b[1m\u001b[31mE         Use -v to get more diff\u001b[0m\n",
            "\n",
            "\u001b[1m\u001b[31m<ipython-input-23-3a629e95aa8f>\u001b[0m:19: AssertionError\n",
            "--------------------------------------- Captured stdout call ---------------------------------------\n",
            "[{'id': '1', 'carat': 0.23, 'clarity': 'SI2', 'color': 'E', 'price': 326.0, 'clarity_index': 3.0, 'color_index': 1.0, 'indep_vars': {'type': 0, 'size': 7, 'indices': [0, 5], 'values': [0.23, 1.0]}}, {'id': 'DI-26', 'carat': 0.21, 'clarity': 'VVS1', 'color': 'D', 'price': 3333.0, 'clarity_index': 0.0, 'color_index': 0.0, 'indep_vars': {'type': 0, 'size': 7, 'indices': [0, 1, 4], 'values': [0.21, 1.0, 1.0]}}, {'id': 'DI-26', 'carat': 0.21, 'clarity': 'VVS1', 'color': 'D', 'price': 3333.0, 'clarity_index': 0.0, 'color_index': 0.0, 'indep_vars': {'type': 0, 'size': 7, 'indices': [0, 1, 4], 'values': [0.21, 1.0, 1.0]}}, {'id': 'DI-26-null-price', 'carat': 0.21, 'clarity': 'VVS1', 'color': 'D', 'price': 2777.0, 'clarity_index': 0.0, 'color_index': 0.0, 'indep_vars': {'type': 0, 'size': 7, 'indices': [0, 1, 4], 'values': [0.21, 1.0, 1.0]}}, {'id': 'DI-27', 'carat': 0.21, 'clarity': 'VVS1', 'color': 'D', 'price': 2692.0, 'clarity_index': 0.0, 'color_index': 0.0, 'indep_vars': {'type': 0, 'size': 7, 'indices': [0, 1, 4], 'values': [0.21, 1.0, 1.0]}}, {'id': 'DI-28', 'carat': 0.21, 'clarity': 'VVS1', 'color': 'G', 'price': 1665.0, 'clarity_index': 0.0, 'color_index': 3.0, 'indep_vars': {'type': 0, 'size': 7, 'indices': [0, 1], 'values': [0.21, 1.0]}}, {'id': 'DI-30', 'carat': 0.32, 'clarity': 'I1', 'color': 'D', 'price': 345.0, 'clarity_index': 1.0, 'color_index': 0.0, 'indep_vars': {'type': 0, 'size': 7, 'indices': [0, 2, 4], 'values': [0.32, 1.0, 1.0]}}, {'id': 'minimum_inputs', 'carat': 0.23, 'clarity': 'SI1', 'color': 'F', 'clarity_index': 2.0, 'color_index': 2.0, 'indep_vars': {'type': 0, 'size': 7, 'indices': [0, 3, 6], 'values': [0.23, 1.0, 1.0]}}]\n",
            "\u001b[36m\u001b[1m===================================== short test summary info ======================================\u001b[0m\n",
            "\u001b[31mFAILED\u001b[0m t_860abd32a80b4e1dba3311f357130323.py::\u001b[1mtest_null_price_is_replaced_based_on_cut_clarity_and_color\u001b[0m - AssertionError: assert [{'carat': 0....G', ...}, ...] == [{'carat': 0....G', ...}, ...]\n"
          ]
        }
      ]
    },
    {
      "cell_type": "markdown",
      "source": [
        "# Step 2: Make The Assert Specific"
      ],
      "metadata": {
        "id": "cbCuKHDpso8C"
      }
    },
    {
      "cell_type": "markdown",
      "source": [
        "Right now, our test compares everything in the output dataframe to everything in a large json file. That's a lot of rows to compare and the assert is wrong anyways!\n",
        "\n",
        "Let's make this test assert on the thing we actually care about - the output price of the diamond!"
      ],
      "metadata": {
        "id": "X-xfpXMwstwN"
      }
    },
    {
      "cell_type": "markdown",
      "source": [
        "## Instructions - Chispa\n",
        "\n",
        "#### With Chispa\n",
        "- [ ] Add these imports to the top of the cell, below the `%%ipytest -qq` line:  \n",
        "`from chispa import assert_column_equality`  \n",
        "`from pySpark.sql.functions import lit`\n",
        "- [ ] Filter the dataframe for the unique id of the diamond we care about:  \n",
        "`actual_df=actual_df.filter(actual_df.id == 'DI-26-null-price')`\n",
        "- [ ] Create a new column in our dataframe that contains our expected price:  \n",
        "`actual_df=actual_df.withColumn('expected_price', lit(3333.0))`\n",
        "- [ ] Assert the value in the price column matches the value we want:  \n",
        "`assert_column_equality(actual_df, 'price', 'expected_price')`\n"
      ],
      "metadata": {
        "id": "jz3ygb6GxcYG"
      }
    },
    {
      "cell_type": "markdown",
      "source": [
        "## Exercise - Chispa"
      ],
      "metadata": {
        "id": "vYiG_Qgtv1bs"
      }
    },
    {
      "cell_type": "code",
      "source": [
        "%%ipytest -qq\n",
        "from pyspark.sql import SparkSession\n",
        "\n",
        "\n",
        "def test_null_price_is_replaced_based_on_cut_clarity_and_color(spark: SparkSession):\n",
        "    diamonds_df = create_df_from_json(\"tests/fixtures/diamonds.json\", spark)\n",
        "\n",
        "    actual_df = transform(diamonds_df)\n"
      ],
      "metadata": {
        "outputId": "0819f609-1177-4f16-b47b-fdeaee466401",
        "colab": {
          "base_uri": "https://localhost:8080/"
        },
        "id": "QiwYRKD0yXIW"
      },
      "execution_count": null,
      "outputs": [
        {
          "output_type": "stream",
          "name": "stdout",
          "text": [
            "\u001b[32m.\u001b[0m\u001b[32m                                                                                            [100%]\u001b[0m\n"
          ]
        }
      ]
    },
    {
      "cell_type": "markdown",
      "source": [
        "### Instructions - Pandas\n",
        "- [ ] import pandas:  \n",
        "`import pandas as pd`\n",
        "- [ ] Filter the dataframe for the unique id of the diamond we care about:  \n",
        "  `actual_df=actual_df.filter(actual_df.id == 'DI-26-null-price')`\n",
        "- [ ] Create your expected dataframe using Pandas:  \n",
        " `expected = pd.DataFrame(({'id': [\"DI-26-null-price\"], 'price':[3333.0] }))`\n",
        "- [ ] Select the column you care about:  \n",
        "  `actual_df=actual_df.select(['id', 'price'])\n",
        "- [ ] Assert for dataframe equality using pandas:  \n",
        "  `pd.testing.assert_frame_equal(actual_df, expected)`"
      ],
      "metadata": {
        "id": "wW0OfrWo8Qn4"
      }
    },
    {
      "cell_type": "markdown",
      "source": [
        "## Exercise - Pandas"
      ],
      "metadata": {
        "id": "TM4QCxCZwEbf"
      }
    },
    {
      "cell_type": "code",
      "source": [
        "%%ipytest -qq\n",
        "from pyspark.sql import SparkSession\n",
        "\n",
        "\n",
        "def test_null_price_is_replaced_based_on_cut_clarity_and_color(spark: SparkSession):\n",
        "    diamonds_df = create_df_from_json(\"tests/fixtures/diamonds.json\", spark)\n",
        "\n",
        "    actual_df = transform(diamonds_df)\n"
      ],
      "metadata": {
        "outputId": "2ae0b4f4-a212-4056-8dc7-30973c18cdaa",
        "colab": {
          "base_uri": "https://localhost:8080/"
        },
        "id": "3a_ORvhl9CAd"
      },
      "execution_count": null,
      "outputs": [
        {
          "output_type": "stream",
          "name": "stdout",
          "text": [
            "\u001b[32m.\u001b[0m\u001b[32m                                                                                            [100%]\u001b[0m\n"
          ]
        }
      ]
    },
    {
      "cell_type": "markdown",
      "source": [
        "### Instructions - JSON properties\n",
        "\n",
        "- [ ] Filter the dataframe for the unique id of the diamond we care about:  \n",
        "  `actual_df=actual_df.filter(actual_df.id == 'DI-26-null-price')`\n",
        "- [ ] Convert your dataframe to JSON:  \n",
        "`actual_df_json = data_frame_to_json(actual_df)`\n",
        "- [ ] Assert the price property of the first object matches your expected price:  \n",
        "`assert actual_df_json[0]['price'] == 3333.0`"
      ],
      "metadata": {
        "id": "lD-3MVVv9D9d"
      }
    },
    {
      "cell_type": "markdown",
      "source": [
        "## Exercise - JSON properties"
      ],
      "metadata": {
        "id": "F0GvaGLEwMZA"
      }
    },
    {
      "cell_type": "code",
      "source": [
        "%%ipytest -qq\n",
        "from pyspark.sql import SparkSession\n",
        "\n",
        "\n",
        "def test_null_price_is_replaced_based_on_cut_clarity_and_color(spark: SparkSession):\n",
        "    diamonds_df = create_df_from_json(\"tests/fixtures/diamonds.json\", spark)\n",
        "\n",
        "    actual_df = transform(diamonds_df)\n",
        "\n"
      ],
      "metadata": {
        "outputId": "069366c2-c919-49ed-ce0b-4bb1bc22cb8f",
        "colab": {
          "base_uri": "https://localhost:8080/"
        },
        "id": "55eVJ0Ug9Pif"
      },
      "execution_count": null,
      "outputs": [
        {
          "output_type": "stream",
          "name": "stdout",
          "text": [
            "\u001b[32m.\u001b[0m\u001b[32m                                                                                            [100%]\u001b[0m\n"
          ]
        }
      ]
    },
    {
      "cell_type": "markdown",
      "source": [
        "# Step 3: Reduce Duplicate Coverage and Fix the Bug\n",
        "\n",
        "Right now, our test is running the entire transform function. Because there are multiple tests in `diamonds.json`, each test is running the same large block of code over and over again."
      ],
      "metadata": {
        "id": "sw4mvQYw5pkE"
      }
    },
    {
      "cell_type": "markdown",
      "source": [
        "## STEP 3.A: Prep"
      ],
      "metadata": {
        "id": "8kumyMxuNFY_"
      }
    },
    {
      "cell_type": "markdown",
      "source": [
        "### Instructions\n",
        "Let's get ready to reduce the duplicate coverage.\n",
        "\n",
        "#### 1. Put the transform function where you can work with it\n",
        "- [ ] Run the test. It should be failing.\n",
        "- [ ] Replace the call to the transform function with the body of that function.\n",
        "- [ ] Change the last line of the function body to assign to `actual_df` instead of `df`\n",
        "```\n",
        "df = build_indep_vars(df, ['carat', 'clarity', 'color'],\n",
        "                                      categorical_vars=['clarity', 'color'],\n",
        "                                      keep_intermediate=False,\n",
        "                                      summarizer=True)\n",
        "```\n",
        "becomes\n",
        "```\n",
        "actual_df = build_indep_vars(df, ['carat', 'clarity', 'color'],\n",
        "                                      categorical_vars=['clarity', 'color'],\n",
        "                                      keep_intermediate=False,\n",
        "                                      summarizer=True)\n",
        "```\n",
        "- [ ] Change the first line of the function body to read from `diamonds_df` instead of `df`\n",
        "```\n",
        " df = df.withColumn('lprice', log('price'))\n",
        "```\n",
        "becomes\n",
        "```\n",
        " df = diamonds_df.withColumn('lprice', log('price'))\n",
        "```\n",
        "- [ ] Run the test. It should still be failing for the same reasons.\n",
        "\n",
        "#### 2. Test FOR the bug\n",
        "- [ ] Change your assert code so that it is testing _for_ the bug.\n",
        "```\n",
        "    actual_df=actual_df.withColumn('expected_price', lit(3333.0))\n",
        "```\n",
        "becomes\n",
        "```\n",
        "  actual_df=actual_df.withColumn('expected_price', lit(2460.0))\n",
        "```\n",
        "- [ ] Run the test. It should pass.\n",
        "\n",
        "#### 3. Make the assert easier to work with\n",
        "- [ ] Extract your assert code into a one-line helper function:\n",
        "```\n",
        "def assert_diamond_has_expected_price(actual_df: DataFrame) -> None:\n",
        "    actual_df=actual_df.filter(actual_df.id == 'DI-26-null-price')\n",
        "    actual_df=actual_df.withColumn('expected_price', lit(2460.0))\n",
        "    assert_column_equality(actual_df, 'price', 'expected_price')\n",
        "```\n",
        "- [ ] Run the test. It should pass."
      ],
      "metadata": {
        "id": "-2pcPdIhf6ad"
      }
    },
    {
      "cell_type": "markdown",
      "source": [
        "### Exercise"
      ],
      "metadata": {
        "id": "57xFbUQaoIaq"
      }
    },
    {
      "cell_type": "markdown",
      "source": [
        "#### The Code"
      ],
      "metadata": {
        "id": "0ze_hB2VCmC8"
      }
    },
    {
      "cell_type": "markdown",
      "source": [
        "##### The `transform` Function"
      ],
      "metadata": {
        "id": "YgzlhOgV-LJk"
      }
    },
    {
      "cell_type": "code",
      "source": [
        "from pyspark.sql import DataFrame, Window, Column\n",
        "from pyspark.sql.functions import log, when, mean, col\n",
        "\n",
        "def transform(df: DataFrame) -> DataFrame:\n",
        "# The body of the transform function STARTS HERE\n",
        "    df = df.withColumn('lprice', log('price'))  #<-- In the test, this line should be: df = diamonds_df.withColumn('lprice', log('price'))\n",
        "    window = Window.partitionBy('cut', 'clarity').orderBy('price').rowsBetween(-3, 3)\n",
        "    moving_avg = mean(df['price']).over(window)\n",
        "    df = df.withColumn('moving_avg', moving_avg)\n",
        "\n",
        "    df = df.withColumn('price', when(df.price.isNull(), df.moving_avg).otherwise(df.price))\n",
        "    df = df[['id', 'carat', 'clarity', 'color', 'price']]\n",
        "    df = build_indep_vars(df, ['carat', 'clarity', 'color'], #<-- In the test, this line should be: actual_df = build_indep_vars(df, ['carat', 'clarity', 'color']\n",
        "                                      categorical_vars=['clarity', 'color'],\n",
        "                                      keep_intermediate=False,\n",
        "                                      summarizer=True)\n",
        "# The body of the transform function ENDS HERE\n",
        "    return df"
      ],
      "metadata": {
        "id": "EqUboG2Y-HZE"
      },
      "execution_count": null,
      "outputs": []
    },
    {
      "cell_type": "markdown",
      "source": [
        "#### The Test"
      ],
      "metadata": {
        "id": "DR41JwrwDPhJ"
      }
    },
    {
      "cell_type": "code",
      "source": [
        "%%ipytest -qq\n",
        "from pyspark.sql import SparkSession\n",
        "\n",
        "def test_prep_for_linear_regression(spark: SparkSession):\n",
        "    diamonds_df = create_df_from_json(\"tests/fixtures/diamonds.json\", spark)\n",
        "\n",
        "    actual_df = transform(diamonds_df) #<-- We will be replacing this line with the body of the transform function\n",
        "\n",
        "    actual_df=actual_df.filter(actual_df.id == 'DI-26-null-price')\n",
        "    actual_df=actual_df.withColumn('expected_price', lit(3333.0))\n",
        "    assert_column_equality(actual_df, 'price', 'expected_price')"
      ],
      "metadata": {
        "outputId": "61c77c49-d567-4ce4-9852-d8257ec15142",
        "colab": {
          "base_uri": "https://localhost:8080/"
        },
        "id": "Ci_qnCgB57k9"
      },
      "execution_count": null,
      "outputs": [
        {
          "output_type": "stream",
          "name": "stdout",
          "text": [
            "\u001b[31mF\u001b[0m\u001b[31m                                                                                            [100%]\u001b[0m\n",
            "============================================= FAILURES =============================================\n",
            "\u001b[31m\u001b[1m_________________________________ test_prep_for_linear_regression __________________________________\u001b[0m\n",
            "\n",
            "spark = <pyspark.sql.session.SparkSession object at 0x78015abc36d0>\n",
            "\n",
            "    \u001b[94mdef\u001b[39;49;00m \u001b[92mtest_prep_for_linear_regression\u001b[39;49;00m(spark: SparkSession):\u001b[90m\u001b[39;49;00m\n",
            "        diamonds_df = create_df_from_json(\u001b[33m\"\u001b[39;49;00m\u001b[33mtests/fixtures/diamonds.json\u001b[39;49;00m\u001b[33m\"\u001b[39;49;00m, spark)\u001b[90m\u001b[39;49;00m\n",
            "    \u001b[90m\u001b[39;49;00m\n",
            "        actual_df = transform(diamonds_df) \u001b[90m#<-- We will be replacing this line with the body of the transform function\u001b[39;49;00m\u001b[90m\u001b[39;49;00m\n",
            "    \u001b[90m\u001b[39;49;00m\n",
            "        actual_df=actual_df.filter(actual_df.id == \u001b[33m'\u001b[39;49;00m\u001b[33mDI-26-null-price\u001b[39;49;00m\u001b[33m'\u001b[39;49;00m)\u001b[90m\u001b[39;49;00m\n",
            "        actual_df=actual_df.withColumn(\u001b[33m'\u001b[39;49;00m\u001b[33mexpected_price\u001b[39;49;00m\u001b[33m'\u001b[39;49;00m, lit(\u001b[94m3333.0\u001b[39;49;00m))\u001b[90m\u001b[39;49;00m\n",
            ">       assert_column_equality(actual_df, \u001b[33m'\u001b[39;49;00m\u001b[33mprice\u001b[39;49;00m\u001b[33m'\u001b[39;49;00m, \u001b[33m'\u001b[39;49;00m\u001b[33mexpected_price\u001b[39;49;00m\u001b[33m'\u001b[39;49;00m)\u001b[90m\u001b[39;49;00m\n",
            "\n",
            "\u001b[1m\u001b[31m<ipython-input-68-c6ea0e31b630>\u001b[0m:10: \n",
            "_ _ _ _ _ _ _ _ _ _ _ _ _ _ _ _ _ _ _ _ _ _ _ _ _ _ _ _ _ _ _ _ _ _ _ _ _ _ _ _ _ _ _ _ _ _ _ _ _ _ \n",
            "\n",
            "df = DataFrame[id: string, carat: double, clarity: string, color: string, price: double, clarity_index: double, color_index: double, indep_vars: vector, expected_price: double]\n",
            "col_name1 = 'price', col_name2 = 'expected_price'\n",
            "\n",
            "    \u001b[94mdef\u001b[39;49;00m \u001b[92massert_column_equality\u001b[39;49;00m(df, col_name1, col_name2):\u001b[90m\u001b[39;49;00m\n",
            "        elements = df.select(col_name1, col_name2).collect()\u001b[90m\u001b[39;49;00m\n",
            "        colName1Elements = \u001b[96mlist\u001b[39;49;00m(\u001b[96mmap\u001b[39;49;00m(\u001b[94mlambda\u001b[39;49;00m x: x[\u001b[94m0\u001b[39;49;00m], elements))\u001b[90m\u001b[39;49;00m\n",
            "        colName2Elements = \u001b[96mlist\u001b[39;49;00m(\u001b[96mmap\u001b[39;49;00m(\u001b[94mlambda\u001b[39;49;00m x: x[\u001b[94m1\u001b[39;49;00m], elements))\u001b[90m\u001b[39;49;00m\n",
            "        \u001b[94mif\u001b[39;49;00m colName1Elements != colName2Elements:\u001b[90m\u001b[39;49;00m\n",
            "            zipped = \u001b[96mlist\u001b[39;49;00m(\u001b[96mzip\u001b[39;49;00m(colName1Elements, colName2Elements))\u001b[90m\u001b[39;49;00m\n",
            "            t = PrettyTable([col_name1, col_name2])\u001b[90m\u001b[39;49;00m\n",
            "            \u001b[94mfor\u001b[39;49;00m elements \u001b[95min\u001b[39;49;00m zipped:\u001b[90m\u001b[39;49;00m\n",
            "                \u001b[94mif\u001b[39;49;00m elements[\u001b[94m0\u001b[39;49;00m] == elements[\u001b[94m1\u001b[39;49;00m]:\u001b[90m\u001b[39;49;00m\n",
            "                    first = bcolors.LightBlue + \u001b[96mstr\u001b[39;49;00m(elements[\u001b[94m0\u001b[39;49;00m]) + bcolors.LightRed\u001b[90m\u001b[39;49;00m\n",
            "                    second = bcolors.LightBlue + \u001b[96mstr\u001b[39;49;00m(elements[\u001b[94m1\u001b[39;49;00m]) + bcolors.LightRed\u001b[90m\u001b[39;49;00m\n",
            "                    t.add_row([first, second])\u001b[90m\u001b[39;49;00m\n",
            "                \u001b[94melse\u001b[39;49;00m:\u001b[90m\u001b[39;49;00m\n",
            "                    t.add_row([\u001b[96mstr\u001b[39;49;00m(elements[\u001b[94m0\u001b[39;49;00m]), \u001b[96mstr\u001b[39;49;00m(elements[\u001b[94m1\u001b[39;49;00m])])\u001b[90m\u001b[39;49;00m\n",
            ">           \u001b[94mraise\u001b[39;49;00m ColumnsNotEqualError(\u001b[33m\"\u001b[39;49;00m\u001b[33m\\n\u001b[39;49;00m\u001b[33m\"\u001b[39;49;00m + t.get_string())\u001b[90m\u001b[39;49;00m\n",
            "\u001b[1m\u001b[31mE           chispa.column_comparer.ColumnsNotEqualError: \u001b[0m\n",
            "\u001b[1m\u001b[31mE           +--------+----------------+\u001b[0m\n",
            "\u001b[1m\u001b[31mE           | price  | expected_price |\u001b[0m\n",
            "\u001b[1m\u001b[31mE           +--------+----------------+\u001b[0m\n",
            "\u001b[1m\u001b[31mE           | 2777.0 |     3333.0     |\u001b[0m\n",
            "\u001b[1m\u001b[31mE           +--------+----------------+\u001b[0m\n",
            "\n",
            "\u001b[1m\u001b[31m/usr/local/lib/python3.10/dist-packages/chispa/column_comparer.py\u001b[0m:24: ColumnsNotEqualError\n",
            "\u001b[36m\u001b[1m===================================== short test summary info ======================================\u001b[0m\n",
            "\u001b[31mFAILED\u001b[0m t_792e1f981ba74dd7b5b3b3bb63f7a733.py::\u001b[1mtest_prep_for_linear_regression\u001b[0m - chispa.column_comparer.ColumnsNotEqualError: \n"
          ]
        }
      ]
    },
    {
      "cell_type": "markdown",
      "source": [
        "#### The original test\n",
        "\n"
      ],
      "metadata": {
        "id": "ojU7wLaKdbBu"
      }
    },
    {
      "cell_type": "code",
      "source": [
        "%%ipytest -qq\n",
        "from pyspark.sql import SparkSession\n",
        "\n",
        "def test_will_do_the_right_thing(spark: SparkSession):\n",
        "    diamonds_df = create_df_from_json(\"tests/fixtures/diamonds.json\", spark)\n",
        "\n",
        "    actual_df = transform(diamonds_df)\n",
        "    assert data_frame_to_json(actual_df) == expected_json(\"expected_correct.json\")"
      ],
      "metadata": {
        "id": "S5228csId2CS",
        "colab": {
          "base_uri": "https://localhost:8080/"
        },
        "outputId": "f751618e-3375-4ae5-b65b-a78f58918fbf"
      },
      "execution_count": null,
      "outputs": [
        {
          "output_type": "stream",
          "name": "stdout",
          "text": [
            "\u001b[31mF\u001b[0m\u001b[31m                                                                                            [100%]\u001b[0m\n",
            "============================================= FAILURES =============================================\n",
            "\u001b[31m\u001b[1m___________________________________ test_will_do_the_right_thing ___________________________________\u001b[0m\n",
            "\n",
            "spark = <pyspark.sql.session.SparkSession object at 0x78015ab7cf10>\n",
            "\n",
            "    \u001b[94mdef\u001b[39;49;00m \u001b[92mtest_will_do_the_right_thing\u001b[39;49;00m(spark: SparkSession):\u001b[90m\u001b[39;49;00m\n",
            "        diamonds_df = create_df_from_json(\u001b[33m\"\u001b[39;49;00m\u001b[33mtests/fixtures/diamonds.json\u001b[39;49;00m\u001b[33m\"\u001b[39;49;00m, spark)\u001b[90m\u001b[39;49;00m\n",
            "    \u001b[90m\u001b[39;49;00m\n",
            "        actual_df = transform(diamonds_df)\u001b[90m\u001b[39;49;00m\n",
            ">       \u001b[94massert\u001b[39;49;00m data_frame_to_json(actual_df) == expected_json(\u001b[33m\"\u001b[39;49;00m\u001b[33mexpected_correct.json\u001b[39;49;00m\u001b[33m\"\u001b[39;49;00m)\u001b[90m\u001b[39;49;00m\n",
            "\u001b[1m\u001b[31mE       AssertionError: assert [{'carat': 0....G', ...}, ...] == [{'carat': 0....G', ...}, ...]\u001b[0m\n",
            "\u001b[1m\u001b[31mE         At index 1 diff: {'id': 'DI-26', 'carat': 0.21, 'clarity': 'VVS1', 'color': 'D', 'price': 3333.0, 'clarity_index': 0.0, 'color_index': 0.0, 'indep_vars': {'type': 0, 'size': 7, 'indices': [0, 1, 4], 'values': [0.21, 1.0, 1.0]}} != {'id': 'DI-26', 'carat': 0.21, 'clarity': 'VVS1', 'color': 'D', 'price': 2690.0, 'clarity_index': 0.0, 'color_index': 0.0, 'indep_vars': {'type': 0, 'size': 7, 'indices': [0, 1, 4], 'values': [0.21, 1.0, 1.0]}}\u001b[0m\n",
            "\u001b[1m\u001b[31mE         Use -v to get more diff\u001b[0m\n",
            "\n",
            "\u001b[1m\u001b[31m<ipython-input-69-e9ec4e9326c8>\u001b[0m:7: AssertionError\n",
            "--------------------------------------- Captured stdout call ---------------------------------------\n",
            "[{'id': '1', 'carat': 0.23, 'clarity': 'SI2', 'color': 'E', 'price': 326.0, 'clarity_index': 3.0, 'color_index': 1.0, 'indep_vars': {'type': 0, 'size': 7, 'indices': [0, 5], 'values': [0.23, 1.0]}}, {'id': 'DI-26', 'carat': 0.21, 'clarity': 'VVS1', 'color': 'D', 'price': 3333.0, 'clarity_index': 0.0, 'color_index': 0.0, 'indep_vars': {'type': 0, 'size': 7, 'indices': [0, 1, 4], 'values': [0.21, 1.0, 1.0]}}, {'id': 'DI-26', 'carat': 0.21, 'clarity': 'VVS1', 'color': 'D', 'price': 3333.0, 'clarity_index': 0.0, 'color_index': 0.0, 'indep_vars': {'type': 0, 'size': 7, 'indices': [0, 1, 4], 'values': [0.21, 1.0, 1.0]}}, {'id': 'DI-26-null-price', 'carat': 0.21, 'clarity': 'VVS1', 'color': 'D', 'price': 2777.0, 'clarity_index': 0.0, 'color_index': 0.0, 'indep_vars': {'type': 0, 'size': 7, 'indices': [0, 1, 4], 'values': [0.21, 1.0, 1.0]}}, {'id': 'DI-27', 'carat': 0.21, 'clarity': 'VVS1', 'color': 'D', 'price': 2692.0, 'clarity_index': 0.0, 'color_index': 0.0, 'indep_vars': {'type': 0, 'size': 7, 'indices': [0, 1, 4], 'values': [0.21, 1.0, 1.0]}}, {'id': 'DI-28', 'carat': 0.21, 'clarity': 'VVS1', 'color': 'G', 'price': 1665.0, 'clarity_index': 0.0, 'color_index': 3.0, 'indep_vars': {'type': 0, 'size': 7, 'indices': [0, 1], 'values': [0.21, 1.0]}}, {'id': 'DI-30', 'carat': 0.32, 'clarity': 'I1', 'color': 'D', 'price': 345.0, 'clarity_index': 1.0, 'color_index': 0.0, 'indep_vars': {'type': 0, 'size': 7, 'indices': [0, 2, 4], 'values': [0.32, 1.0, 1.0]}}, {'id': 'minimum_inputs', 'carat': 0.23, 'clarity': 'SI1', 'color': 'F', 'clarity_index': 2.0, 'color_index': 2.0, 'indep_vars': {'type': 0, 'size': 7, 'indices': [0, 3, 6], 'values': [0.23, 1.0, 1.0]}}]\n",
            "\u001b[36m\u001b[1m===================================== short test summary info ======================================\u001b[0m\n",
            "\u001b[31mFAILED\u001b[0m t_792e1f981ba74dd7b5b3b3bb63f7a733.py::\u001b[1mtest_will_do_the_right_thing\u001b[0m - AssertionError: assert [{'carat': 0....G', ...}, ...] == [{'carat': 0....G', ...}, ...]\n"
          ]
        }
      ]
    },
    {
      "cell_type": "markdown",
      "source": [
        "## Step 3.B Squeeze the bottom!\n"
      ],
      "metadata": {
        "id": "5oBE2ZEAF2E2"
      }
    },
    {
      "cell_type": "markdown",
      "source": [
        "\n",
        "### Instructions\n",
        "**our bug**: Diamonds of the same cut and clarity are influencing the calculated price of diamonds with a different color. Only diamonds with the same cut, clarity and color should be influencing the calculated price for diamonds with a null price.\n",
        "\n",
        "**Squeeze the bottom until you find the bug**\n",
        "- [ ] Move your assert up one line at a time.  \n",
        "- [ ] After each move, run your test.  \n",
        "- [ ] If it fails, figure out why it's failing.(You may need to rename columns in the assert)\n",
        "- [ ] If the test passes, the line wasn't important for the bug you wanted to catch. Delete it.\n",
        "- [ ] Continue until you find the source of the bug"
      ],
      "metadata": {
        "id": "PhriAy0jfsTj"
      }
    },
    {
      "cell_type": "markdown",
      "source": [
        "### Exercise"
      ],
      "metadata": {
        "id": "SyOFZzKVokvQ"
      }
    },
    {
      "cell_type": "markdown",
      "source": [
        "#### The Code"
      ],
      "metadata": {
        "id": "u2EHWBjMetva"
      }
    },
    {
      "cell_type": "markdown",
      "source": [
        "##### The `transform` Function"
      ],
      "metadata": {
        "id": "9Yne491Uetvj"
      }
    },
    {
      "cell_type": "code",
      "source": [
        "from pyspark.sql import DataFrame, Window, Column\n",
        "from pyspark.sql.functions import log, when, mean, col\n",
        "\n",
        "def transform(df: DataFrame) -> DataFrame:\n",
        "\n",
        "    df = df.withColumn('lprice', log('price'))\n",
        "    window = Window.partitionBy('cut', 'clarity').orderBy('price').rowsBetween(-3, 3)\n",
        "    moving_avg = mean(df['price']).over(window)\n",
        "    df = df.withColumn('moving_avg', moving_avg)\n",
        "\n",
        "    df = df.withColumn('price', when(df.price.isNull(), df.moving_avg).otherwise(df.price))\n",
        "    df = df[['id', 'carat', 'clarity', 'color', 'price']]\n",
        "    df = build_indep_vars(df, ['carat', 'clarity', 'color'],\n",
        "                                      categorical_vars=['clarity', 'color'],\n",
        "                                      keep_intermediate=False,\n",
        "                                      summarizer=True)\n",
        "    return df"
      ],
      "metadata": {
        "id": "-EhWDEgLetvj"
      },
      "execution_count": null,
      "outputs": []
    },
    {
      "cell_type": "markdown",
      "source": [
        "#### The Test"
      ],
      "metadata": {
        "id": "441Jq5Ude3n7"
      }
    },
    {
      "cell_type": "code",
      "source": [
        "%%ipytest -qq\n",
        "from pyspark.sql import SparkSession, DataFrame, Window, Column\n",
        "from pyspark.sql.functions import lit, log, when, mean, col\n",
        "from chispa import assert_column_equality\n",
        "\n",
        "def assert_diamond_has_expected_price(actual_df: DataFrame) -> None:\n",
        "    actual_df=actual_df.filter(actual_df.id == 'DI-26-null-price')\n",
        "    actual_df=actual_df.withColumn('expected_price', lit(2460.0))\n",
        "    assert_column_equality(actual_df, 'price', 'expected_price')\n",
        "\n",
        "def test_null_price_is_replaced_based_on_cut_clarity_and_color(spark: SparkSession):\n",
        "    diamonds_df = create_df_from_json(\"tests/fixtures/diamonds.json\", spark)\n",
        "\n",
        "    df = diamonds_df.withColumn('lprice', log('price'))\n",
        "    window = Window.partitionBy('cut', 'clarity').orderBy('price').rowsBetween(-3, 3)\n",
        "    moving_avg = mean(df['price']).over(window)\n",
        "    df = df.withColumn('moving_avg', moving_avg)\n",
        "\n",
        "    df = df.withColumn('price', when(df.price.isNull(), df.moving_avg).otherwise(df.price))\n",
        "    df = df[['id', 'carat', 'clarity', 'color', 'price']]\n",
        "    actual_df = build_indep_vars(df, ['carat', 'clarity', 'color'],\n",
        "                                      categorical_vars=['clarity', 'color'],\n",
        "                                      keep_intermediate=False,\n",
        "                                      summarizer=True)\n",
        "\n",
        "    assert_diamond_has_expected_price(actual_df)\n",
        "\n",
        "\n",
        "\n",
        "\n",
        "\n"
      ],
      "metadata": {
        "outputId": "7e53ee15-5b0f-440c-90fb-2bca0990f9fe",
        "colab": {
          "base_uri": "https://localhost:8080/"
        },
        "id": "UFv4b_9xFw-t"
      },
      "execution_count": null,
      "outputs": [
        {
          "output_type": "stream",
          "name": "stdout",
          "text": [
            "\u001b[31mF\u001b[0m\u001b[31m                                                                                            [100%]\u001b[0m\n",
            "============================================= FAILURES =============================================\n",
            "\u001b[31m\u001b[1m____________________ test_null_price_is_replaced_based_on_cut_clarity_and_color ____________________\u001b[0m\n",
            "\n",
            "spark = <pyspark.sql.session.SparkSession object at 0x78015ad21450>\n",
            "\n",
            "    \u001b[94mdef\u001b[39;49;00m \u001b[92mtest_null_price_is_replaced_based_on_cut_clarity_and_color\u001b[39;49;00m(spark: SparkSession):\u001b[90m\u001b[39;49;00m\n",
            "        diamonds_df = create_df_from_json(\u001b[33m\"\u001b[39;49;00m\u001b[33mtests/fixtures/diamonds.json\u001b[39;49;00m\u001b[33m\"\u001b[39;49;00m, spark)\u001b[90m\u001b[39;49;00m\n",
            "    \u001b[90m\u001b[39;49;00m\n",
            "        df = diamonds_df.withColumn(\u001b[33m'\u001b[39;49;00m\u001b[33mlprice\u001b[39;49;00m\u001b[33m'\u001b[39;49;00m, log(\u001b[33m'\u001b[39;49;00m\u001b[33mprice\u001b[39;49;00m\u001b[33m'\u001b[39;49;00m))\u001b[90m\u001b[39;49;00m\n",
            "        window = Window.partitionBy(\u001b[33m'\u001b[39;49;00m\u001b[33mcut\u001b[39;49;00m\u001b[33m'\u001b[39;49;00m, \u001b[33m'\u001b[39;49;00m\u001b[33mclarity\u001b[39;49;00m\u001b[33m'\u001b[39;49;00m).orderBy(\u001b[33m'\u001b[39;49;00m\u001b[33mprice\u001b[39;49;00m\u001b[33m'\u001b[39;49;00m).rowsBetween(-\u001b[94m3\u001b[39;49;00m, \u001b[94m3\u001b[39;49;00m)\u001b[90m\u001b[39;49;00m\n",
            "        moving_avg = mean(df[\u001b[33m'\u001b[39;49;00m\u001b[33mprice\u001b[39;49;00m\u001b[33m'\u001b[39;49;00m]).over(window)\u001b[90m\u001b[39;49;00m\n",
            "        df = df.withColumn(\u001b[33m'\u001b[39;49;00m\u001b[33mmoving_avg\u001b[39;49;00m\u001b[33m'\u001b[39;49;00m, moving_avg)\u001b[90m\u001b[39;49;00m\n",
            "    \u001b[90m\u001b[39;49;00m\n",
            "        df = df.withColumn(\u001b[33m'\u001b[39;49;00m\u001b[33mprice\u001b[39;49;00m\u001b[33m'\u001b[39;49;00m, when(df.price.isNull(), df.moving_avg).otherwise(df.price))\u001b[90m\u001b[39;49;00m\n",
            "        df = df[[\u001b[33m'\u001b[39;49;00m\u001b[33mid\u001b[39;49;00m\u001b[33m'\u001b[39;49;00m, \u001b[33m'\u001b[39;49;00m\u001b[33mcarat\u001b[39;49;00m\u001b[33m'\u001b[39;49;00m, \u001b[33m'\u001b[39;49;00m\u001b[33mclarity\u001b[39;49;00m\u001b[33m'\u001b[39;49;00m, \u001b[33m'\u001b[39;49;00m\u001b[33mcolor\u001b[39;49;00m\u001b[33m'\u001b[39;49;00m, \u001b[33m'\u001b[39;49;00m\u001b[33mprice\u001b[39;49;00m\u001b[33m'\u001b[39;49;00m]]\u001b[90m\u001b[39;49;00m\n",
            "        actual_df = build_indep_vars(df, [\u001b[33m'\u001b[39;49;00m\u001b[33mcarat\u001b[39;49;00m\u001b[33m'\u001b[39;49;00m, \u001b[33m'\u001b[39;49;00m\u001b[33mclarity\u001b[39;49;00m\u001b[33m'\u001b[39;49;00m, \u001b[33m'\u001b[39;49;00m\u001b[33mcolor\u001b[39;49;00m\u001b[33m'\u001b[39;49;00m],\u001b[90m\u001b[39;49;00m\n",
            "                                          categorical_vars=[\u001b[33m'\u001b[39;49;00m\u001b[33mclarity\u001b[39;49;00m\u001b[33m'\u001b[39;49;00m, \u001b[33m'\u001b[39;49;00m\u001b[33mcolor\u001b[39;49;00m\u001b[33m'\u001b[39;49;00m],\u001b[90m\u001b[39;49;00m\n",
            "                                          keep_intermediate=\u001b[94mFalse\u001b[39;49;00m,\u001b[90m\u001b[39;49;00m\n",
            "                                          summarizer=\u001b[94mTrue\u001b[39;49;00m)\u001b[90m\u001b[39;49;00m\n",
            "    \u001b[90m\u001b[39;49;00m\n",
            ">       assert_diamond_has_expected_price(actual_df)\u001b[90m\u001b[39;49;00m\n",
            "\n",
            "\u001b[1m\u001b[31m<ipython-input-71-b5d8f519d358>\u001b[0m:25: \n",
            "_ _ _ _ _ _ _ _ _ _ _ _ _ _ _ _ _ _ _ _ _ _ _ _ _ _ _ _ _ _ _ _ _ _ _ _ _ _ _ _ _ _ _ _ _ _ _ _ _ _ \n",
            "\u001b[1m\u001b[31m<ipython-input-71-b5d8f519d358>\u001b[0m:8: in assert_diamond_has_expected_price\n",
            "    assert_column_equality(actual_df, \u001b[33m'\u001b[39;49;00m\u001b[33mprice\u001b[39;49;00m\u001b[33m'\u001b[39;49;00m, \u001b[33m'\u001b[39;49;00m\u001b[33mexpected_price\u001b[39;49;00m\u001b[33m'\u001b[39;49;00m)\u001b[90m\u001b[39;49;00m\n",
            "_ _ _ _ _ _ _ _ _ _ _ _ _ _ _ _ _ _ _ _ _ _ _ _ _ _ _ _ _ _ _ _ _ _ _ _ _ _ _ _ _ _ _ _ _ _ _ _ _ _ \n",
            "\n",
            "df = DataFrame[id: string, carat: double, clarity: string, color: string, price: double, clarity_index: double, color_index: double, indep_vars: vector, expected_price: double]\n",
            "col_name1 = 'price', col_name2 = 'expected_price'\n",
            "\n",
            "    \u001b[94mdef\u001b[39;49;00m \u001b[92massert_column_equality\u001b[39;49;00m(df, col_name1, col_name2):\u001b[90m\u001b[39;49;00m\n",
            "        elements = df.select(col_name1, col_name2).collect()\u001b[90m\u001b[39;49;00m\n",
            "        colName1Elements = \u001b[96mlist\u001b[39;49;00m(\u001b[96mmap\u001b[39;49;00m(\u001b[94mlambda\u001b[39;49;00m x: x[\u001b[94m0\u001b[39;49;00m], elements))\u001b[90m\u001b[39;49;00m\n",
            "        colName2Elements = \u001b[96mlist\u001b[39;49;00m(\u001b[96mmap\u001b[39;49;00m(\u001b[94mlambda\u001b[39;49;00m x: x[\u001b[94m1\u001b[39;49;00m], elements))\u001b[90m\u001b[39;49;00m\n",
            "        \u001b[94mif\u001b[39;49;00m colName1Elements != colName2Elements:\u001b[90m\u001b[39;49;00m\n",
            "            zipped = \u001b[96mlist\u001b[39;49;00m(\u001b[96mzip\u001b[39;49;00m(colName1Elements, colName2Elements))\u001b[90m\u001b[39;49;00m\n",
            "            t = PrettyTable([col_name1, col_name2])\u001b[90m\u001b[39;49;00m\n",
            "            \u001b[94mfor\u001b[39;49;00m elements \u001b[95min\u001b[39;49;00m zipped:\u001b[90m\u001b[39;49;00m\n",
            "                \u001b[94mif\u001b[39;49;00m elements[\u001b[94m0\u001b[39;49;00m] == elements[\u001b[94m1\u001b[39;49;00m]:\u001b[90m\u001b[39;49;00m\n",
            "                    first = bcolors.LightBlue + \u001b[96mstr\u001b[39;49;00m(elements[\u001b[94m0\u001b[39;49;00m]) + bcolors.LightRed\u001b[90m\u001b[39;49;00m\n",
            "                    second = bcolors.LightBlue + \u001b[96mstr\u001b[39;49;00m(elements[\u001b[94m1\u001b[39;49;00m]) + bcolors.LightRed\u001b[90m\u001b[39;49;00m\n",
            "                    t.add_row([first, second])\u001b[90m\u001b[39;49;00m\n",
            "                \u001b[94melse\u001b[39;49;00m:\u001b[90m\u001b[39;49;00m\n",
            "                    t.add_row([\u001b[96mstr\u001b[39;49;00m(elements[\u001b[94m0\u001b[39;49;00m]), \u001b[96mstr\u001b[39;49;00m(elements[\u001b[94m1\u001b[39;49;00m])])\u001b[90m\u001b[39;49;00m\n",
            ">           \u001b[94mraise\u001b[39;49;00m ColumnsNotEqualError(\u001b[33m\"\u001b[39;49;00m\u001b[33m\\n\u001b[39;49;00m\u001b[33m\"\u001b[39;49;00m + t.get_string())\u001b[90m\u001b[39;49;00m\n",
            "\u001b[1m\u001b[31mE           chispa.column_comparer.ColumnsNotEqualError: \u001b[0m\n",
            "\u001b[1m\u001b[31mE           +--------+----------------+\u001b[0m\n",
            "\u001b[1m\u001b[31mE           | price  | expected_price |\u001b[0m\n",
            "\u001b[1m\u001b[31mE           +--------+----------------+\u001b[0m\n",
            "\u001b[1m\u001b[31mE           | 2777.0 |     2460.0     |\u001b[0m\n",
            "\u001b[1m\u001b[31mE           +--------+----------------+\u001b[0m\n",
            "\n",
            "\u001b[1m\u001b[31m/usr/local/lib/python3.10/dist-packages/chispa/column_comparer.py\u001b[0m:24: ColumnsNotEqualError\n",
            "\u001b[36m\u001b[1m===================================== short test summary info ======================================\u001b[0m\n",
            "\u001b[31mFAILED\u001b[0m t_792e1f981ba74dd7b5b3b3bb63f7a733.py::\u001b[1mtest_null_price_is_replaced_based_on_cut_clarity_and_color\u001b[0m - chispa.column_comparer.ColumnsNotEqualError: \n"
          ]
        }
      ]
    },
    {
      "cell_type": "markdown",
      "source": [
        "#### The Original Test"
      ],
      "metadata": {
        "id": "MMVXW7E7gNBw"
      }
    },
    {
      "cell_type": "code",
      "source": [
        "%%ipytest -qq\n",
        "from pyspark.sql import SparkSession\n",
        "\n",
        "def test_will_do_the_right_thing(spark: SparkSession):\n",
        "    diamonds_df = create_df_from_json(\"tests/fixtures/diamonds.json\", spark)\n",
        "\n",
        "    actual_df = transform(diamonds_df)\n",
        "    assert data_frame_to_json(actual_df) == expected_json(\"expected_correct.json\")"
      ],
      "metadata": {
        "id": "S50HLHD9gALp",
        "colab": {
          "base_uri": "https://localhost:8080/"
        },
        "outputId": "336a3a1d-53c3-433a-e3f0-292f8894445d"
      },
      "execution_count": null,
      "outputs": [
        {
          "output_type": "stream",
          "name": "stdout",
          "text": [
            "\u001b[31mF\u001b[0m\u001b[31m                                                                                            [100%]\u001b[0m\n",
            "============================================= FAILURES =============================================\n",
            "\u001b[31m\u001b[1m___________________________________ test_will_do_the_right_thing ___________________________________\u001b[0m\n",
            "\n",
            "spark = <pyspark.sql.session.SparkSession object at 0x78015ae0d390>\n",
            "\n",
            "    \u001b[94mdef\u001b[39;49;00m \u001b[92mtest_will_do_the_right_thing\u001b[39;49;00m(spark: SparkSession):\u001b[90m\u001b[39;49;00m\n",
            "        diamonds_df = create_df_from_json(\u001b[33m\"\u001b[39;49;00m\u001b[33mtests/fixtures/diamonds.json\u001b[39;49;00m\u001b[33m\"\u001b[39;49;00m, spark)\u001b[90m\u001b[39;49;00m\n",
            "    \u001b[90m\u001b[39;49;00m\n",
            "        actual_df = transform(diamonds_df)\u001b[90m\u001b[39;49;00m\n",
            ">       \u001b[94massert\u001b[39;49;00m data_frame_to_json(actual_df) == expected_json(\u001b[33m\"\u001b[39;49;00m\u001b[33mexpected_correct.json\u001b[39;49;00m\u001b[33m\"\u001b[39;49;00m)\u001b[90m\u001b[39;49;00m\n",
            "\u001b[1m\u001b[31mE       AssertionError: assert [{'carat': 0....G', ...}, ...] == [{'carat': 0....G', ...}, ...]\u001b[0m\n",
            "\u001b[1m\u001b[31mE         At index 1 diff: {'id': 'DI-26', 'carat': 0.21, 'clarity': 'VVS1', 'color': 'D', 'price': 3333.0, 'clarity_index': 0.0, 'color_index': 0.0, 'indep_vars': {'type': 0, 'size': 7, 'indices': [0, 1, 4], 'values': [0.21, 1.0, 1.0]}} != {'id': 'DI-26', 'carat': 0.21, 'clarity': 'VVS1', 'color': 'D', 'price': 2690.0, 'clarity_index': 0.0, 'color_index': 0.0, 'indep_vars': {'type': 0, 'size': 7, 'indices': [0, 1, 4], 'values': [0.21, 1.0, 1.0]}}\u001b[0m\n",
            "\u001b[1m\u001b[31mE         Use -v to get more diff\u001b[0m\n",
            "\n",
            "\u001b[1m\u001b[31m<ipython-input-72-e9ec4e9326c8>\u001b[0m:7: AssertionError\n",
            "--------------------------------------- Captured stdout call ---------------------------------------\n",
            "[{'id': '1', 'carat': 0.23, 'clarity': 'SI2', 'color': 'E', 'price': 326.0, 'clarity_index': 3.0, 'color_index': 1.0, 'indep_vars': {'type': 0, 'size': 7, 'indices': [0, 5], 'values': [0.23, 1.0]}}, {'id': 'DI-26', 'carat': 0.21, 'clarity': 'VVS1', 'color': 'D', 'price': 3333.0, 'clarity_index': 0.0, 'color_index': 0.0, 'indep_vars': {'type': 0, 'size': 7, 'indices': [0, 1, 4], 'values': [0.21, 1.0, 1.0]}}, {'id': 'DI-26', 'carat': 0.21, 'clarity': 'VVS1', 'color': 'D', 'price': 3333.0, 'clarity_index': 0.0, 'color_index': 0.0, 'indep_vars': {'type': 0, 'size': 7, 'indices': [0, 1, 4], 'values': [0.21, 1.0, 1.0]}}, {'id': 'DI-26-null-price', 'carat': 0.21, 'clarity': 'VVS1', 'color': 'D', 'price': 2777.0, 'clarity_index': 0.0, 'color_index': 0.0, 'indep_vars': {'type': 0, 'size': 7, 'indices': [0, 1, 4], 'values': [0.21, 1.0, 1.0]}}, {'id': 'DI-27', 'carat': 0.21, 'clarity': 'VVS1', 'color': 'D', 'price': 2692.0, 'clarity_index': 0.0, 'color_index': 0.0, 'indep_vars': {'type': 0, 'size': 7, 'indices': [0, 1, 4], 'values': [0.21, 1.0, 1.0]}}, {'id': 'DI-28', 'carat': 0.21, 'clarity': 'VVS1', 'color': 'G', 'price': 1665.0, 'clarity_index': 0.0, 'color_index': 3.0, 'indep_vars': {'type': 0, 'size': 7, 'indices': [0, 1], 'values': [0.21, 1.0]}}, {'id': 'DI-30', 'carat': 0.32, 'clarity': 'I1', 'color': 'D', 'price': 345.0, 'clarity_index': 1.0, 'color_index': 0.0, 'indep_vars': {'type': 0, 'size': 7, 'indices': [0, 2, 4], 'values': [0.32, 1.0, 1.0]}}, {'id': 'minimum_inputs', 'carat': 0.23, 'clarity': 'SI1', 'color': 'F', 'clarity_index': 2.0, 'color_index': 2.0, 'indep_vars': {'type': 0, 'size': 7, 'indices': [0, 3, 6], 'values': [0.23, 1.0, 1.0]}}]\n",
            "\u001b[36m\u001b[1m===================================== short test summary info ======================================\u001b[0m\n",
            "\u001b[31mFAILED\u001b[0m t_792e1f981ba74dd7b5b3b3bb63f7a733.py::\u001b[1mtest_will_do_the_right_thing\u001b[0m - AssertionError: assert [{'carat': 0....G', ...}, ...] == [{'carat': 0....G', ...}, ...]\n"
          ]
        }
      ]
    },
    {
      "cell_type": "markdown",
      "source": [
        "## Step 3.C Let's fix the bug!\n"
      ],
      "metadata": {
        "id": "H3kdrtuBEbcC"
      }
    },
    {
      "cell_type": "markdown",
      "source": [
        "### Instructions\n",
        "\n",
        "**Our Bug**: Diamonds of the same cut and clarity are influencing the calculated price of diamonds with a different color. Only diamonds with the same cut, clarity and color should be influencing the calculated price for diamonds with a null price.\n",
        "\n",
        "**Our Desired Behaviour**:  \n",
        "The input diamond with these properties:\n",
        "- id: `\"DI-26-null-price\"`\n",
        "- cut: `\"Good\"`\n",
        "- color: `\"D\"`\n",
        "- clarity: `\"VVS1\"`\n",
        "- price: `null`\n",
        "\n",
        "Should be output with a price of `3333.0` - the average price of the other diamonds with `cut=\"Good\"`, `clarity=\"VVS1\"` and `color=\"D\"`\n",
        "\n",
        "**Fix the bug**\n",
        "#### Test for the behaviour you actually want\n",
        "- [ ] Update your test so that it checks for the good behaviour.  \n",
        "Replace the expected price on this line with `3333.0`:  \n",
        "```\n",
        "actual_df=actual_df.withColumn('expected_price', lit(2460.0))\n",
        "```\n",
        "- [ ] Run your test. It should fail with a `columnsNotEqualError`:  \n",
        "```\n",
        "E           chispa.column_comparer.ColumnsNotEqualError:\n",
        "E           +------------+----------------+\n",
        "E           | moving_avg | expected_price |\n",
        "E           +------------+----------------+\n",
        "E           |   2460.0   |     3333.0     |\n",
        "E           +------------+----------------+\n",
        "```\n",
        "\n",
        "#### Fix the bug\n",
        "- [ ] Fix the code _in your test_ so that the bug is gone. We need to add `'color'` to `'cut'` and `'clarity'` on this line:\n",
        "```\n",
        "window = Window.partitionBy('cut', 'clarity').orderBy('price').rowsBetween(-3, 3)\n",
        "```\n",
        "- [ ] Run your test. It should pass.\n",
        "\n",
        "#### Encapsulate the code necessary for the behaviour\n",
        "- [ ] The behaviour belongs to a group of lines working together. Extract them into a method.  \n",
        "These lines can't be separated without changing the behaviour we are testing:  \n",
        "```\n",
        "    window = Window.partitionBy('cut', 'clarity', 'color').orderBy('price').rowsBetween(-3, 3)\n",
        "    moving_avg = mean(df['price']).over(window)\n",
        "    df = df.withColumn('moving_avg', moving_avg)\n",
        "    df = df.withColumn('price', when(df.price.isNull(), df.moving_avg).otherwise(df.price))\n",
        "```  \n",
        "Use them to make a method:\n",
        "```\n",
        "def calculate_avg_price_for_similar_diamonds(df: DataFrame) -> DataFrame:\n",
        "      window = Window.partitionBy('cut', 'clarity', 'color').orderBy('price').rowsBetween(-3, 3)\n",
        "      moving_avg = mean(df['price']).over(window)\n",
        "      df = df.withColumn('moving_avg', moving_avg)\n",
        "      df = df.withColumn('price', when(df.price.isNull(), df.moving_avg).otherwise(df.price))\n",
        "      return df\n",
        "```\n",
        "\n",
        "Replace those lines with a call to the new method in your test:  \n",
        "```\n",
        "actual_df = calculate_avg_price_for_similar_diamonds(actual_df)\n",
        "```\n",
        "- [ ] Run your test. It should pass.\n",
        "\n",
        "#### Move the encapsulated behaviour to the actual code\n",
        "- [ ] Move the new method out of your test and into the transform code.\n",
        "- [ ] Replace the lines in your transform code with the new method call.\n",
        "- [ ] We've changed the original code, so we need to check that everything still works the way we expect. Run the copy of your original large test. It should also pass.\n",
        "- [ ] Run your test. It should pass.\n"
      ],
      "metadata": {
        "id": "mL_lKfL-fdgh"
      }
    },
    {
      "cell_type": "markdown",
      "source": [
        "### Exercise"
      ],
      "metadata": {
        "id": "mNb7r0copJ3X"
      }
    },
    {
      "cell_type": "markdown",
      "source": [
        "#### The Code"
      ],
      "metadata": {
        "id": "69ahdJEigJD7"
      }
    },
    {
      "cell_type": "markdown",
      "source": [
        "##### The `transform` Function"
      ],
      "metadata": {
        "id": "aS6CsJ4IgJEJ"
      }
    },
    {
      "cell_type": "code",
      "source": [
        "from pyspark.sql import DataFrame, Window, Column\n",
        "from pyspark.sql.functions import log, when, mean, col\n",
        "\n",
        "\n",
        "def transform(df: DataFrame) -> DataFrame:\n",
        "\n",
        "    df = df.withColumn('lprice', log('price'))\n",
        "    #THIS IS WHERE THE BEHAVIOUR WE CARE ABOUT STARTS - REPLACE THIS BLOCK\n",
        "    window = Window.partitionBy('cut', 'clarity').orderBy('price').rowsBetween(-3, 3)\n",
        "    moving_avg = mean(df['price']).over(window)\n",
        "    df = df.withColumn('moving_avg', moving_avg)\n",
        "\n",
        "    df = df.withColumn('price', when(df.price.isNull(), df.moving_avg).otherwise(df.price))\n",
        "    #THIS IS WHERE THE BEHAVIOUR WE CARE ABOUT ENDS - REPLACE THIS BLOCK\n",
        "    df = df[['id', 'carat', 'clarity', 'color', 'price']]\n",
        "    df = build_indep_vars(df, ['carat', 'clarity', 'color'],\n",
        "                                      categorical_vars=['clarity', 'color'],\n",
        "                                      keep_intermediate=False,\n",
        "                                      summarizer=True)\n",
        "    return df"
      ],
      "metadata": {
        "id": "JkEX3fPYgJEJ"
      },
      "execution_count": null,
      "outputs": []
    },
    {
      "cell_type": "markdown",
      "source": [
        "#### The Test"
      ],
      "metadata": {
        "id": "6ChzdpcnfiMZ"
      }
    },
    {
      "cell_type": "code",
      "source": [
        "%%ipytest -qq\n",
        "from pyspark.sql import SparkSession, DataFrame, Window, Column\n",
        "from pyspark.sql.functions import lit, log, when, mean, col\n",
        "from chispa import assert_column_equality\n",
        "\n",
        "def assert_diamond_has_expected_price(actual_df: DataFrame) -> None:\n",
        "    actual_df=actual_df.filter(actual_df.id == 'DI-26-null-price')\n",
        "    actual_df=actual_df.withColumn('expected_price', lit(2460.0))\n",
        "    assert_column_equality(actual_df, 'price', 'expected_price')\n",
        "\n",
        "def test_null_price_is_replaced_based_on_cut_clarity_and_color(spark: SparkSession):\n",
        "    diamonds_df = create_df_from_json(\"tests/fixtures/diamonds.json\", spark)\n",
        "\n",
        "    df = diamonds_df.withColumn('lprice', log('price'))\n",
        "\n",
        "    #THIS IS WHERE THE BEHAVIOUR WE CARE ABOUT STARTS - EXTRACT THIS BLOCK\n",
        "    window = Window.partitionBy('cut', 'clarity').orderBy('price').rowsBetween(-3, 3)\n",
        "    moving_avg = mean(df['price']).over(window)\n",
        "    df = df.withColumn('moving_avg', moving_avg)\n",
        "    df = df.withColumn('price', when(df.price.isNull(), df.moving_avg).otherwise(df.price))\n",
        "    #THIS IS WHERE THE BEHAVIOUR WE CARE ABOUT ENDS\n",
        "\n",
        "    assert_diamond_has_expected_price(df)\n",
        "\n",
        "\n",
        "\n"
      ],
      "metadata": {
        "outputId": "9582519c-1f18-413d-8aaa-07a4a604daec",
        "colab": {
          "base_uri": "https://localhost:8080/"
        },
        "id": "GsPa000oHob3"
      },
      "execution_count": null,
      "outputs": [
        {
          "output_type": "stream",
          "name": "stdout",
          "text": [
            "\u001b[31mF\u001b[0m\u001b[31m                                                                                            [100%]\u001b[0m\n",
            "============================================= FAILURES =============================================\n",
            "\u001b[31m\u001b[1m____________________ test_null_price_is_replaced_based_on_cut_clarity_and_color ____________________\u001b[0m\n",
            "\n",
            "spark = <pyspark.sql.session.SparkSession object at 0x78015aa9e4d0>\n",
            "\n",
            "    \u001b[94mdef\u001b[39;49;00m \u001b[92mtest_null_price_is_replaced_based_on_cut_clarity_and_color\u001b[39;49;00m(spark: SparkSession):\u001b[90m\u001b[39;49;00m\n",
            "        diamonds_df = create_df_from_json(\u001b[33m\"\u001b[39;49;00m\u001b[33mtests/fixtures/diamonds.json\u001b[39;49;00m\u001b[33m\"\u001b[39;49;00m, spark)\u001b[90m\u001b[39;49;00m\n",
            "    \u001b[90m\u001b[39;49;00m\n",
            "        df = diamonds_df.withColumn(\u001b[33m'\u001b[39;49;00m\u001b[33mlprice\u001b[39;49;00m\u001b[33m'\u001b[39;49;00m, log(\u001b[33m'\u001b[39;49;00m\u001b[33mprice\u001b[39;49;00m\u001b[33m'\u001b[39;49;00m))\u001b[90m\u001b[39;49;00m\n",
            "    \u001b[90m\u001b[39;49;00m\n",
            "        \u001b[90m#THIS IS WHERE THE BEHAVIOUR WE CARE ABOUT STARTS - EXTRACT THIS BLOCK\u001b[39;49;00m\u001b[90m\u001b[39;49;00m\n",
            "        window = Window.partitionBy(\u001b[33m'\u001b[39;49;00m\u001b[33mcut\u001b[39;49;00m\u001b[33m'\u001b[39;49;00m, \u001b[33m'\u001b[39;49;00m\u001b[33mclarity\u001b[39;49;00m\u001b[33m'\u001b[39;49;00m).orderBy(\u001b[33m'\u001b[39;49;00m\u001b[33mprice\u001b[39;49;00m\u001b[33m'\u001b[39;49;00m).rowsBetween(-\u001b[94m3\u001b[39;49;00m, \u001b[94m3\u001b[39;49;00m)\u001b[90m\u001b[39;49;00m\n",
            "        moving_avg = mean(df[\u001b[33m'\u001b[39;49;00m\u001b[33mprice\u001b[39;49;00m\u001b[33m'\u001b[39;49;00m]).over(window)\u001b[90m\u001b[39;49;00m\n",
            "        df = df.withColumn(\u001b[33m'\u001b[39;49;00m\u001b[33mmoving_avg\u001b[39;49;00m\u001b[33m'\u001b[39;49;00m, moving_avg)\u001b[90m\u001b[39;49;00m\n",
            "        df = df.withColumn(\u001b[33m'\u001b[39;49;00m\u001b[33mprice\u001b[39;49;00m\u001b[33m'\u001b[39;49;00m, when(df.price.isNull(), df.moving_avg).otherwise(df.price))\u001b[90m\u001b[39;49;00m\n",
            "        \u001b[90m#THIS IS WHERE THE BEHAVIOUR WE CARE ABOUT ENDS\u001b[39;49;00m\u001b[90m\u001b[39;49;00m\n",
            "    \u001b[90m\u001b[39;49;00m\n",
            ">       assert_diamond_has_expected_price(df)\u001b[90m\u001b[39;49;00m\n",
            "\n",
            "\u001b[1m\u001b[31m<ipython-input-74-49b4676f471a>\u001b[0m:22: \n",
            "_ _ _ _ _ _ _ _ _ _ _ _ _ _ _ _ _ _ _ _ _ _ _ _ _ _ _ _ _ _ _ _ _ _ _ _ _ _ _ _ _ _ _ _ _ _ _ _ _ _ \n",
            "\u001b[1m\u001b[31m<ipython-input-74-49b4676f471a>\u001b[0m:8: in assert_diamond_has_expected_price\n",
            "    assert_column_equality(actual_df, \u001b[33m'\u001b[39;49;00m\u001b[33mprice\u001b[39;49;00m\u001b[33m'\u001b[39;49;00m, \u001b[33m'\u001b[39;49;00m\u001b[33mexpected_price\u001b[39;49;00m\u001b[33m'\u001b[39;49;00m)\u001b[90m\u001b[39;49;00m\n",
            "_ _ _ _ _ _ _ _ _ _ _ _ _ _ _ _ _ _ _ _ _ _ _ _ _ _ _ _ _ _ _ _ _ _ _ _ _ _ _ _ _ _ _ _ _ _ _ _ _ _ \n",
            "\n",
            "df = DataFrame[carat: double, clarity: string, color: string, cut: string, depth: double, id: string, price: double, table: bigint, x: double, y: double, z: double, lprice: double, moving_avg: double, expected_price: double]\n",
            "col_name1 = 'price', col_name2 = 'expected_price'\n",
            "\n",
            "    \u001b[94mdef\u001b[39;49;00m \u001b[92massert_column_equality\u001b[39;49;00m(df, col_name1, col_name2):\u001b[90m\u001b[39;49;00m\n",
            "        elements = df.select(col_name1, col_name2).collect()\u001b[90m\u001b[39;49;00m\n",
            "        colName1Elements = \u001b[96mlist\u001b[39;49;00m(\u001b[96mmap\u001b[39;49;00m(\u001b[94mlambda\u001b[39;49;00m x: x[\u001b[94m0\u001b[39;49;00m], elements))\u001b[90m\u001b[39;49;00m\n",
            "        colName2Elements = \u001b[96mlist\u001b[39;49;00m(\u001b[96mmap\u001b[39;49;00m(\u001b[94mlambda\u001b[39;49;00m x: x[\u001b[94m1\u001b[39;49;00m], elements))\u001b[90m\u001b[39;49;00m\n",
            "        \u001b[94mif\u001b[39;49;00m colName1Elements != colName2Elements:\u001b[90m\u001b[39;49;00m\n",
            "            zipped = \u001b[96mlist\u001b[39;49;00m(\u001b[96mzip\u001b[39;49;00m(colName1Elements, colName2Elements))\u001b[90m\u001b[39;49;00m\n",
            "            t = PrettyTable([col_name1, col_name2])\u001b[90m\u001b[39;49;00m\n",
            "            \u001b[94mfor\u001b[39;49;00m elements \u001b[95min\u001b[39;49;00m zipped:\u001b[90m\u001b[39;49;00m\n",
            "                \u001b[94mif\u001b[39;49;00m elements[\u001b[94m0\u001b[39;49;00m] == elements[\u001b[94m1\u001b[39;49;00m]:\u001b[90m\u001b[39;49;00m\n",
            "                    first = bcolors.LightBlue + \u001b[96mstr\u001b[39;49;00m(elements[\u001b[94m0\u001b[39;49;00m]) + bcolors.LightRed\u001b[90m\u001b[39;49;00m\n",
            "                    second = bcolors.LightBlue + \u001b[96mstr\u001b[39;49;00m(elements[\u001b[94m1\u001b[39;49;00m]) + bcolors.LightRed\u001b[90m\u001b[39;49;00m\n",
            "                    t.add_row([first, second])\u001b[90m\u001b[39;49;00m\n",
            "                \u001b[94melse\u001b[39;49;00m:\u001b[90m\u001b[39;49;00m\n",
            "                    t.add_row([\u001b[96mstr\u001b[39;49;00m(elements[\u001b[94m0\u001b[39;49;00m]), \u001b[96mstr\u001b[39;49;00m(elements[\u001b[94m1\u001b[39;49;00m])])\u001b[90m\u001b[39;49;00m\n",
            ">           \u001b[94mraise\u001b[39;49;00m ColumnsNotEqualError(\u001b[33m\"\u001b[39;49;00m\u001b[33m\\n\u001b[39;49;00m\u001b[33m\"\u001b[39;49;00m + t.get_string())\u001b[90m\u001b[39;49;00m\n",
            "\u001b[1m\u001b[31mE           chispa.column_comparer.ColumnsNotEqualError: \u001b[0m\n",
            "\u001b[1m\u001b[31mE           +--------+----------------+\u001b[0m\n",
            "\u001b[1m\u001b[31mE           | price  | expected_price |\u001b[0m\n",
            "\u001b[1m\u001b[31mE           +--------+----------------+\u001b[0m\n",
            "\u001b[1m\u001b[31mE           | 2777.0 |     2460.0     |\u001b[0m\n",
            "\u001b[1m\u001b[31mE           +--------+----------------+\u001b[0m\n",
            "\n",
            "\u001b[1m\u001b[31m/usr/local/lib/python3.10/dist-packages/chispa/column_comparer.py\u001b[0m:24: ColumnsNotEqualError\n",
            "\u001b[36m\u001b[1m===================================== short test summary info ======================================\u001b[0m\n",
            "\u001b[31mFAILED\u001b[0m t_792e1f981ba74dd7b5b3b3bb63f7a733.py::\u001b[1mtest_null_price_is_replaced_based_on_cut_clarity_and_color\u001b[0m - chispa.column_comparer.ColumnsNotEqualError: \n"
          ]
        }
      ]
    },
    {
      "cell_type": "markdown",
      "source": [
        "#### The Original Test"
      ],
      "metadata": {
        "id": "jqDYqIPxriN5"
      }
    },
    {
      "cell_type": "code",
      "source": [
        "%%ipytest -qq\n",
        "from pyspark.sql import SparkSession\n",
        "\n",
        "def test_will_do_the_right_thing(spark: SparkSession):\n",
        "    diamonds_df = create_df_from_json(\"tests/fixtures/diamonds.json\", spark)\n",
        "\n",
        "    actual_df = transform(diamonds_df)\n",
        "    assert data_frame_to_json(actual_df) == expected_json(\"expected_correct.json\")"
      ],
      "metadata": {
        "id": "kVhgeRJEriOG",
        "colab": {
          "base_uri": "https://localhost:8080/"
        },
        "outputId": "5f5a9a1c-d172-46b4-907a-d2d56d65d350"
      },
      "execution_count": null,
      "outputs": [
        {
          "output_type": "stream",
          "name": "stdout",
          "text": [
            "\u001b[31mF\u001b[0m\u001b[31m                                                                                            [100%]\u001b[0m\n",
            "============================================= FAILURES =============================================\n",
            "\u001b[31m\u001b[1m___________________________________ test_will_do_the_right_thing ___________________________________\u001b[0m\n",
            "\n",
            "spark = <pyspark.sql.session.SparkSession object at 0x78015a824160>\n",
            "\n",
            "    \u001b[94mdef\u001b[39;49;00m \u001b[92mtest_will_do_the_right_thing\u001b[39;49;00m(spark: SparkSession):\u001b[90m\u001b[39;49;00m\n",
            "        diamonds_df = create_df_from_json(\u001b[33m\"\u001b[39;49;00m\u001b[33mtests/fixtures/diamonds.json\u001b[39;49;00m\u001b[33m\"\u001b[39;49;00m, spark)\u001b[90m\u001b[39;49;00m\n",
            "    \u001b[90m\u001b[39;49;00m\n",
            "        actual_df = transform(diamonds_df)\u001b[90m\u001b[39;49;00m\n",
            ">       \u001b[94massert\u001b[39;49;00m data_frame_to_json(actual_df) == expected_json(\u001b[33m\"\u001b[39;49;00m\u001b[33mexpected_correct.json\u001b[39;49;00m\u001b[33m\"\u001b[39;49;00m)\u001b[90m\u001b[39;49;00m\n",
            "\u001b[1m\u001b[31mE       AssertionError: assert [{'carat': 0....G', ...}, ...] == [{'carat': 0....G', ...}, ...]\u001b[0m\n",
            "\u001b[1m\u001b[31mE         At index 1 diff: {'id': 'DI-26', 'carat': 0.21, 'clarity': 'VVS1', 'color': 'D', 'price': 3333.0, 'clarity_index': 0.0, 'color_index': 0.0, 'indep_vars': {'type': 0, 'size': 7, 'indices': [0, 1, 4], 'values': [0.21, 1.0, 1.0]}} != {'id': 'DI-26', 'carat': 0.21, 'clarity': 'VVS1', 'color': 'D', 'price': 2690.0, 'clarity_index': 0.0, 'color_index': 0.0, 'indep_vars': {'type': 0, 'size': 7, 'indices': [0, 1, 4], 'values': [0.21, 1.0, 1.0]}}\u001b[0m\n",
            "\u001b[1m\u001b[31mE         Use -v to get more diff\u001b[0m\n",
            "\n",
            "\u001b[1m\u001b[31m<ipython-input-75-e9ec4e9326c8>\u001b[0m:7: AssertionError\n",
            "--------------------------------------- Captured stdout call ---------------------------------------\n",
            "[{'id': '1', 'carat': 0.23, 'clarity': 'SI2', 'color': 'E', 'price': 326.0, 'clarity_index': 3.0, 'color_index': 1.0, 'indep_vars': {'type': 0, 'size': 7, 'indices': [0, 5], 'values': [0.23, 1.0]}}, {'id': 'DI-26', 'carat': 0.21, 'clarity': 'VVS1', 'color': 'D', 'price': 3333.0, 'clarity_index': 0.0, 'color_index': 0.0, 'indep_vars': {'type': 0, 'size': 7, 'indices': [0, 1, 4], 'values': [0.21, 1.0, 1.0]}}, {'id': 'DI-26', 'carat': 0.21, 'clarity': 'VVS1', 'color': 'D', 'price': 3333.0, 'clarity_index': 0.0, 'color_index': 0.0, 'indep_vars': {'type': 0, 'size': 7, 'indices': [0, 1, 4], 'values': [0.21, 1.0, 1.0]}}, {'id': 'DI-26-null-price', 'carat': 0.21, 'clarity': 'VVS1', 'color': 'D', 'price': 2777.0, 'clarity_index': 0.0, 'color_index': 0.0, 'indep_vars': {'type': 0, 'size': 7, 'indices': [0, 1, 4], 'values': [0.21, 1.0, 1.0]}}, {'id': 'DI-27', 'carat': 0.21, 'clarity': 'VVS1', 'color': 'D', 'price': 2692.0, 'clarity_index': 0.0, 'color_index': 0.0, 'indep_vars': {'type': 0, 'size': 7, 'indices': [0, 1, 4], 'values': [0.21, 1.0, 1.0]}}, {'id': 'DI-28', 'carat': 0.21, 'clarity': 'VVS1', 'color': 'G', 'price': 1665.0, 'clarity_index': 0.0, 'color_index': 3.0, 'indep_vars': {'type': 0, 'size': 7, 'indices': [0, 1], 'values': [0.21, 1.0]}}, {'id': 'DI-30', 'carat': 0.32, 'clarity': 'I1', 'color': 'D', 'price': 345.0, 'clarity_index': 1.0, 'color_index': 0.0, 'indep_vars': {'type': 0, 'size': 7, 'indices': [0, 2, 4], 'values': [0.32, 1.0, 1.0]}}, {'id': 'minimum_inputs', 'carat': 0.23, 'clarity': 'SI1', 'color': 'F', 'clarity_index': 2.0, 'color_index': 2.0, 'indep_vars': {'type': 0, 'size': 7, 'indices': [0, 3, 6], 'values': [0.23, 1.0, 1.0]}}]\n",
            "\u001b[36m\u001b[1m===================================== short test summary info ======================================\u001b[0m\n",
            "\u001b[31mFAILED\u001b[0m t_792e1f981ba74dd7b5b3b3bb63f7a733.py::\u001b[1mtest_will_do_the_right_thing\u001b[0m - AssertionError: assert [{'carat': 0....G', ...}, ...] == [{'carat': 0....G', ...}, ...]\n"
          ]
        }
      ]
    },
    {
      "cell_type": "markdown",
      "source": [
        "# Step 4: Simplify the Top"
      ],
      "metadata": {
        "id": "5K0RWKPdr4fn"
      }
    },
    {
      "cell_type": "markdown",
      "source": [
        "We don't want our test to be reading in the entire diamonds.json file in order to test this single behaviour. We are going to simplify things so that we have the absolute minimum number of inputs we need to reproduce the behaviour."
      ],
      "metadata": {
        "id": "YIx97jGHtDeP"
      }
    },
    {
      "cell_type": "markdown",
      "source": [
        "Instead of reading from a large JSON file directly, we can make a dataframe with only the values we need in order to reproduce the behaviour\n",
        "\n",
        "**our bug**: Diamonds of the same cut and clarity are influencing the calculated price of diamonds with a different color. Only diamonds with the same cut, clarity and color should be influencing the calculated price for diamonds with a null price.\n",
        "\n",
        "**expected behaviour**: An unpriced diamond with cut=Good, color=D and clarity=VVS1 in a dataset with other diamonds of the same cut, clarity and color all priced at 3333.0, will have it's price set to match the average price of those diamonds. It will ignore prices from diamonds with a different color, cut or clarity"
      ],
      "metadata": {
        "id": "xCqZLEY23Fn4"
      }
    },
    {
      "cell_type": "markdown",
      "source": [
        "4A. We are going to be changing our test inputs. let's make sure the ones we need are present."
      ],
      "metadata": {
        "id": "uDBRZaXOHUt8"
      }
    },
    {
      "cell_type": "code",
      "source": [
        "%%ipytest -qq\n",
        "from pyspark.sql import DataFrame, Window\n",
        "from pyspark.sql.functions import lit, log, when, mean\n",
        "from chispa import assert_column_equality\n",
        "\n",
        "### FOR REFERENCE: THIS IS THE CODE WE ARE TESTING #############################\n",
        "def calculate_avg_price_for_similar_diamonds(df: DataFrame) -> DataFrame:\n",
        "    window = Window.partitionBy('cut', 'clarity', 'color').orderBy('price').rowsBetween(-3, 3)\n",
        "    moving_avg = mean(df['price']).over(window)\n",
        "    df = df.withColumn('moving_avg', moving_avg)\n",
        "    df = df.withColumn('price', when(df.price.isNull(), df.moving_avg).otherwise(df.price))\n",
        "    return df\n",
        "################################################################################\n",
        "\n",
        "\n",
        "def check_we_have_all_the_rows_we_need_for_the_behaviour(actual_df):\n",
        "    # print(\"ACTUAL DATAFRAME:\")\n",
        "    # actual_df.show()\n",
        "    actual_df = actual_df.select('id', 'cut', 'clarity', 'color')\n",
        "    # print(\"ACTUAL DATAFRAME(IMPORTANT COLUMNS):\")\n",
        "    # actual_df.show()\n",
        "\n",
        "    wrong_color_df = actual_df.filter((actual_df.cut == 'Good') & (actual_df.clarity == 'VVS1') & (actual_df.color != 'D'))\n",
        "    # print(\"WRONG COLOR DATAFRAME:\")\n",
        "    # wrong_color_df.show()\n",
        "    assert wrong_color_df.count() >= 1\n",
        "    # assert False\n",
        "\n",
        "\n",
        "def assert_diamond_has_expected_price(actual_df: DataFrame) -> None:\n",
        "    check_we_have_all_the_rows_we_need_for_the_behaviour(actual_df)\n",
        "    actual_df=actual_df.filter(actual_df.id == 'DI-26-null-price')\n",
        "    assert actual_df.count() == 1\n",
        "    actual_df=actual_df.withColumn('expected_price', lit(3333.0))\n",
        "    assert_column_equality(actual_df, 'price', 'expected_price')\n",
        "\n",
        "def test_null_price_is_replaced_based_on_cut_clarity_and_color(spark: SparkSession):\n",
        "    diamonds_df = create_df_from_json(\"tests/fixtures/diamonds.json\", spark)\n",
        "\n",
        "    actual_df = diamonds_df.withColumn('lprice', log('price'))  # <-- Delete this line\n",
        "    actual_df = calculate_avg_price_for_similar_diamonds(actual_df) # <-- Change this line to: actual_df = calculate_avg_price_for_similar_diamonds(diamonds_df)\n",
        "\n",
        "    assert_diamond_has_expected_price(actual_df)\n"
      ],
      "metadata": {
        "colab": {
          "base_uri": "https://localhost:8080/"
        },
        "outputId": "6d529d3a-df59-451a-90a2-48b9349330cd",
        "id": "9_PMsYlgHZRi"
      },
      "execution_count": null,
      "outputs": [
        {
          "output_type": "stream",
          "name": "stdout",
          "text": [
            "\u001b[32m.\u001b[0m\u001b[32m                                                                                            [100%]\u001b[0m\n"
          ]
        }
      ]
    },
    {
      "cell_type": "markdown",
      "source": [
        "#### 4.B Create the minimum Inputs needed to reproduce the bug\n",
        "- [ ] Delete the line that reads in from diamonds.json\n",
        "- [ ] Replace it with two lines, one that parses the json text file to a string, and the other that converts the json string to spark\n"
      ],
      "metadata": {
        "id": "MTcFz54o2_i0"
      }
    },
    {
      "cell_type": "code",
      "source": [
        "%%ipytest -qq\n",
        "from pyspark.sql import DataFrame\n",
        "from pyspark.sql.functions import lit, log\n",
        "from chispa import assert_column_equality\n",
        "\n",
        "### FOR REFERENCE: THIS IS THE CODE WE ARE TESTING #############################\n",
        "def calculate_avg_price_for_similar_diamonds(df: DataFrame) -> DataFrame:\n",
        "    window = Window.partitionBy('cut', 'clarity', 'color').orderBy('price').rowsBetween(-3, 3)\n",
        "    moving_avg = mean(df['price']).over(window)\n",
        "    df = df.withColumn('moving_avg', moving_avg)\n",
        "    df = df.withColumn('price', when(df.price.isNull(), df.moving_avg).otherwise(df.price))\n",
        "    return df\n",
        "################################################################################\n",
        "\n",
        "\n",
        "def check_we_have_all_the_rows_we_need_for_the_behaviour(actual_df):\n",
        "    actual_df = actual_df.select('id', 'cut', 'clarity', 'color')\n",
        "\n",
        "    wrong_color_df = actual_df.filter((actual_df.cut == 'Good') & (actual_df.clarity == 'VVS1') & (actual_df.color != 'D'))\n",
        "    assert wrong_color_df.count() >= 1\n",
        "\n",
        "def assert_diamond_has_expected_price(actual_df: DataFrame) -> None:\n",
        "    check_we_have_all_the_rows_we_need_for_the_behaviour(actual_df)\n",
        "    actual_df=actual_df.filter(actual_df.id == 'DI-26-null-price')\n",
        "    assert actual_df.count() == 1\n",
        "    actual_df=actual_df.withColumn('expected_price', lit(3333.0))\n",
        "    assert_column_equality(actual_df, 'price', 'expected_price')\n",
        "\n",
        "def test_null_price_is_replaced_based_on_cut_clarity_and_color(spark: SparkSession):\n",
        "    diamonds_df = create_df_from_json(\"tests/fixtures/diamonds.json\", spark) # <- Delete this line\n",
        "\n",
        "    #json_text = Path(\"./tests/fixtures/diamonds.json\").read_text()\n",
        "    #diamonds_df = spark.read.option(\"multiline\", \"true\").json(spark.sparkContext.parallelize([json_text]))\n",
        "\n",
        "    actual_df = diamonds_df.withColumn('lprice', log('price'))\n",
        "    actual_df = calculate_avg_price_for_similar_diamonds(diamonds_df)\n",
        "\n",
        "    assert_diamond_has_expected_price(actual_df)"
      ],
      "metadata": {
        "colab": {
          "base_uri": "https://localhost:8080/"
        },
        "id": "ZHXKgmUc4dU2",
        "outputId": "d69e5424-f533-4249-c21b-60392ba0159f"
      },
      "execution_count": null,
      "outputs": [
        {
          "output_type": "stream",
          "name": "stdout",
          "text": [
            "\u001b[32m.\u001b[0m\u001b[32m                                                                                            [100%]\u001b[0m\n"
          ]
        }
      ]
    },
    {
      "cell_type": "markdown",
      "source": [
        "4C. Create the minimum Inputs needed to reproduce the bug\n",
        "- [ ] Copy the contents of `tests/fixtures/diamonds.json` to a multiline string.\n",
        "- [ ] Delete the line that reads the input data from a file\n",
        "- [ ] Run your test. It should pass."
      ],
      "metadata": {
        "id": "KGy1pOc4-_S8"
      }
    },
    {
      "cell_type": "code",
      "source": [
        "%%ipytest -qq\n",
        "from pyspark.sql import DataFrame\n",
        "from pyspark.sql.functions import lit, log\n",
        "from chispa import assert_column_equality\n",
        "\n",
        "from pathlib import Path\n",
        "\n",
        "### FOR REFERENCE: THIS IS THE CODE WE ARE TESTING #############################\n",
        "def calculate_avg_price_for_similar_diamonds(df: DataFrame) -> DataFrame:\n",
        "    window = Window.partitionBy('cut', 'clarity', 'color').orderBy('price').rowsBetween(-3, 3)\n",
        "    moving_avg = mean(df['price']).over(window)\n",
        "    df = df.withColumn('moving_avg', moving_avg)\n",
        "    df = df.withColumn('price', when(df.price.isNull(), df.moving_avg).otherwise(df.price))\n",
        "    return df\n",
        "################################################################################\n",
        "\n",
        "def check_we_have_all_the_rows_we_need_for_the_behaviour(actual_df):\n",
        "    actual_df = actual_df.select('id', 'cut', 'clarity', 'color')\n",
        "\n",
        "    wrong_color_df = actual_df.filter((actual_df.cut == 'Good') & (actual_df.clarity == 'VVS1') & (actual_df.color != 'D'))\n",
        "    assert wrong_color_df.count() >= 1\n",
        "\n",
        "def assert_diamond_has_expected_price(actual_df: DataFrame) -> None:\n",
        "    check_we_have_all_the_rows_we_need_for_the_behaviour(actual_df)\n",
        "    actual_df=actual_df.filter(actual_df.id == 'DI-26-null-price')\n",
        "    assert actual_df.count() == 1\n",
        "    actual_df=actual_df.withColumn('expected_price', lit(3333.0))\n",
        "    assert_column_equality(actual_df, 'price', 'expected_price')\n",
        "\n",
        "def test_null_price_is_replaced_based_on_cut_clarity_and_color(spark: SparkSession):\n",
        "    json_text = '''\n",
        "      PASTE CONTENTS OF tests/fixtures/diamonds.json HERE\n",
        "    '''\n",
        "    json_text = Path(\"./tests/fixtures/diamonds.json\").read_text()  # <- DELETE THIS LINE\n",
        "    diamonds_df = spark.read.option(\"multiline\", \"true\").json(spark.sparkContext.parallelize([json_text]))\n",
        "\n",
        "    actual_df = diamonds_df.withColumn('lprice', log('price'))\n",
        "    actual_df = calculate_avg_price_for_similar_diamonds(diamonds_df)\n",
        "\n",
        "    assert_diamond_has_expected_price(actual_df)"
      ],
      "metadata": {
        "colab": {
          "base_uri": "https://localhost:8080/"
        },
        "outputId": "b2451c55-854f-4371-cf59-e99473a32363",
        "id": "Th_x8dR6mKbv"
      },
      "execution_count": null,
      "outputs": [
        {
          "output_type": "stream",
          "name": "stdout",
          "text": [
            "\u001b[32m.\u001b[0m\u001b[32m                                                                                            [100%]\u001b[0m\n"
          ]
        }
      ]
    },
    {
      "cell_type": "markdown",
      "source": [
        "4D. Squeeze the inputs\n",
        "- [ ] Run your test. It should pass.\n",
        "- [ ] Delete the objects from the JSON array one at a time.\n",
        "- [ ] After each deletion, run your test. If it fails, undo the delete\n",
        "- [ ] Move onto the next object\n",
        "- [ ] At the end, you should have the minimum objects needed for our test to test the behaviour\n",
        "\n",
        "**VERY IMPORTANT:** Your test will fail for the wrong reasons if the JSON array ends in a comma.\n",
        "\n",
        "Make sure the last 4 lines of the array always look like this:\n",
        "```\n",
        "    \"z\": null\n",
        "  }\n",
        "]\n",
        "    '''\n",
        " ```\n",
        "\n",
        "NOT this:\n",
        "```\n",
        "    \"z\": null\n",
        "  },\n",
        "]\n",
        "    '''\n",
        "```"
      ],
      "metadata": {
        "id": "AwLe7ZUx_8wR"
      }
    },
    {
      "cell_type": "code",
      "source": [
        "%%ipytest -qq\n",
        "from pyspark.sql import DataFrame\n",
        "from pyspark.sql.functions import lit, log\n",
        "from chispa import assert_column_equality\n",
        "\n",
        "from pathlib import Path\n",
        "\n",
        "### FOR REFERENCE: THIS IS THE CODE WE ARE TESTING #############################\n",
        "def calculate_avg_price_for_similar_diamonds(df: DataFrame) -> DataFrame:\n",
        "    window = Window.partitionBy('cut', 'clarity', 'color').orderBy('price').rowsBetween(-3, 3)\n",
        "    moving_avg = mean(df['price']).over(window)\n",
        "    df = df.withColumn('moving_avg', moving_avg)\n",
        "    df = df.withColumn('price', when(df.price.isNull(), df.moving_avg).otherwise(df.price))\n",
        "    return df\n",
        "################################################################################\n",
        "\n",
        "def check_we_have_all_the_rows_we_need_for_the_behaviour(actual_df):\n",
        "    actual_df = actual_df.select('id', 'cut', 'clarity', 'color')\n",
        "\n",
        "    wrong_color_df = actual_df.filter((actual_df.cut == 'Good') & (actual_df.clarity == 'VVS1') & (actual_df.color != 'D'))\n",
        "    assert wrong_color_df.count() >= 1\n",
        "\n",
        "def assert_diamond_has_expected_price(actual_df: DataFrame) -> None:\n",
        "    check_we_have_all_the_rows_we_need_for_the_behaviour(actual_df)\n",
        "    actual_df=actual_df.filter(actual_df.id == 'DI-26-null-price')\n",
        "    assert actual_df.count() == 1\n",
        "    actual_df=actual_df.withColumn('expected_price', lit(3333.0))\n",
        "    assert_column_equality(actual_df, 'price', 'expected_price')\n",
        "\n",
        "def test_null_price_is_replaced_based_on_cut_clarity_and_color(spark: SparkSession):\n",
        "    json_text = '''\n",
        "[\n",
        "  {\n",
        "    \"id\": 1,\n",
        "    \"carat\": 0.23,\n",
        "    \"cut\": \"Ideal\",\n",
        "    \"color\": \"E\",\n",
        "    \"clarity\": \"SI2\",\n",
        "    \"depth\": 61.5,\n",
        "    \"table\": 55,\n",
        "    \"price\": 326,\n",
        "    \"x\": 3.95,\n",
        "    \"y\": 3.98,\n",
        "    \"z\": 2.43\n",
        "  },\n",
        "  {\n",
        "    \"id\": \"minimum_inputs\",\n",
        "    \"carat\": 0.23,\n",
        "    \"cut\": \"Good\",\n",
        "    \"color\": \"F\",\n",
        "    \"clarity\": \"SI1\",\n",
        "    \"depth\": null,\n",
        "    \"table\": null,\n",
        "    \"price\": null,\n",
        "    \"x\": null,\n",
        "    \"y\": null,\n",
        "    \"z\": null\n",
        "  },\n",
        "  {\n",
        "    \"id\": \"DI-26-null-price\",\n",
        "    \"carat\": 0.21,\n",
        "    \"cut\": \"Good\",\n",
        "    \"color\": \"D\",\n",
        "    \"clarity\": \"VVS1\",\n",
        "    \"depth\": null,\n",
        "    \"table\": null,\n",
        "    \"price\": null,\n",
        "    \"x\": null,\n",
        "    \"y\": null,\n",
        "    \"z\": null\n",
        "  },\n",
        "  {\n",
        "    \"id\": \"DI-26\",\n",
        "    \"carat\": 0.21,\n",
        "    \"cut\": \"Good\",\n",
        "    \"color\": \"D\",\n",
        "    \"clarity\": \"VVS1\",\n",
        "    \"depth\": null,\n",
        "    \"table\": null,\n",
        "    \"price\": 3333,\n",
        "    \"x\": null,\n",
        "    \"y\": null,\n",
        "    \"z\": null\n",
        "  },\n",
        "  {\n",
        "    \"id\": \"DI-26\",\n",
        "    \"carat\": 0.21,\n",
        "    \"cut\": \"Good\",\n",
        "    \"color\": \"D\",\n",
        "    \"clarity\": \"VVS1\",\n",
        "    \"depth\": null,\n",
        "    \"table\": null,\n",
        "    \"price\": 3333,\n",
        "    \"x\": null,\n",
        "    \"y\": null,\n",
        "    \"z\": null\n",
        "  },\n",
        "  {\n",
        "    \"id\": \"DI-27\",\n",
        "    \"carat\": 0.21,\n",
        "    \"cut\": \"Very Good\",\n",
        "    \"color\": \"D\",\n",
        "    \"clarity\": \"VVS1\",\n",
        "    \"depth\": null,\n",
        "    \"table\": null,\n",
        "    \"price\": 2692,\n",
        "    \"x\": null,\n",
        "    \"y\": null,\n",
        "    \"z\": null\n",
        "  },\n",
        "  {\n",
        "    \"id\": \"DI-30\",\n",
        "    \"carat\": 0.32,\n",
        "    \"cut\": \"Good\",\n",
        "    \"color\": \"D\",\n",
        "    \"clarity\": \"I1\",\n",
        "    \"depth\": 60.9,\n",
        "    \"table\": 58,\n",
        "    \"price\": 345,\n",
        "    \"x\": 4.38,\n",
        "    \"y\": 4.42,\n",
        "    \"z\": 2.68\n",
        "  },\n",
        "  {\n",
        "    \"id\": \"DI-28\",\n",
        "    \"carat\": 0.21,\n",
        "    \"cut\": \"Good\",\n",
        "    \"color\": \"G\",\n",
        "    \"clarity\": \"VVS1\",\n",
        "    \"depth\": null,\n",
        "    \"table\": null,\n",
        "    \"price\": 1665,\n",
        "    \"x\": null,\n",
        "    \"y\": null,\n",
        "    \"z\": null\n",
        "  }\n",
        "]\n",
        "    '''\n",
        "\n",
        "    diamonds_df = spark.read.option(\"multiline\", \"true\").json(spark.sparkContext.parallelize([json_text]))\n",
        "\n",
        "    actual_df = diamonds_df.withColumn('lprice', log('price'))\n",
        "    actual_df = calculate_avg_price_for_similar_diamonds(diamonds_df)\n",
        "\n",
        "    assert_diamond_has_expected_price(actual_df)"
      ],
      "metadata": {
        "colab": {
          "base_uri": "https://localhost:8080/"
        },
        "outputId": "fb2296bc-c5ba-47fd-c195-627357beb063",
        "id": "gOlilwetmgPM"
      },
      "execution_count": null,
      "outputs": [
        {
          "output_type": "stream",
          "name": "stdout",
          "text": [
            "\u001b[32m.\u001b[0m\u001b[32m                                                                                            [100%]\u001b[0m\n"
          ]
        }
      ]
    },
    {
      "cell_type": "markdown",
      "source": [
        "4E. Squeeze the inputs\n",
        "- [ ] Run your test. It should pass.\n",
        "- [ ] Delete the properties from each JSON object one at a time.\n",
        "- [ ] After each deletion, run your test. If it fails, undo the delete\n",
        "- [ ] Move onto the next property\n",
        "- [ ] At the end, you should have the minimum objects and properties needed for our test to test the behaviour\n",
        "- [ ] Run your test. It should pass.\n",
        "\n",
        "**VERY IMPORTANT:** Your test will fail for the wrong reasons if the last property in any JSON object ends in a comma.\n",
        "\n",
        "Make sure the last property of each object always looks like this:\n",
        "```\n",
        "    \"z\": null\n",
        "  }\n",
        " ```\n",
        "\n",
        "NOT this:\n",
        "```\n",
        "    \"z\": null,\n",
        "  }\n",
        "```"
      ],
      "metadata": {
        "id": "pDKcNZHkBspK"
      }
    },
    {
      "cell_type": "code",
      "source": [
        "%%ipytest -qq\n",
        "from pyspark.sql import DataFrame\n",
        "from pyspark.sql.functions import lit, log\n",
        "from chispa import assert_column_equality\n",
        "\n",
        "from pathlib import Path\n",
        "\n",
        "### FOR REFERENCE: THIS IS THE CODE WE ARE TESTING #############################\n",
        "def calculate_avg_price_for_similar_diamonds(df: DataFrame) -> DataFrame:\n",
        "    window = Window.partitionBy('cut', 'clarity', 'color').orderBy('price').rowsBetween(-3, 3)\n",
        "    moving_avg = mean(df['price']).over(window)\n",
        "    df = df.withColumn('moving_avg', moving_avg)\n",
        "    df = df.withColumn('price', when(df.price.isNull(), df.moving_avg).otherwise(df.price))\n",
        "    return df\n",
        "################################################################################\n",
        "\n",
        "def check_we_have_all_the_rows_we_need_for_the_behaviour(actual_df):\n",
        "    actual_df = actual_df.select('id', 'cut', 'clarity', 'color')\n",
        "\n",
        "    wrong_color_df = actual_df.filter((actual_df.cut == 'Good') & (actual_df.clarity == 'VVS1') & (actual_df.color != 'D'))\n",
        "    assert wrong_color_df.count() >= 1\n",
        "\n",
        "def assert_diamond_has_expected_price(actual_df: DataFrame) -> None:\n",
        "    check_we_have_all_the_rows_we_need_for_the_behaviour(actual_df)\n",
        "    actual_df=actual_df.filter(actual_df.id == 'DI-26-null-price')\n",
        "    assert actual_df.count() == 1\n",
        "    actual_df=actual_df.withColumn('expected_price', lit(3333.0))\n",
        "    assert_column_equality(actual_df, 'price', 'expected_price')\n",
        "\n",
        "def test_null_price_is_replaced_based_on_cut_clarity_and_color(spark: SparkSession):\n",
        "    json_text = '''\n",
        "[\n",
        "  {\n",
        "    \"id\": \"DI-26-null-price\",\n",
        "    \"carat\": 0.21,\n",
        "    \"cut\": \"Good\",\n",
        "    \"color\": \"D\",\n",
        "    \"clarity\": \"VVS1\",\n",
        "    \"depth\": null,\n",
        "    \"table\": null,\n",
        "    \"price\": null,\n",
        "    \"x\": null,\n",
        "    \"y\": null,\n",
        "    \"z\": null\n",
        "  },\n",
        "  {\n",
        "    \"id\": \"DI-26\",\n",
        "    \"carat\": 0.21,\n",
        "    \"cut\": \"Good\",\n",
        "    \"color\": \"D\",\n",
        "    \"clarity\": \"VVS1\",\n",
        "    \"depth\": null,\n",
        "    \"table\": null,\n",
        "    \"price\": 3333,\n",
        "    \"x\": null,\n",
        "    \"y\": null,\n",
        "    \"z\": null\n",
        "  },\n",
        "  {\n",
        "    \"id\": \"DI-28\",\n",
        "    \"carat\": 0.21,\n",
        "    \"cut\": \"Good\",\n",
        "    \"color\": \"G\",\n",
        "    \"clarity\": \"VVS1\",\n",
        "    \"depth\": null,\n",
        "    \"table\": null,\n",
        "    \"price\": 1665,\n",
        "    \"x\": null,\n",
        "    \"y\": null,\n",
        "    \"z\": null\n",
        "  }\n",
        "]\n",
        "    '''\n",
        "\n",
        "    diamonds_df = spark.read.option(\"multiline\", \"true\").json(spark.sparkContext.parallelize([json_text]))\n",
        "\n",
        "    actual_df = diamonds_df.withColumn('lprice', log('price'))\n",
        "    actual_df = calculate_avg_price_for_similar_diamonds(diamonds_df)\n",
        "\n",
        "    assert_diamond_has_expected_price(actual_df)"
      ],
      "metadata": {
        "colab": {
          "base_uri": "https://localhost:8080/"
        },
        "outputId": "abd6eec1-da08-4295-a238-932705dcdd36",
        "id": "fQIuk7Aum4Q0"
      },
      "execution_count": null,
      "outputs": [
        {
          "output_type": "stream",
          "name": "stdout",
          "text": [
            "\u001b[32m.\u001b[0m\u001b[32m                                                                                            [100%]\u001b[0m\n"
          ]
        }
      ]
    },
    {
      "cell_type": "markdown",
      "source": [
        "\n",
        "#### 4.F Remove lines that aren't related to the behaviour\n",
        "- [ ] Delete:\n",
        "\n",
        "```\n",
        "actual_df = diamonds_df.withColumn('lprice', log('price'))\n",
        "```\n",
        "- [ ] Update the name of the parameter we pass to `calculate_avg_price_for_similar_diamonds` from `actual_df` to `diamonds_df`\n",
        "- [ ] Run your test. It should pass. This means that line wasn't important for our behaviour.\n",
        "\n"
      ],
      "metadata": {
        "id": "GM1rYTV824Z-"
      }
    },
    {
      "cell_type": "code",
      "source": [
        "%%ipytest -qq\n",
        "from pyspark.sql import DataFrame\n",
        "from pyspark.sql.functions import lit, log\n",
        "from chispa import assert_column_equality\n",
        "\n",
        "from pathlib import Path\n",
        "\n",
        "### FOR REFERENCE: THIS IS THE CODE WE ARE TESTING #############################\n",
        "def calculate_avg_price_for_similar_diamonds(df: DataFrame) -> DataFrame:\n",
        "    window = Window.partitionBy('cut', 'clarity', 'color').orderBy('price').rowsBetween(-3, 3)  #<- Remove cut or clarity from this line.\n",
        "    moving_avg = mean(df['price']).over(window)\n",
        "    df = df.withColumn('moving_avg', moving_avg)\n",
        "    df = df.withColumn('price', when(df.price.isNull(), df.moving_avg).otherwise(df.price))\n",
        "    return df\n",
        "################################################################################\n",
        "\n",
        "def check_we_have_all_the_rows_we_need_for_the_behaviour(actual_df):\n",
        "    actual_df = actual_df.select('id', 'cut', 'clarity', 'color')\n",
        "\n",
        "    wrong_color_df = actual_df.filter((actual_df.cut == 'Good') & (actual_df.clarity == 'VVS1') & (actual_df.color != 'D'))\n",
        "    assert wrong_color_df.count() >= 1\n",
        "\n",
        "def assert_diamond_has_expected_price(actual_df: DataFrame) -> None:\n",
        "    check_we_have_all_the_rows_we_need_for_the_behaviour(actual_df)\n",
        "    actual_df=actual_df.filter(actual_df.id == 'DI-26-null-price')\n",
        "    assert actual_df.count() == 1\n",
        "    actual_df=actual_df.withColumn('expected_price', lit(3333.0))\n",
        "    assert_column_equality(actual_df, 'price', 'expected_price')\n",
        "\n",
        "def test_null_price_is_replaced_based_on_cut_clarity_and_color(spark: SparkSession):\n",
        "    json_text = '''\n",
        "[\n",
        "  {\n",
        "    \"id\": \"DI-26-null-price\",\n",
        "    \"cut\": \"Good\",\n",
        "    \"color\": \"D\",\n",
        "    \"clarity\": \"VVS1\",\n",
        "    \"price\": null\n",
        "  },\n",
        "  {\n",
        "    \"id\": \"DI-26\",\n",
        "    \"cut\": \"Good\",\n",
        "    \"color\": \"D\",\n",
        "    \"clarity\": \"VVS1\",\n",
        "    \"price\": 3333\n",
        "  },\n",
        "  {\n",
        "    \"id\": \"DI-28\",\n",
        "    \"cut\": \"Good\",\n",
        "    \"color\": \"G\",\n",
        "    \"clarity\": \"VVS1\",\n",
        "    \"price\": 1665,\n",
        "  }\n",
        "]\n",
        "\n",
        "    '''\n",
        "\n",
        "    diamonds_df = spark.read.option(\"multiline\", \"true\").json(spark.sparkContext.parallelize([json_text]))\n",
        "\n",
        "    actual_df = diamonds_df.withColumn('lprice', log('price'))  # <-- Delete this line\n",
        "    actual_df = calculate_avg_price_for_similar_diamonds(actual_df) # <-- Change this line to: actual_df = calculate_avg_price_for_similar_diamonds(diamonds_df)\n",
        "\n",
        "    assert_diamond_has_expected_price(actual_df)"
      ],
      "metadata": {
        "colab": {
          "base_uri": "https://localhost:8080/"
        },
        "outputId": "1b9dc74b-62e9-43a4-cdd1-720047c1c167",
        "id": "zGMDjRwjnz6B"
      },
      "execution_count": null,
      "outputs": [
        {
          "output_type": "stream",
          "name": "stdout",
          "text": [
            "\u001b[31mF\u001b[0m\u001b[31m                                                                                            [100%]\u001b[0m\n",
            "============================================= FAILURES =============================================\n",
            "\u001b[31m\u001b[1m____________________ test_null_price_is_replaced_based_on_cut_clarity_and_color ____________________\u001b[0m\n",
            "\n",
            "spark = <pyspark.sql.session.SparkSession object at 0x78015ac5ada0>\n",
            "\n",
            "    \u001b[94mdef\u001b[39;49;00m \u001b[92mtest_null_price_is_replaced_based_on_cut_clarity_and_color\u001b[39;49;00m(spark: SparkSession):\u001b[90m\u001b[39;49;00m\n",
            "        json_text = \u001b[33m'''\u001b[39;49;00m\u001b[33m\u001b[39;49;00m\n",
            "    \u001b[33m[\u001b[39;49;00m\u001b[33m\u001b[39;49;00m\n",
            "    \u001b[33m  \u001b[39;49;00m\u001b[33m{\u001b[39;49;00m\u001b[33m\u001b[39;49;00m\n",
            "    \u001b[33m    \u001b[39;49;00m\u001b[33m\"\u001b[39;49;00m\u001b[33mid\u001b[39;49;00m\u001b[33m\"\u001b[39;49;00m\u001b[33m: \u001b[39;49;00m\u001b[33m\"\u001b[39;49;00m\u001b[33mDI-26-null-price\u001b[39;49;00m\u001b[33m\"\u001b[39;49;00m\u001b[33m,\u001b[39;49;00m\u001b[33m\u001b[39;49;00m\n",
            "    \u001b[33m    \u001b[39;49;00m\u001b[33m\"\u001b[39;49;00m\u001b[33mcut\u001b[39;49;00m\u001b[33m\"\u001b[39;49;00m\u001b[33m: \u001b[39;49;00m\u001b[33m\"\u001b[39;49;00m\u001b[33mGood\u001b[39;49;00m\u001b[33m\"\u001b[39;49;00m\u001b[33m,\u001b[39;49;00m\u001b[33m\u001b[39;49;00m\n",
            "    \u001b[33m    \u001b[39;49;00m\u001b[33m\"\u001b[39;49;00m\u001b[33mcolor\u001b[39;49;00m\u001b[33m\"\u001b[39;49;00m\u001b[33m: \u001b[39;49;00m\u001b[33m\"\u001b[39;49;00m\u001b[33mD\u001b[39;49;00m\u001b[33m\"\u001b[39;49;00m\u001b[33m,\u001b[39;49;00m\u001b[33m\u001b[39;49;00m\n",
            "    \u001b[33m    \u001b[39;49;00m\u001b[33m\"\u001b[39;49;00m\u001b[33mclarity\u001b[39;49;00m\u001b[33m\"\u001b[39;49;00m\u001b[33m: \u001b[39;49;00m\u001b[33m\"\u001b[39;49;00m\u001b[33mVVS1\u001b[39;49;00m\u001b[33m\"\u001b[39;49;00m\u001b[33m,\u001b[39;49;00m\u001b[33m\u001b[39;49;00m\n",
            "    \u001b[33m    \u001b[39;49;00m\u001b[33m\"\u001b[39;49;00m\u001b[33mprice\u001b[39;49;00m\u001b[33m\"\u001b[39;49;00m\u001b[33m: null\u001b[39;49;00m\u001b[33m\u001b[39;49;00m\n",
            "    \u001b[33m  },\u001b[39;49;00m\u001b[33m\u001b[39;49;00m\n",
            "    \u001b[33m  \u001b[39;49;00m\u001b[33m{\u001b[39;49;00m\u001b[33m\u001b[39;49;00m\n",
            "    \u001b[33m    \u001b[39;49;00m\u001b[33m\"\u001b[39;49;00m\u001b[33mid\u001b[39;49;00m\u001b[33m\"\u001b[39;49;00m\u001b[33m: \u001b[39;49;00m\u001b[33m\"\u001b[39;49;00m\u001b[33mDI-26\u001b[39;49;00m\u001b[33m\"\u001b[39;49;00m\u001b[33m,\u001b[39;49;00m\u001b[33m\u001b[39;49;00m\n",
            "    \u001b[33m    \u001b[39;49;00m\u001b[33m\"\u001b[39;49;00m\u001b[33mcut\u001b[39;49;00m\u001b[33m\"\u001b[39;49;00m\u001b[33m: \u001b[39;49;00m\u001b[33m\"\u001b[39;49;00m\u001b[33mGood\u001b[39;49;00m\u001b[33m\"\u001b[39;49;00m\u001b[33m,\u001b[39;49;00m\u001b[33m\u001b[39;49;00m\n",
            "    \u001b[33m    \u001b[39;49;00m\u001b[33m\"\u001b[39;49;00m\u001b[33mcolor\u001b[39;49;00m\u001b[33m\"\u001b[39;49;00m\u001b[33m: \u001b[39;49;00m\u001b[33m\"\u001b[39;49;00m\u001b[33mD\u001b[39;49;00m\u001b[33m\"\u001b[39;49;00m\u001b[33m,\u001b[39;49;00m\u001b[33m\u001b[39;49;00m\n",
            "    \u001b[33m    \u001b[39;49;00m\u001b[33m\"\u001b[39;49;00m\u001b[33mclarity\u001b[39;49;00m\u001b[33m\"\u001b[39;49;00m\u001b[33m: \u001b[39;49;00m\u001b[33m\"\u001b[39;49;00m\u001b[33mVVS1\u001b[39;49;00m\u001b[33m\"\u001b[39;49;00m\u001b[33m,\u001b[39;49;00m\u001b[33m\u001b[39;49;00m\n",
            "    \u001b[33m    \u001b[39;49;00m\u001b[33m\"\u001b[39;49;00m\u001b[33mprice\u001b[39;49;00m\u001b[33m\"\u001b[39;49;00m\u001b[33m: 3333\u001b[39;49;00m\u001b[33m\u001b[39;49;00m\n",
            "    \u001b[33m  },\u001b[39;49;00m\u001b[33m\u001b[39;49;00m\n",
            "    \u001b[33m  \u001b[39;49;00m\u001b[33m{\u001b[39;49;00m\u001b[33m\u001b[39;49;00m\n",
            "    \u001b[33m    \u001b[39;49;00m\u001b[33m\"\u001b[39;49;00m\u001b[33mid\u001b[39;49;00m\u001b[33m\"\u001b[39;49;00m\u001b[33m: \u001b[39;49;00m\u001b[33m\"\u001b[39;49;00m\u001b[33mDI-28\u001b[39;49;00m\u001b[33m\"\u001b[39;49;00m\u001b[33m,\u001b[39;49;00m\u001b[33m\u001b[39;49;00m\n",
            "    \u001b[33m    \u001b[39;49;00m\u001b[33m\"\u001b[39;49;00m\u001b[33mcut\u001b[39;49;00m\u001b[33m\"\u001b[39;49;00m\u001b[33m: \u001b[39;49;00m\u001b[33m\"\u001b[39;49;00m\u001b[33mGood\u001b[39;49;00m\u001b[33m\"\u001b[39;49;00m\u001b[33m,\u001b[39;49;00m\u001b[33m\u001b[39;49;00m\n",
            "    \u001b[33m    \u001b[39;49;00m\u001b[33m\"\u001b[39;49;00m\u001b[33mcolor\u001b[39;49;00m\u001b[33m\"\u001b[39;49;00m\u001b[33m: \u001b[39;49;00m\u001b[33m\"\u001b[39;49;00m\u001b[33mG\u001b[39;49;00m\u001b[33m\"\u001b[39;49;00m\u001b[33m,\u001b[39;49;00m\u001b[33m\u001b[39;49;00m\n",
            "    \u001b[33m    \u001b[39;49;00m\u001b[33m\"\u001b[39;49;00m\u001b[33mclarity\u001b[39;49;00m\u001b[33m\"\u001b[39;49;00m\u001b[33m: \u001b[39;49;00m\u001b[33m\"\u001b[39;49;00m\u001b[33mVVS1\u001b[39;49;00m\u001b[33m\"\u001b[39;49;00m\u001b[33m,\u001b[39;49;00m\u001b[33m\u001b[39;49;00m\n",
            "    \u001b[33m    \u001b[39;49;00m\u001b[33m\"\u001b[39;49;00m\u001b[33mprice\u001b[39;49;00m\u001b[33m\"\u001b[39;49;00m\u001b[33m: 1665,\u001b[39;49;00m\u001b[33m\u001b[39;49;00m\n",
            "    \u001b[33m  }\u001b[39;49;00m\u001b[33m\u001b[39;49;00m\n",
            "    \u001b[33m]\u001b[39;49;00m\u001b[33m\u001b[39;49;00m\n",
            "    \u001b[33m\u001b[39;49;00m\n",
            "    \u001b[33m    \u001b[39;49;00m\u001b[33m'''\u001b[39;49;00m\u001b[90m\u001b[39;49;00m\n",
            "    \u001b[90m\u001b[39;49;00m\n",
            "        diamonds_df = spark.read.option(\u001b[33m\"\u001b[39;49;00m\u001b[33mmultiline\u001b[39;49;00m\u001b[33m\"\u001b[39;49;00m, \u001b[33m\"\u001b[39;49;00m\u001b[33mtrue\u001b[39;49;00m\u001b[33m\"\u001b[39;49;00m).json(spark.sparkContext.parallelize([json_text]))\u001b[90m\u001b[39;49;00m\n",
            "    \u001b[90m\u001b[39;49;00m\n",
            ">       actual_df = diamonds_df.withColumn(\u001b[33m'\u001b[39;49;00m\u001b[33mlprice\u001b[39;49;00m\u001b[33m'\u001b[39;49;00m, log(\u001b[33m'\u001b[39;49;00m\u001b[33mprice\u001b[39;49;00m\u001b[33m'\u001b[39;49;00m))  \u001b[90m# <-- Delete this line\u001b[39;49;00m\u001b[90m\u001b[39;49;00m\n",
            "\n",
            "\u001b[1m\u001b[31m<ipython-input-110-6a0b9631ee72>\u001b[0m:59: \n",
            "_ _ _ _ _ _ _ _ _ _ _ _ _ _ _ _ _ _ _ _ _ _ _ _ _ _ _ _ _ _ _ _ _ _ _ _ _ _ _ _ _ _ _ _ _ _ _ _ _ _ \n",
            "\u001b[1m\u001b[31m/usr/local/lib/python3.10/dist-packages/pyspark/sql/dataframe.py\u001b[0m:4789: in withColumn\n",
            "    \u001b[94mreturn\u001b[39;49;00m DataFrame(\u001b[96mself\u001b[39;49;00m._jdf.withColumn(colName, col._jc), \u001b[96mself\u001b[39;49;00m.sparkSession)\u001b[90m\u001b[39;49;00m\n",
            "\u001b[1m\u001b[31m/usr/local/lib/python3.10/dist-packages/py4j/java_gateway.py\u001b[0m:1322: in __call__\n",
            "    return_value = get_return_value(\u001b[90m\u001b[39;49;00m\n",
            "_ _ _ _ _ _ _ _ _ _ _ _ _ _ _ _ _ _ _ _ _ _ _ _ _ _ _ _ _ _ _ _ _ _ _ _ _ _ _ _ _ _ _ _ _ _ _ _ _ _ \n",
            "\n",
            "a = ('xro10478', <py4j.clientserver.JavaClient object at 0x78015bfc13f0>, 'o10475', 'withColumn')\n",
            "kw = {}, converted = AnalysisException()\n",
            "\n",
            "    \u001b[94mdef\u001b[39;49;00m \u001b[92mdeco\u001b[39;49;00m(*a: Any, **kw: Any) -> Any:\u001b[90m\u001b[39;49;00m\n",
            "        \u001b[94mtry\u001b[39;49;00m:\u001b[90m\u001b[39;49;00m\n",
            "            \u001b[94mreturn\u001b[39;49;00m f(*a, **kw)\u001b[90m\u001b[39;49;00m\n",
            "        \u001b[94mexcept\u001b[39;49;00m Py4JJavaError \u001b[94mas\u001b[39;49;00m e:\u001b[90m\u001b[39;49;00m\n",
            "            converted = convert_exception(e.java_exception)\u001b[90m\u001b[39;49;00m\n",
            "            \u001b[94mif\u001b[39;49;00m \u001b[95mnot\u001b[39;49;00m \u001b[96misinstance\u001b[39;49;00m(converted, UnknownException):\u001b[90m\u001b[39;49;00m\n",
            "                \u001b[90m# Hide where the exception came from that shows a non-Pythonic\u001b[39;49;00m\u001b[90m\u001b[39;49;00m\n",
            "                \u001b[90m# JVM exception message.\u001b[39;49;00m\u001b[90m\u001b[39;49;00m\n",
            ">               \u001b[94mraise\u001b[39;49;00m converted \u001b[94mfrom\u001b[39;49;00m \u001b[96mNone\u001b[39;49;00m\u001b[90m\u001b[39;49;00m\n",
            "\u001b[1m\u001b[31mE               pyspark.errors.exceptions.captured.AnalysisException: [UNRESOLVED_COLUMN.WITH_SUGGESTION] A column or function parameter with name `price` cannot be resolved. Did you mean one of the following? [`_corrupt_record`].;\u001b[0m\n",
            "\u001b[1m\u001b[31mE               'Project [_corrupt_record#10684, ln('price) AS lprice#10686]\u001b[0m\n",
            "\u001b[1m\u001b[31mE               +- LogicalRDD [_corrupt_record#10684], false\u001b[0m\n",
            "\n",
            "\u001b[1m\u001b[31m/usr/local/lib/python3.10/dist-packages/pyspark/errors/exceptions/captured.py\u001b[0m:175: AnalysisException\n",
            "\u001b[36m\u001b[1m===================================== short test summary info ======================================\u001b[0m\n",
            "\u001b[31mFAILED\u001b[0m t_792e1f981ba74dd7b5b3b3bb63f7a733.py::\u001b[1mtest_null_price_is_replaced_based_on_cut_clarity_and_color\u001b[0m - pyspark.errors.exceptions.captured.AnalysisException: [UNRESOLVED_COLUMN.WITH_SUGGESTION] A col...\n"
          ]
        }
      ]
    },
    {
      "cell_type": "markdown",
      "source": [
        "4G. Analyze our test set:\n",
        "\n",
        "Our test is called `test_null_price_is_replaced_based_on_cut_clarity_and_color`.\n",
        "Is it complete?\n",
        "\n",
        "Try to delete 'cut' or 'clarity' from the first line of the `calculate_avg_price_for_similar_diamonds` method. If we don't partition by those, what happens?"
      ],
      "metadata": {
        "id": "aqRCL4UyG0oM"
      }
    },
    {
      "cell_type": "code",
      "source": [
        "%%ipytest -qq\n",
        "from pyspark.sql import DataFrame\n",
        "from pyspark.sql.functions import lit, log\n",
        "from chispa import assert_column_equality\n",
        "\n",
        "from pathlib import Path\n",
        "\n",
        "### FOR REFERENCE: THIS IS THE CODE WE ARE TESTING #############################\n",
        "def calculate_avg_price_for_similar_diamonds(df: DataFrame) -> DataFrame:\n",
        "    window = Window.partitionBy('cut', 'clarity', 'color').orderBy('price').rowsBetween(-3, 3)  #<- Remove cut or clarity from this line.\n",
        "    moving_avg = mean(df['price']).over(window)\n",
        "    df = df.withColumn('moving_avg', moving_avg)\n",
        "    df = df.withColumn('price', when(df.price.isNull(), df.moving_avg).otherwise(df.price))\n",
        "    return df\n",
        "################################################################################\n",
        "\n",
        "def check_we_have_all_the_rows_we_need_for_the_behaviour(actual_df):\n",
        "    actual_df = actual_df.select('id', 'cut', 'clarity', 'color')\n",
        "\n",
        "    wrong_color_df = actual_df.filter((actual_df.cut == 'Good') & (actual_df.clarity == 'VVS1') & (actual_df.color != 'D'))\n",
        "    assert wrong_color_df.count() >= 1\n",
        "\n",
        "def assert_diamond_has_expected_price(actual_df: DataFrame) -> None:\n",
        "    check_we_have_all_the_rows_we_need_for_the_behaviour(actual_df)\n",
        "    actual_df=actual_df.filter(actual_df.id == 'DI-26-null-price')\n",
        "    assert actual_df.count() == 1\n",
        "    actual_df=actual_df.withColumn('expected_price', lit(3333.0))\n",
        "    assert_column_equality(actual_df, 'price', 'expected_price')\n",
        "\n",
        "def test_null_price_is_replaced_based_on_cut_clarity_and_color(spark: SparkSession):\n",
        "    json_text = '''\n",
        "[\n",
        "  {\n",
        "    \"id\": \"DI-26-null-price\",\n",
        "    \"cut\": \"Good\",\n",
        "    \"color\": \"D\",\n",
        "    \"clarity\": \"VVS1\",\n",
        "    \"price\": null\n",
        "  },\n",
        "  {\n",
        "    \"id\": \"DI-26\",\n",
        "    \"cut\": \"Good\",\n",
        "    \"color\": \"D\",\n",
        "    \"clarity\": \"VVS1\",\n",
        "    \"price\": 3333\n",
        "  },\n",
        "  {\n",
        "    \"id\": \"DI-28\",\n",
        "    \"cut\": \"Good\",\n",
        "    \"color\": \"G\",\n",
        "    \"clarity\": \"VVS1\",\n",
        "    \"price\": 1665,\n",
        "  }\n",
        "]\n",
        "\n",
        "    '''\n",
        "\n",
        "    diamonds_df = spark.read.option(\"multiline\", \"true\").json(spark.sparkContext.parallelize([json_text]))\n",
        "\n",
        "    actual_df = calculate_avg_price_for_similar_diamonds(diamonds_df)\n",
        "\n",
        "    assert_diamond_has_expected_price(actual_df)"
      ],
      "metadata": {
        "colab": {
          "base_uri": "https://localhost:8080/"
        },
        "outputId": "51dd594d-2c82-4720-f344-0a862cc1c164",
        "id": "tJEwVpuDQUdH"
      },
      "execution_count": null,
      "outputs": [
        {
          "output_type": "stream",
          "name": "stdout",
          "text": [
            "\u001b[32m.\u001b[0m\u001b[32m                                                                                            [100%]\u001b[0m\n"
          ]
        }
      ]
    },
    {
      "cell_type": "markdown",
      "source": [
        "4H. Add a test input for clarity:\n",
        "\n",
        "We need to add an input for a diamond with a different clarity, but identical cut and color.\n",
        "- [ ] Now that you can see what's important, update the JSON below to set those properties correctly.\n",
        "- [ ] clarity should be `\"S1\"`\n",
        "- [ ] cut and color should be identical to the values in `\"DI-26-null-price\"`\n",
        "- [ ] Try to delete 'clarity' from the first line of the `calculate_avg_price_for_similar_diamonds` function. The test should fail.\n"
      ],
      "metadata": {
        "id": "WIvG00bZI_dw"
      }
    },
    {
      "cell_type": "code",
      "source": [
        "%%ipytest -qq\n",
        "from pyspark.sql import DataFrame\n",
        "from pyspark.sql.functions import lit, log\n",
        "from chispa import assert_column_equality\n",
        "\n",
        "from pathlib import Path\n",
        "\n",
        "### FOR REFERENCE: THIS IS THE CODE WE ARE TESTING #############################\n",
        "def calculate_avg_price_for_similar_diamonds(df: DataFrame) -> DataFrame:\n",
        "    window = Window.partitionBy('cut', 'clarity', 'color').orderBy('price').rowsBetween(-3, 3)  #<- Remove clarity from this line.\n",
        "    moving_avg = mean(df['price']).over(window)\n",
        "    df = df.withColumn('moving_avg', moving_avg)\n",
        "    df = df.withColumn('price', when(df.price.isNull(), df.moving_avg).otherwise(df.price))\n",
        "    return df\n",
        "################################################################################\n",
        "\n",
        "def check_we_have_all_the_rows_we_need_for_the_behaviour(actual_df):\n",
        "    actual_df = actual_df.select('id', 'cut', 'clarity', 'color')\n",
        "\n",
        "    wrong_color_df = actual_df.filter((actual_df.cut == 'Good') & (actual_df.clarity == 'VVS1') & (actual_df.color != 'D'))\n",
        "    assert wrong_color_df.count() >= 1\n",
        "\n",
        "def assert_diamond_has_expected_price(actual_df: DataFrame) -> None:\n",
        "    check_we_have_all_the_rows_we_need_for_the_behaviour(actual_df)\n",
        "    actual_df=actual_df.filter(actual_df.id == 'DI-26-null-price')\n",
        "    assert actual_df.count() == 1\n",
        "    actual_df=actual_df.withColumn('expected_price', lit(3333.0))\n",
        "    assert_column_equality(actual_df, 'price', 'expected_price')\n",
        "\n",
        "def test_null_price_is_replaced_based_on_cut_clarity_and_color(spark: SparkSession):\n",
        "    json_text = '''\n",
        "[\n",
        "  {\n",
        "    \"id\": \"DI-26-null-price\",\n",
        "    \"cut\": \"Good\",\n",
        "    \"color\": \"D\",\n",
        "    \"clarity\": \"VVS1\",\n",
        "    \"price\": null\n",
        "  },\n",
        "  {\n",
        "    \"id\": \"DI-26\",\n",
        "    \"cut\": \"Good\",\n",
        "    \"color\": \"D\",\n",
        "    \"clarity\": \"VVS1\",\n",
        "    \"price\": 3333\n",
        "  },\n",
        "  {\n",
        "    \"id\": \"DI-28\",\n",
        "    \"cut\": \"Good\",\n",
        "    \"color\": \"G\",\n",
        "    \"clarity\": \"VVS1\",\n",
        "    \"price\": 1665\n",
        "  },\n",
        "  {\n",
        "    \"id\": \"different-clarity\",\n",
        "    \"cut\": #REPLACE ME WITH THE RIGHT VALUE FOR CUT# ,\n",
        "    \"color\": #REPLACE ME WITH THE RIGHT VALUE FOR COLOR#,\n",
        "    \"clarity\": #REPLACE ME WITH THE RIGHT VALUE FOR CLARITY#,\n",
        "    \"price\": 1665\n",
        "  }\n",
        "]\n",
        "\n",
        "    '''\n",
        "\n",
        "    diamonds_df = spark.read.option(\"multiline\", \"true\").json(spark.sparkContext.parallelize([json_text]))\n",
        "\n",
        "    actual_df = calculate_avg_price_for_similar_diamonds(diamonds_df)\n",
        "\n",
        "    assert_diamond_has_expected_price(actual_df)"
      ],
      "metadata": {
        "colab": {
          "base_uri": "https://localhost:8080/"
        },
        "outputId": "5c0a6c1b-a66c-4d0a-96d5-09c392dbaeed",
        "id": "xjJLNBkbJkIH"
      },
      "execution_count": null,
      "outputs": [
        {
          "output_type": "stream",
          "name": "stdout",
          "text": [
            "\u001b[32m.\u001b[0m\u001b[32m                                                                                            [100%]\u001b[0m\n"
          ]
        }
      ]
    },
    {
      "cell_type": "markdown",
      "source": [
        "4I. Add a test input for cut:\n",
        "\n",
        "We need to add an input for a diamond with a different cut, but identical clarity and color.\n",
        "- [ ] Now that you can see what's important, update the JSON below to set those properties correctly.\n",
        "- [ ] cut should be `\"Very Good\"`\n",
        "- [ ] clarity and color should be identical to the values in `\"DI-26-null-price\"`\n",
        "- [ ] Try to delete 'cut' from the first line of the `calculate_avg_price_for_similar_diamonds` function. The test should fail.\n"
      ],
      "metadata": {
        "id": "gQ5kwCZnK4Ks"
      }
    },
    {
      "cell_type": "code",
      "source": [
        "%%ipytest -qq\n",
        "from pyspark.sql import DataFrame\n",
        "from pyspark.sql.functions import lit, log\n",
        "from chispa import assert_column_equality\n",
        "\n",
        "from pathlib import Path\n",
        "\n",
        "### FOR REFERENCE: THIS IS THE CODE WE ARE TESTING #############################\n",
        "def calculate_avg_price_for_similar_diamonds(df: DataFrame) -> DataFrame:\n",
        "    window = Window.partitionBy('cut', 'clarity', 'color').orderBy('price').rowsBetween(-3, 3)  #<- Remove clarity from this line.\n",
        "    moving_avg = mean(df['price']).over(window)\n",
        "    df = df.withColumn('moving_avg', moving_avg)\n",
        "    df = df.withColumn('price', when(df.price.isNull(), df.moving_avg).otherwise(df.price))\n",
        "    return df\n",
        "################################################################################\n",
        "\n",
        "def check_we_have_all_the_rows_we_need_for_the_behaviour(actual_df):\n",
        "    actual_df = actual_df.select('id', 'cut', 'clarity', 'color')\n",
        "\n",
        "    wrong_color_df = actual_df.filter((actual_df.cut == 'Good') & (actual_df.clarity == 'VVS1') & (actual_df.color != 'D'))\n",
        "    assert wrong_color_df.count() >= 1\n",
        "\n",
        "def assert_diamond_has_expected_price(actual_df: DataFrame) -> None:\n",
        "    check_we_have_all_the_rows_we_need_for_the_behaviour(actual_df)\n",
        "    actual_df=actual_df.filter(actual_df.id == 'DI-26-null-price')\n",
        "    assert actual_df.count() == 1\n",
        "    actual_df=actual_df.withColumn('expected_price', lit(3333.0))\n",
        "    assert_column_equality(actual_df, 'price', 'expected_price')\n",
        "\n",
        "def test_null_price_is_replaced_based_on_cut_clarity_and_color(spark: SparkSession):\n",
        "    json_text = '''\n",
        "[\n",
        "  {\n",
        "    \"id\": \"DI-26-null-price\",\n",
        "    \"cut\": \"Good\",\n",
        "    \"color\": \"D\",\n",
        "    \"clarity\": \"VVS1\",\n",
        "    \"price\": null\n",
        "  },\n",
        "  {\n",
        "    \"id\": \"DI-26\",\n",
        "    \"cut\": \"Good\",\n",
        "    \"color\": \"D\",\n",
        "    \"clarity\": \"VVS1\",\n",
        "    \"price\": 3333\n",
        "  },\n",
        "  {\n",
        "    \"id\": \"DI-28\",\n",
        "    \"cut\": \"Good\",\n",
        "    \"color\": \"G\",\n",
        "    \"clarity\": \"VVS1\",\n",
        "    \"price\": 1665\n",
        "  },\n",
        "  {\n",
        "    \"id\": \"different-clarity\",\n",
        "    \"cut\": \"Good\" ,\n",
        "    \"color\": \"D\",\n",
        "    \"clarity\": \"S1\",\n",
        "    \"price\": 1665\n",
        "  },\n",
        "  {\n",
        "    \"id\": \"different-cut\",\n",
        "    \"cut\": #REPLACE ME WITH THE RIGHT VALUE FOR CUT# ,\n",
        "    \"color\": #REPLACE ME WITH THE RIGHT VALUE FOR COLOR#,\n",
        "    \"clarity\": #REPLACE ME WITH THE RIGHT VALUE FOR CLARITY#,\n",
        "    \"price\": 1665\n",
        "  }\n",
        "]\n",
        "\n",
        "    '''\n",
        "\n",
        "    diamonds_df = spark.read.option(\"multiline\", \"true\").json(spark.sparkContext.parallelize([json_text]))\n",
        "\n",
        "    actual_df = calculate_avg_price_for_similar_diamonds(diamonds_df)\n",
        "\n",
        "    assert_diamond_has_expected_price(actual_df)"
      ],
      "metadata": {
        "colab": {
          "base_uri": "https://localhost:8080/"
        },
        "outputId": "9bfe7c2e-7230-47a8-db3a-919ee8d8b197",
        "id": "RrwYZNguLI1h"
      },
      "execution_count": null,
      "outputs": [
        {
          "output_type": "stream",
          "name": "stdout",
          "text": [
            "\u001b[32m.\u001b[0m\u001b[32m                                                                                            [100%]\u001b[0m\n"
          ]
        }
      ]
    },
    {
      "cell_type": "markdown",
      "source": [
        "# Step 5: Clean up!"
      ],
      "metadata": {
        "id": "u73U7To0xBvK"
      }
    },
    {
      "cell_type": "markdown",
      "source": [
        "This test can still be cleaner and easy to read.\n",
        "\n",
        "It passes, so it satisfies the first rule of simple design - tests pass\n",
        "\n",
        "What about the other 3?"
      ],
      "metadata": {
        "id": "wjYANsWB5gnF"
      }
    },
    {
      "cell_type": "markdown",
      "source": [
        "### Step 5A: Reveal Intent - Extract the unpriced diamond to a method\n",
        "\n",
        "- [ ]  This is our unpriced diamond. In the next cell, we will pull it out into a method."
      ],
      "metadata": {
        "id": "wE2StiSh5xd6"
      }
    },
    {
      "cell_type": "code",
      "source": [
        "%%ipytest -qq\n",
        "from pyspark.sql import DataFrame\n",
        "from pyspark.sql.functions import lit, log\n",
        "from chispa import assert_column_equality\n",
        "\n",
        "def assert_diamond_has_expected_price(actual_df: DataFrame) -> None:\n",
        "    actual_df=actual_df.filter(actual_df.id == 'no-price')\n",
        "    assert actual_df.count() == 1\n",
        "    actual_df=actual_df.withColumn('expected_price', lit(3333.0))\n",
        "    assert_column_equality(actual_df, 'price', 'expected_price')\n",
        "\n",
        "def test_null_price_is_replaced_based_on_cut_clarity_and_color(spark: SparkSession):\n",
        "    diamonds_df = spark.createDataFrame([\n",
        "      ##### THE UNPRICED DIAMOND #####\n",
        "      {\"id\": \"no-price\",                       \"price\": None,  \"color\": \"D\", \"cut\": \"Good\", \"clarity\": \"VVS1\"},\n",
        "      ##### END OF THE UNPRICED DIAMOND #####\n",
        "      {\"id\": \"with-price\",                     \"price\": 3333.0,\"color\": \"D\", \"cut\": \"Good\", \"clarity\": \"VVS1\"},\n",
        "      {\"id\": \"with-price-wrong-color\",         \"price\": 2000.0,\"color\": \"G\", \"cut\": \"Good\", \"clarity\": \"VVS1\"},\n",
        "      {\"id\": \"with-price-wrong-clarity\",       \"price\": 2000.0,\"color\": \"D\", \"cut\": \"Good\", \"clarity\": \"S1\"},\n",
        "      {\"id\": \"with-price-wrong-cut\",           \"price\": 2000.0,\"color\": \"D\", \"cut\": \"Very Good\", \"clarity\": \"VVS1\"},\n",
        "    ])\n",
        "\n",
        "    actual_df = calculate_avg_price_for_similar_diamonds(diamonds_df)\n",
        "\n",
        "    assert_diamond_has_expected_price(actual_df)\n"
      ],
      "metadata": {
        "colab": {
          "base_uri": "https://localhost:8080/"
        },
        "id": "SJjI4Dsr458a",
        "outputId": "de687037-eee1-4117-ef03-9f38a6d3e0ba"
      },
      "execution_count": null,
      "outputs": [
        {
          "output_type": "stream",
          "name": "stdout",
          "text": [
            "\u001b[32m.\u001b[0m\u001b[32m                                                                                            [100%]\u001b[0m\n"
          ]
        }
      ]
    },
    {
      "cell_type": "markdown",
      "source": [
        "### Step 5B: Reveal Intent - Extract the unpriced diamond to a method\n",
        "\n",
        "- [ ] We've created a new method called unpriced_diamond to return the code creating the unpriced diamond. It is commented out.\n",
        "- [ ] Uncomment it.\n",
        "- [ ] Run the test. It should pass."
      ],
      "metadata": {
        "id": "5aw5dbMc647E"
      }
    },
    {
      "cell_type": "code",
      "source": [
        "%%ipytest -qq\n",
        "from pyspark.sql import DataFrame\n",
        "from pyspark.sql.functions import lit, log\n",
        "from chispa import assert_column_equality\n",
        "\n",
        "from typing import Dict\n",
        "\n",
        "def assert_diamond_has_expected_price(actual_df: DataFrame) -> None:\n",
        "    actual_df=actual_df.filter(actual_df.id == 'no-price')\n",
        "    assert actual_df.count() == 1\n",
        "    actual_df=actual_df.withColumn('expected_price', lit(3333.0))\n",
        "    assert_column_equality(actual_df, 'price', 'expected_price')\n",
        "\n",
        "##### UNCOMMENT THIS METHOD\n",
        "#def unpriced_diamond() -> Dict:\n",
        "#  return {\"id\": \"no-price\", \"price\": None,  \"color\": \"D\", \"cut\": \"Good\", \"clarity\": \"VVS1\"}\n",
        "\n",
        "def test_null_price_is_replaced_based_on_cut_clarity_and_color(spark: SparkSession):\n",
        "    diamonds_df = spark.createDataFrame([\n",
        "      ##### THE UNPRICED DIAMOND #####\n",
        "      unpriced_diamond(),\n",
        "      ##### END OF THE UNPRICED DIAMOND #####\n",
        "      {\"id\": \"with-price\",                     \"price\": 3333.0,\"color\": \"D\", \"cut\": \"Good\", \"clarity\": \"VVS1\"},\n",
        "      {\"id\": \"with-price-wrong-color\",         \"price\": 2000.0,\"color\": \"G\", \"cut\": \"Good\", \"clarity\": \"VVS1\"},\n",
        "      {\"id\": \"with-price-wrong-clarity\",       \"price\": 2000.0,\"color\": \"D\", \"cut\": \"Good\", \"clarity\": \"S1\"},\n",
        "      {\"id\": \"with-price-wrong-cut\",           \"price\": 2000.0,\"color\": \"D\", \"cut\": \"Very Good\", \"clarity\": \"VVS1\"},\n",
        "    ])\n",
        "\n",
        "    actual_df = calculate_avg_price_for_similar_diamonds(diamonds_df)\n",
        "\n",
        "    assert_diamond_has_expected_price(actual_df)\n"
      ],
      "metadata": {
        "colab": {
          "base_uri": "https://localhost:8080/"
        },
        "id": "C5caogkF7ASx",
        "outputId": "8c74623f-05ab-4fcf-f19e-94591b624f1d"
      },
      "execution_count": null,
      "outputs": [
        {
          "output_type": "stream",
          "name": "stdout",
          "text": [
            "\u001b[32m.\u001b[0m\u001b[32m                                                                                            [100%]\u001b[0m\n"
          ]
        }
      ]
    },
    {
      "cell_type": "markdown",
      "source": [
        "### Step 5C: Reveal Intent - Extract the matching diamond to a method\n",
        "\n",
        "- [ ] Look at the second object in the JSON array. This is our matching diamond. In the next cell, we will pull it out into a method."
      ],
      "metadata": {
        "id": "VnOthS9a8M8e"
      }
    },
    {
      "cell_type": "code",
      "source": [
        "%%ipytest -qq\n",
        "from pyspark.sql import DataFrame\n",
        "from pyspark.sql.functions import lit, log\n",
        "from chispa import assert_column_equality\n",
        "\n",
        "from typing import Dict\n",
        "\n",
        "def assert_diamond_has_expected_price(actual_df: DataFrame) -> None:\n",
        "    actual_df=actual_df.filter(actual_df.id == 'no-price')\n",
        "    assert actual_df.count() == 1\n",
        "    actual_df=actual_df.withColumn('expected_price', lit(3333.0))\n",
        "    assert_column_equality(actual_df, 'price', 'expected_price')\n",
        "\n",
        "def unpriced_diamond() -> Dict:\n",
        "  return {\"id\": \"no-price\", \"price\": None,  \"color\": \"D\", \"cut\": \"Good\", \"clarity\": \"VVS1\"}\n",
        "\n",
        "def test_null_price_is_replaced_based_on_cut_clarity_and_color(spark: SparkSession):\n",
        "    diamonds_df = spark.createDataFrame([\n",
        "      unpriced_diamond(),\n",
        "      ##### THE MATCHING DIAMOND #####\n",
        "      {\"id\": \"with-price\",                     \"price\": 3333.0,\"color\": \"D\", \"cut\": \"Good\", \"clarity\": \"VVS1\"},\n",
        "      ##### END OF THE MATCHING DIAMOND #####\n",
        "      {\"id\": \"with-price-wrong-color\",         \"price\": 2000.0,\"color\": \"G\", \"cut\": \"Good\", \"clarity\": \"VVS1\"},\n",
        "      {\"id\": \"with-price-wrong-clarity\",       \"price\": 2000.0,\"color\": \"D\", \"cut\": \"Good\", \"clarity\": \"S1\"},\n",
        "      {\"id\": \"with-price-wrong-cut\",           \"price\": 2000.0,\"color\": \"D\", \"cut\": \"Very Good\", \"clarity\": \"VVS1\"},\n",
        "    ])\n",
        "\n",
        "    actual_df = calculate_avg_price_for_similar_diamonds(diamonds_df)\n",
        "\n",
        "    assert_diamond_has_expected_price(actual_df)\n"
      ],
      "metadata": {
        "colab": {
          "base_uri": "https://localhost:8080/"
        },
        "id": "DCnpkyyJ8c45",
        "outputId": "ea42a2e7-e218-4805-deb0-aed6bf05a2c7"
      },
      "execution_count": null,
      "outputs": [
        {
          "output_type": "stream",
          "name": "stdout",
          "text": [
            "\u001b[32m.\u001b[0m\u001b[32m                                                                                            [100%]\u001b[0m\n"
          ]
        }
      ]
    },
    {
      "cell_type": "markdown",
      "source": [
        "### Step 5D: Reveal Intent - Extract the matching diamond to a method\n",
        "\n",
        "- [ ] We've created a new method called matching_diamond to return the code creating the matching diamond.It is commented out.\n",
        "- [ ] Uncomment it.\n",
        "- [ ] Notice how we've set up the method interface so it takes a price. This lets us indicate we care about the price of the matching diamond.\n",
        "- [ ] The price of the matching diamond should be `3333.0`. Pass it into the method call.\n",
        "- [ ] Run the test. It should pass."
      ],
      "metadata": {
        "id": "aE3q7gEu9BVg"
      }
    },
    {
      "cell_type": "code",
      "source": [
        "%%ipytest -qq\n",
        "from pyspark.sql import DataFrame\n",
        "from pyspark.sql.functions import lit, log\n",
        "\n",
        "from typing import Dict\n",
        "\n",
        "def assert_diamond_has_expected_price(actual_df: DataFrame) -> None:\n",
        "    actual_df=actual_df.filter(actual_df.id == 'no-price')\n",
        "    assert actual_df.count() == 1\n",
        "    actual_df=actual_df.withColumn('expected_price', lit(3333.0))\n",
        "    assert_column_equality(actual_df, 'price', 'expected_price')\n",
        "\n",
        "def unpriced_diamond() -> Dict:\n",
        "  return {\"id\": \"no-price\", \"price\": None,  \"color\": \"D\", \"cut\": \"Good\", \"clarity\": \"VVS1\"}\n",
        "\n",
        "#def matching_diamond(price: float) -> Dict:\n",
        "#  return {\"id\": \"with-price\", \"price\": price ,\"color\": \"D\", \"cut\": \"Good\", \"clarity\": \"VVS1\"}\n",
        "\n",
        "def test_null_price_is_replaced_based_on_cut_clarity_and_color(spark: SparkSession):\n",
        "    diamonds_df = spark.createDataFrame([\n",
        "      unpriced_diamond(),\n",
        "      ##### THE MATCHING DIAMOND #####\n",
        "      matching_diamond(), # <- CHANGE THIS LINE TO: matching_diamond(price=3333.0),\n",
        "      ##### END OF THE MATCHING DIAMOND #####\n",
        "      {\"id\": \"with-price-wrong-color\",         \"price\": 2000.0,\"color\": \"G\", \"cut\": \"Good\", \"clarity\": \"VVS1\"},\n",
        "      {\"id\": \"with-price-wrong-clarity\",       \"price\": 2000.0,\"color\": \"D\", \"cut\": \"Good\", \"clarity\": \"S1\"},\n",
        "      {\"id\": \"with-price-wrong-cut\",           \"price\": 2000.0,\"color\": \"D\", \"cut\": \"Very Good\", \"clarity\": \"VVS1\"},\n",
        "    ])\n",
        "\n",
        "    actual_df = calculate_avg_price_for_similar_diamonds(diamonds_df)\n",
        "\n",
        "    assert_diamond_has_expected_price(actual_df)\n"
      ],
      "metadata": {
        "colab": {
          "base_uri": "https://localhost:8080/"
        },
        "id": "ktPMcHy99MKr",
        "outputId": "8cc109a1-db12-417e-f60f-c567f72edb2b"
      },
      "execution_count": null,
      "outputs": [
        {
          "output_type": "stream",
          "name": "stdout",
          "text": [
            "\u001b[32m.\u001b[0m\u001b[32m                                                                                            [100%]\u001b[0m\n"
          ]
        }
      ]
    },
    {
      "cell_type": "markdown",
      "source": [
        "### Step 5E: Reveal Intent - Extract the diamond with a different color to a method\n",
        "\n",
        "- [ ] Look at the third object in the JSON array. This is the diamond with a different color. In the next cell, we will pull it out into a method."
      ],
      "metadata": {
        "id": "F39cC4hgDTb7"
      }
    },
    {
      "cell_type": "code",
      "source": [
        "%%ipytest -qq\n",
        "from pyspark.sql import DataFrame\n",
        "from pyspark.sql.functions import lit, log\n",
        "\n",
        "from typing import Dict\n",
        "\n",
        "def assert_diamond_has_expected_price(actual_df: DataFrame) -> None:\n",
        "    actual_df=actual_df.filter(actual_df.id == 'no-price')\n",
        "    assert actual_df.count() == 1\n",
        "    actual_df=actual_df.withColumn('expected_price', lit(3333.0))\n",
        "    assert_column_equality(actual_df, 'price', 'expected_price')\n",
        "\n",
        "def unpriced_diamond() -> Dict:\n",
        "  return {\"id\": \"no-price\", \"price\": None,  \"color\": \"D\", \"cut\": \"Good\", \"clarity\": \"VVS1\"}\n",
        "\n",
        "def matching_diamond(price: float) -> Dict:\n",
        "  return {\"id\": \"with-price\", \"price\": price ,\"color\": \"D\", \"cut\": \"Good\", \"clarity\": \"VVS1\"}\n",
        "\n",
        "def test_null_price_is_replaced_based_on_cut_clarity_and_color(spark: SparkSession):\n",
        "    diamonds_df = spark.createDataFrame([\n",
        "      unpriced_diamond(),\n",
        "      matching_diamond(price=3333.0),\n",
        "      ##### THE DIAMOND WITH A DIFFERENT COLOR #####\n",
        "      {\"id\": \"with-price-wrong-color\",         \"price\": 2000.0,\"color\": \"G\", \"cut\": \"Good\", \"clarity\": \"VVS1\"},\n",
        "      ##### END OF THE DIAMOND WITH A DIFFERENT COLOR #####\n",
        "      {\"id\": \"with-price-wrong-clarity\",       \"price\": 2000.0,\"color\": \"D\", \"cut\": \"Good\", \"clarity\": \"S1\"},\n",
        "      {\"id\": \"with-price-wrong-cut\",           \"price\": 2000.0,\"color\": \"D\", \"cut\": \"Very Good\", \"clarity\": \"VVS1\"},\n",
        "    ])\n",
        "\n",
        "    actual_df = calculate_avg_price_for_similar_diamonds(diamonds_df)\n",
        "\n",
        "    assert_diamond_has_expected_price(actual_df)\n"
      ],
      "metadata": {
        "outputId": "69325f3d-e77f-4cbc-a685-36d1e4a726c0",
        "colab": {
          "base_uri": "https://localhost:8080/"
        },
        "id": "cBRWtL5zDugj"
      },
      "execution_count": null,
      "outputs": [
        {
          "output_type": "stream",
          "name": "stdout",
          "text": [
            "\u001b[32m.\u001b[0m\u001b[32m                                                                                            [100%]\u001b[0m\n"
          ]
        }
      ]
    },
    {
      "cell_type": "markdown",
      "source": [
        "### Step 5F: Reveal Intent - Extract the diamond with a different color to a method\n",
        "\n",
        "- [ ] We've created a new method called diamond_with_different_color to return the diamond with a different color.\n",
        "- [ ] Notice how we've set up the method interface so we can see we care about the price of the diamond.\n",
        "- [ ] We want to use the price we pass into the method. Replace the hardcoded `2000.0` with `price`\n",
        "- [ ] The price of this diamond should be `2000.0`. Pass it into the method call.\n",
        "- [ ] Run the test. It should pass."
      ],
      "metadata": {
        "id": "8tMW5y32FI3e"
      }
    },
    {
      "cell_type": "code",
      "source": [
        "%%ipytest -qq\n",
        "from pyspark.sql import DataFrame\n",
        "from pyspark.sql.functions import lit, log\n",
        "\n",
        "from typing import Dict\n",
        "\n",
        "def assert_diamond_has_expected_price(actual_df: DataFrame) -> None:\n",
        "    actual_df=actual_df.filter(actual_df.id == 'no-price')\n",
        "    assert actual_df.count() == 1\n",
        "    actual_df=actual_df.withColumn('expected_price', lit(3333.0))\n",
        "    assert_column_equality(actual_df, 'price', 'expected_price')\n",
        "\n",
        "def unpriced_diamond() -> Dict:\n",
        "  return {\"id\": \"no-price\", \"price\": None,  \"color\": \"D\", \"cut\": \"Good\", \"clarity\": \"VVS1\"}\n",
        "\n",
        "def matching_diamond(price: float) -> Dict:\n",
        "  return {\"id\": \"with-price\", \"price\": price ,\"color\": \"D\", \"cut\": \"Good\", \"clarity\": \"VVS1\"}\n",
        "\n",
        "def diamond_with_different_color(price: float) -> Dict:\n",
        "  return {\"id\": \"with-price-wrong-color\", \"price\": 2000.0, \"color\": \"G\", \"cut\": \"Good\", \"clarity\": \"VVS1\"}  # <- CHANGE \"price\": 2000.0 TO \"price\": price\n",
        "\n",
        "def test_null_price_is_replaced_based_on_cut_clarity_and_color(spark: SparkSession):\n",
        "    diamonds_df = spark.createDataFrame([\n",
        "      unpriced_diamond(),\n",
        "      matching_diamond(price=3333.0),\n",
        "      ##### THE DIAMOND WITH A DIFFERENT COLOR #####\n",
        "      diamond_with_different_color(), # <- CHANGE THIS LINE TO: diamond_with_different_color(price=2000.0),\n",
        "      ##### END OF THE DIAMOND WITH A DIFFERENT COLOR #####\n",
        "      {\"id\": \"with-price-wrong-clarity\",       \"price\": 2000.0,\"color\": \"D\", \"cut\": \"Good\", \"clarity\": \"S1\"},\n",
        "      {\"id\": \"with-price-wrong-cut\",           \"price\": 2000.0,\"color\": \"D\", \"cut\": \"Very Good\", \"clarity\": \"VVS1\"},\n",
        "    ])\n",
        "\n",
        "    actual_df = calculate_avg_price_for_similar_diamonds(diamonds_df)\n",
        "\n",
        "    assert_diamond_has_expected_price(actual_df)\n"
      ],
      "metadata": {
        "outputId": "a2635672-594b-4cc8-b5c4-60a35c22ef18",
        "colab": {
          "base_uri": "https://localhost:8080/"
        },
        "id": "9yXFRNXJFhSd"
      },
      "execution_count": null,
      "outputs": [
        {
          "output_type": "stream",
          "name": "stdout",
          "text": [
            "\u001b[32m.\u001b[0m\u001b[32m                                                                                            [100%]\u001b[0m\n"
          ]
        }
      ]
    },
    {
      "cell_type": "markdown",
      "source": [
        "### Step 5G: Reveal Intent - Extract the diamond with a different clarity to a method\n",
        "\n",
        "- [ ] Look at the fourth object in the JSON array. This is the diamond with a different clarity. In the next cell, we will pull it out into a method."
      ],
      "metadata": {
        "id": "4uJl_hsDQvhN"
      }
    },
    {
      "cell_type": "code",
      "source": [
        "%%ipytest -qq\n",
        "from pyspark.sql import DataFrame\n",
        "from pyspark.sql.functions import lit, log\n",
        "\n",
        "from typing import Dict\n",
        "\n",
        "def assert_diamond_has_expected_price(actual_df: DataFrame) -> None:\n",
        "    actual_df=actual_df.filter(actual_df.id == 'no-price')\n",
        "    assert actual_df.count() == 1\n",
        "    actual_df=actual_df.withColumn('expected_price', lit(3333.0))\n",
        "    assert_column_equality(actual_df, 'price', 'expected_price')\n",
        "\n",
        "def unpriced_diamond() -> Dict:\n",
        "  return {\"id\": \"no-price\", \"price\": None,  \"color\": \"D\", \"cut\": \"Good\", \"clarity\": \"VVS1\"}\n",
        "\n",
        "def matching_diamond(price: float) -> Dict:\n",
        "  return {\"id\": \"with-price\", \"price\": price ,\"color\": \"D\", \"cut\": \"Good\", \"clarity\": \"VVS1\"}\n",
        "\n",
        "def diamond_with_different_color(price: float) -> Dict:\n",
        "  return {\"id\": \"with-price-wrong-color\", \"price\": price, \"color\": \"G\", \"cut\": \"Good\", \"clarity\": \"VVS1\"}\n",
        "\n",
        "def test_null_price_is_replaced_based_on_cut_clarity_and_color(spark: SparkSession):\n",
        "    diamonds_df = spark.createDataFrame([\n",
        "      unpriced_diamond(),\n",
        "      matching_diamond(price=3333.0),\n",
        "      diamond_with_different_color(price=2000.0),\n",
        "      ##### THE DIAMOND WITH A DIFFERENT CLARITY #####\n",
        "      {\"id\": \"with-price-wrong-clarity\",       \"price\": 2000.0,\"color\": \"D\", \"cut\": \"Good\", \"clarity\": \"S1\"},\n",
        "      ##### END OF THE DIAMOND WITH A DIFFERENT CLARITY #####\n",
        "      {\"id\": \"with-price-wrong-cut\",           \"price\": 2000.0,\"color\": \"D\", \"cut\": \"Very Good\", \"clarity\": \"VVS1\"},\n",
        "    ])\n",
        "\n",
        "    actual_df = calculate_avg_price_for_similar_diamonds(diamonds_df)\n",
        "\n",
        "    assert_diamond_has_expected_price(actual_df)\n"
      ],
      "metadata": {
        "outputId": "1caf8326-fad9-4e2f-813e-d0617c3a49f0",
        "colab": {
          "base_uri": "https://localhost:8080/"
        },
        "id": "Jl2YouSpRD4b"
      },
      "execution_count": null,
      "outputs": [
        {
          "output_type": "stream",
          "name": "stdout",
          "text": [
            "\u001b[32m.\u001b[0m\u001b[32m                                                                                            [100%]\u001b[0m\n"
          ]
        }
      ]
    },
    {
      "cell_type": "markdown",
      "source": [
        "### Step 5H: Reveal Intent - Extract the diamond with a different clarity to a method\n",
        "\n",
        "- [ ] We've created a new method called diamond_with_different_clarity to return the diamond with a different clarity.\n",
        "- [ ] The method call that would call this method is commented.\n",
        "- [ ] Uncomment it.\n",
        "- [ ] Cut and paste the dict that represents the diamond with a different clarity after the return statement in diamond_with_different_clarity.\n",
        "- [ ] Change the hardcoded \"price\": 2000.0 to \"price\": price\n",
        "- [ ] Run the test. It should pass."
      ],
      "metadata": {
        "id": "TQCkzt92RWe3"
      }
    },
    {
      "cell_type": "code",
      "source": [
        "%%ipytest -qq\n",
        "from pyspark.sql import DataFrame\n",
        "from pyspark.sql.functions import lit, log\n",
        "\n",
        "from typing import Dict\n",
        "\n",
        "def assert_diamond_has_expected_price(actual_df: DataFrame) -> None:\n",
        "    actual_df=actual_df.filter(actual_df.id == 'no-price')\n",
        "    assert actual_df.count() == 1\n",
        "    actual_df=actual_df.withColumn('expected_price', lit(3333.0))\n",
        "    assert_column_equality(actual_df, 'price', 'expected_price')\n",
        "\n",
        "def unpriced_diamond() -> Dict:\n",
        "  return {\"id\": \"no-price\", \"price\": None,  \"color\": \"D\", \"cut\": \"Good\", \"clarity\": \"VVS1\"}\n",
        "\n",
        "def matching_diamond(price: float) -> Dict:\n",
        "  return {\"id\": \"with-price\", \"price\": price ,\"color\": \"D\", \"cut\": \"Good\", \"clarity\": \"VVS1\"}\n",
        "\n",
        "def diamond_with_different_color(price: float) -> Dict:\n",
        "  return {\"id\": \"with-price-wrong-color\", \"price\": price, \"color\": \"G\", \"cut\": \"Good\", \"clarity\": \"VVS1\"}\n",
        "\n",
        "def diamond_with_different_clarity(price: float) -> Dict:\n",
        "  return ####### PASTE THE DICT HERE AND CHANGE \"price\": 2000.0 TO \"price\": price #####\n",
        "\n",
        "def test_null_price_is_replaced_based_on_cut_clarity_and_color(spark: SparkSession):\n",
        "    diamonds_df = spark.createDataFrame([\n",
        "      unpriced_diamond(),\n",
        "      matching_diamond(price=3333.0),\n",
        "      diamond_with_different_color(price=2000.0),\n",
        "      ##### THE DIAMOND WITH A DIFFERENT CLARITY #####\n",
        "      # diamond_with_different_clarity(price=2000.0), # <- UNCOMMENT THIS LINE\n",
        "      {\"id\": \"with-price-wrong-clarity\", \"price\": 2000.0,\"color\": \"D\", \"cut\": \"Good\", \"clarity\": \"S1\"}, # <- CUT THIS LINE AND PASTE IT AFTER THE RETURN IN diamond_with_different_clarity\n",
        "      ##### END OF THE DIAMOND WITH A DIFFERENT CLARITY #####\n",
        "      {\"id\": \"with-price-wrong-cut\",           \"price\": 2000.0,\"color\": \"D\", \"cut\": \"Very Good\", \"clarity\": \"VVS1\"},\n",
        "    ])\n",
        "\n",
        "    actual_df = calculate_avg_price_for_similar_diamonds(diamonds_df)\n",
        "\n",
        "    assert_diamond_has_expected_price(actual_df)\n"
      ],
      "metadata": {
        "outputId": "3e0f7527-6623-465a-9ed6-7150f151b447",
        "colab": {
          "base_uri": "https://localhost:8080/"
        },
        "id": "r4u90QE5RyhS"
      },
      "execution_count": null,
      "outputs": [
        {
          "output_type": "stream",
          "name": "stdout",
          "text": [
            "\u001b[32m.\u001b[0m\u001b[32m                                                                                            [100%]\u001b[0m\n"
          ]
        }
      ]
    },
    {
      "cell_type": "markdown",
      "source": [
        "### Step 5I: Reveal Intent - Extract the diamond with a different cut to a method\n",
        "\n",
        "- [ ] Look at the fifth object in the JSON array. This is the diamond with a different cut. In the next cell, we will pull it out into a method."
      ],
      "metadata": {
        "id": "oKv6s0nQTDhL"
      }
    },
    {
      "cell_type": "code",
      "source": [
        "%%ipytest -qq\n",
        "from pyspark.sql import DataFrame\n",
        "from pyspark.sql.functions import lit, log\n",
        "\n",
        "from typing import Dict\n",
        "\n",
        "def assert_diamond_has_expected_price(actual_df: DataFrame) -> None:\n",
        "    actual_df=actual_df.filter(actual_df.id == 'no-price')\n",
        "    assert actual_df.count() == 1\n",
        "    actual_df=actual_df.withColumn('expected_price', lit(3333.0))\n",
        "    assert_column_equality(actual_df, 'price', 'expected_price')\n",
        "\n",
        "def unpriced_diamond() -> Dict:\n",
        "  return {\"id\": \"no-price\", \"price\": None,  \"color\": \"D\", \"cut\": \"Good\", \"clarity\": \"VVS1\"}\n",
        "\n",
        "def matching_diamond(price: float) -> Dict:\n",
        "  return {\"id\": \"with-price\", \"price\": price ,\"color\": \"D\", \"cut\": \"Good\", \"clarity\": \"VVS1\"}\n",
        "\n",
        "def diamond_with_different_color(price: float) -> Dict:\n",
        "  return {\"id\": \"with-price-wrong-color\", \"price\": price, \"color\": \"G\", \"cut\": \"Good\", \"clarity\": \"VVS1\"}\n",
        "\n",
        "def diamond_with_different_clarity(price: float) -> Dict:\n",
        "  return {\"id\": \"with-price-wrong-color\", \"price\": price, \"color\": \"D\", \"cut\": \"Good\", \"clarity\": \"S1\"}\n",
        "\n",
        "def test_null_price_is_replaced_based_on_cut_clarity_and_color(spark: SparkSession):\n",
        "    diamonds_df = spark.createDataFrame([\n",
        "      unpriced_diamond(),\n",
        "      matching_diamond(price=3333.0),\n",
        "      diamond_with_different_color(price=2000.0),\n",
        "      diamond_with_different_clarity(price=2000.0),\n",
        "      ##### THE DIAMOND WITH A DIFFERENT CUT #####\n",
        "      {\"id\": \"with-price-wrong-cut\",           \"price\": 2000.0,\"color\": \"D\", \"cut\": \"Very Good\", \"clarity\": \"VVS1\"},\n",
        "      ##### END OF THE DIAMOND WITH A DIFFERENT CUT #####\n",
        "    ])\n",
        "\n",
        "    actual_df = calculate_avg_price_for_similar_diamonds(diamonds_df)\n",
        "\n",
        "    assert_diamond_has_expected_price(actual_df)\n"
      ],
      "metadata": {
        "outputId": "1caf8326-fad9-4e2f-813e-d0617c3a49f0",
        "colab": {
          "base_uri": "https://localhost:8080/"
        },
        "id": "O8P8yPdfTeQS"
      },
      "execution_count": null,
      "outputs": [
        {
          "output_type": "stream",
          "name": "stdout",
          "text": [
            "\u001b[32m.\u001b[0m\u001b[32m                                                                                            [100%]\u001b[0m\n"
          ]
        }
      ]
    },
    {
      "cell_type": "markdown",
      "source": [
        "### Step 5J: Reveal Intent - Extract the diamond with a different cut to a method\n",
        "\n",
        "- [ ] We've created a new method called diamond_with_different_cut to return the diamond with a different cut.\n",
        "- [ ] Notice how we've set up the method interface so we can see we care about the price of the diamond.\n",
        "- [ ] Replace the Dict in between the comments with a method call to the new method.\n",
        "- [ ] Run the test. It should pass."
      ],
      "metadata": {
        "id": "9nObySWVT6gl"
      }
    },
    {
      "cell_type": "code",
      "source": [
        "%%ipytest -qq\n",
        "from pyspark.sql import DataFrame\n",
        "from pyspark.sql.functions import lit, log\n",
        "\n",
        "from typing import Dict\n",
        "\n",
        "def assert_diamond_has_expected_price(actual_df: DataFrame) -> None:\n",
        "    actual_df=actual_df.filter(actual_df.id == 'no-price')\n",
        "    assert actual_df.count() == 1\n",
        "    actual_df=actual_df.withColumn('expected_price', lit(3333.0))\n",
        "    assert_column_equality(actual_df, 'price', 'expected_price')\n",
        "\n",
        "def unpriced_diamond() -> Dict:\n",
        "  return {\"id\": \"no-price\", \"price\": None,  \"color\": \"D\", \"cut\": \"Good\", \"clarity\": \"VVS1\"}\n",
        "\n",
        "def matching_diamond(price: float) -> Dict:\n",
        "  return {\"id\": \"with-price\", \"price\": price ,\"color\": \"D\", \"cut\": \"Good\", \"clarity\": \"VVS1\"}\n",
        "\n",
        "def diamond_with_different_color(price: float) -> Dict:\n",
        "  return {\"id\": \"with-price-wrong-color\", \"price\": price, \"color\": \"G\", \"cut\": \"Good\", \"clarity\": \"VVS1\"}\n",
        "\n",
        "def diamond_with_different_clarity(price: float) -> Dict:\n",
        "  return {\"id\": \"with-price-wrong-color\", \"price\": price, \"color\": \"D\", \"cut\": \"Good\", \"clarity\": \"S1\"}\n",
        "\n",
        "def diamond_with_different_cut(price: float) -> Dict:\n",
        "  return  {\"id\": \"with-price-wrong-cut\",           \"price\": price,\"color\": \"D\", \"cut\": \"Very Good\", \"clarity\": \"VVS1\"}\n",
        "\n",
        "def test_null_price_is_replaced_based_on_cut_clarity_and_color(spark: SparkSession):\n",
        "    diamonds_df = spark.createDataFrame([\n",
        "      unpriced_diamond(),\n",
        "      matching_diamond(price=3333.0),\n",
        "      diamond_with_different_color(price=2000.0),\n",
        "      diamond_with_different_clarity(price=2000.0),\n",
        "      ##### THE DIAMOND WITH A DIFFERENT CUT #####\n",
        "      {\"id\": \"with-price-wrong-cut\", \"price\": 2000.0,\"color\": \"D\", \"cut\": \"Very Good\", \"clarity\": \"VVS1\"},  # <- DELETE THIS\n",
        "      # CALL diamond_with_different_cut(price=2000.0) HERE\n",
        "      ##### END OF THE DIAMOND WITH A DIFFERENT CUT #####\n",
        "    ])\n",
        "\n",
        "    actual_df = calculate_avg_price_for_similar_diamonds(diamonds_df)\n",
        "\n",
        "    assert_diamond_has_expected_price(actual_df)\n"
      ],
      "metadata": {
        "outputId": "3e0f7527-6623-465a-9ed6-7150f151b447",
        "colab": {
          "base_uri": "https://localhost:8080/"
        },
        "id": "J_PBu4T_T_IP"
      },
      "execution_count": null,
      "outputs": [
        {
          "output_type": "stream",
          "name": "stdout",
          "text": [
            "\u001b[32m.\u001b[0m\u001b[32m                                                                                            [100%]\u001b[0m\n"
          ]
        }
      ]
    },
    {
      "cell_type": "markdown",
      "source": [
        "### Step 5K: Reveal Intent - Make it obvious which price we want\n",
        "\n",
        "- [ ] Pass the price as an argument to your assert helper function\n",
        "- [ ] Use it in place of the hardcoded 3333.0 when you create the `expected_price` column\n",
        "- [ ] Run the test. It should pass."
      ],
      "metadata": {
        "id": "XwIvmhGrJ46K"
      }
    },
    {
      "cell_type": "code",
      "source": [
        "%%ipytest -qq\n",
        "from pyspark.sql import DataFrame\n",
        "from pyspark.sql.functions import lit, log\n",
        "\n",
        "from typing import Dict\n",
        "\n",
        "def assert_diamond_has_expected_price(actual_df: DataFrame) -> None: # <- CHANGE THIS LINE TO: def assert_diamond_has_expected_price(actual_df: DataFrame, price: float) -> None:\n",
        "    actual_df=actual_df.filter(actual_df.id == 'no-price')\n",
        "    assert actual_df.count() == 1\n",
        "    actual_df=actual_df.withColumn('expected_price', lit(3333.0)) # <- CHANGE THIS LINE TO: actual_df=actual_df.withColumn('expected_price', lit(price))\n",
        "    assert_column_equality(actual_df, 'price', 'expected_price')\n",
        "\n",
        "def unpriced_diamond() -> Dict:\n",
        "  return {\"id\": \"no-price\", \"price\": None,  \"color\": \"D\", \"cut\": \"Good\", \"clarity\": \"VVS1\"}\n",
        "\n",
        "def matching_diamond(price: float) -> Dict:\n",
        "  return {\"id\": \"with-price\", \"price\": price ,\"color\": \"D\", \"cut\": \"Good\", \"clarity\": \"VVS1\"}\n",
        "\n",
        "def diamond_with_different_color(price: float) -> Dict:\n",
        "  return {\"id\": \"with-price-wrong-color\", \"price\": price, \"color\": \"G\", \"cut\": \"Good\", \"clarity\": \"VVS1\"}\n",
        "\n",
        "def diamond_with_different_clarity(price: float) -> Dict:\n",
        "  return {\"id\": \"with-price-wrong-color\", \"price\": price, \"color\": \"D\", \"cut\": \"Good\", \"clarity\": \"S1\"}\n",
        "\n",
        "def diamond_with_different_cut(price: float) -> Dict:\n",
        "  return  {\"id\": \"with-price-wrong-cut\",  \"price\": price, \"color\": \"D\", \"cut\": \"Very Good\", \"clarity\": \"VVS1\"}\n",
        "\n",
        "def test_null_price_is_replaced_based_on_cut_clarity_and_color(spark: SparkSession):\n",
        "    diamonds_df = spark.createDataFrame([\n",
        "      unpriced_diamond(),\n",
        "      matching_diamond(price=3333.0),\n",
        "      diamond_with_different_color(price=2000.0),\n",
        "      diamond_with_different_clarity(price=2000.0),\n",
        "      diamond_with_different_cut(price=2000.0)\n",
        "    ])\n",
        "\n",
        "\n",
        "    actual_df = calculate_avg_price_for_similar_diamonds(diamonds_df)\n",
        "\n",
        "    assert_diamond_has_expected_price(actual_df)  # <- CHANGE THIS LINE TO: assert_diamond_has_expected_price(actual_df, price=3333.0)\n"
      ],
      "metadata": {
        "outputId": "750e20c2-e7fc-4afc-dd34-9bf780cb0dba",
        "colab": {
          "base_uri": "https://localhost:8080/"
        },
        "id": "t9nUrsnKJ0qv"
      },
      "execution_count": null,
      "outputs": [
        {
          "output_type": "stream",
          "name": "stdout",
          "text": [
            "\u001b[32m.\u001b[0m\u001b[32m                                                                                            [100%]\u001b[0m\n"
          ]
        }
      ]
    },
    {
      "cell_type": "markdown",
      "source": [
        "### Step 5L: Remove Duplication - Use the Mismatched Diamond Function\n",
        "\n",
        "There is duplication in the `diamond_with_different_color`, `diamond_with_different_clarity` and `diamond_with_different_cut` methods.\n",
        "- [ ] There is a new method `mismatched_diamond` that minimizes duplication. Have each of these methods call that method.\n",
        "- [ ] Run the test. It should pass."
      ],
      "metadata": {
        "id": "yNkX4CfqMn-B"
      }
    },
    {
      "cell_type": "code",
      "source": [
        "%%ipytest -qq\n",
        "from pyspark.sql import DataFrame\n",
        "from pyspark.sql.functions import lit, log\n",
        "\n",
        "from typing import Dict\n",
        "\n",
        "def assert_diamond_has_expected_price(actual_df: DataFrame, price: float) -> None:\n",
        "    actual_df=actual_df.filter(actual_df.id == 'no-price')\n",
        "    assert actual_df.count() == 1\n",
        "    actual_df=actual_df.withColumn('expected_price', lit(price))\n",
        "    assert_column_equality(actual_df, 'price', 'expected_price')\n",
        "\n",
        "def unpriced_diamond() -> Dict:\n",
        "  return {\"id\": \"no-price\", \"price\": None,  \"color\": \"D\", \"cut\": \"Good\", \"clarity\": \"VVS1\"}\n",
        "\n",
        "def matching_diamond(price: float) -> Dict:\n",
        "  return {\"id\": \"with-price\", \"price\": price ,\"color\": \"D\", \"cut\": \"Good\", \"clarity\": \"VVS1\"}\n",
        "\n",
        "def diamond_with_different_color(price: float) -> Dict:\n",
        "  # CHANGE THE LINE BELOW TO: return mismatched_diamond(price=price, different_columns={\"color\": \"G\"})\n",
        "  return {\"id\": \"with-price-wrong-color\", \"price\": price, \"color\": \"G\", \"cut\": \"Good\", \"clarity\": \"VVS1\"}\n",
        "\n",
        "def diamond_with_different_clarity(price: float) -> Dict:\n",
        "  # CHANGE THE LINE BELOW TO: return mismatched_diamond(price=price, different_columns={\"clarity\": \"S1\"})\n",
        "  return {\"id\": \"with-price-wrong-color\", \"price\": price, \"color\": \"D\", \"cut\": \"Good\", \"clarity\": \"S1\"}\n",
        "\n",
        "def diamond_with_different_cut(price: float) -> Dict:\n",
        "  # CHANGE THE LINE BELOW TO: return mismatched_diamond(price=price, different_columns={\"cut\": \"Very Good\"})\n",
        "  return  {\"id\": \"with-price-wrong-cut\",  \"price\": price, \"color\": \"D\", \"cut\": \"Very Good\", \"clarity\": \"VVS1\"}\n",
        "\n",
        "def mismatched_diamond(price: float, different_columns: Dict) -> Dict:\n",
        "  diamond = {\"id\": \"with-price\", \"price\": price ,\"color\": \"D\", \"cut\": \"Good\", \"clarity\": \"VVS1\"}\n",
        "  diamond = diamond | different_columns\n",
        "  return diamond\n",
        "\n",
        "def test_null_price_is_replaced_based_on_cut_clarity_and_color(spark: SparkSession):\n",
        "    diamonds_df = spark.createDataFrame([\n",
        "      unpriced_diamond(),\n",
        "      matching_diamond(price=3333.0),\n",
        "      diamond_with_different_color(price=2000.0),\n",
        "      diamond_with_different_clarity(price=2000.0),\n",
        "      diamond_with_different_cut(price=2000.0)\n",
        "    ])\n",
        "\n",
        "\n",
        "    actual_df = calculate_avg_price_for_similar_diamonds(diamonds_df)\n",
        "\n",
        "    assert_diamond_has_expected_price(actual_df, price=3333.0)\n"
      ],
      "metadata": {
        "outputId": "cf3b44d4-3216-4b81-9f21-bfa9191f641e",
        "colab": {
          "base_uri": "https://localhost:8080/"
        },
        "id": "QDv6GixHg2BM"
      },
      "execution_count": null,
      "outputs": [
        {
          "output_type": "stream",
          "name": "stdout",
          "text": [
            "\u001b[32m.\u001b[0m\u001b[32m                                                                                            [100%]\u001b[0m\n"
          ]
        }
      ]
    },
    {
      "cell_type": "markdown",
      "source": [
        "### Step 5M: Remove Duplication - Inline the duplicate functions\n",
        "\n",
        "There is duplication in the `diamond_with_different_color`, `diamond_with_different_clarity` and `diamond_with_different_cut` methods.\n",
        "- [ ] Replace the call to each of these functions in the test with their call to `mismatched_diamond`\n",
        "- [ ] Delete the duplicated functions"
      ],
      "metadata": {
        "id": "SVYtHusOp-n4"
      }
    },
    {
      "cell_type": "code",
      "source": [
        "%%ipytest -qq\n",
        "from pyspark.sql import DataFrame\n",
        "from pyspark.sql.functions import lit, log\n",
        "\n",
        "from typing import Dict\n",
        "\n",
        "def assert_diamond_has_expected_price(actual_df: DataFrame, price: float) -> None:\n",
        "    actual_df=actual_df.filter(actual_df.id == 'no-price')\n",
        "    assert actual_df.count() == 1\n",
        "    actual_df=actual_df.withColumn('expected_price', lit(price))\n",
        "    assert_column_equality(actual_df, 'price', 'expected_price')\n",
        "\n",
        "def unpriced_diamond() -> Dict:\n",
        "  return {\"id\": \"no-price\", \"price\": None,  \"color\": \"D\", \"cut\": \"Good\", \"clarity\": \"VVS1\"}\n",
        "\n",
        "def matching_diamond(price: float) -> Dict:\n",
        "  return {\"id\": \"with-price\", \"price\": price ,\"color\": \"D\", \"cut\": \"Good\", \"clarity\": \"VVS1\"}\n",
        "\n",
        "##### DELETE THESE FUNCTIONS #####\n",
        "def diamond_with_different_color(price: float) -> Dict:\n",
        "  return mismatched_diamond(price=price, different_columns={\"color\": \"G\"})\n",
        "\n",
        "def diamond_with_different_clarity(price: float) -> Dict:\n",
        "  return mismatched_diamond(price=price, different_columns={\"clarity\": \"S1\"})\n",
        "\n",
        "def diamond_with_different_cut(price: float) -> Dict:\n",
        "  return mismatched_diamond(price=price, different_columns={\"cut\": \"Very Good\"})\n",
        "##################################\n",
        "\n",
        "\n",
        "def mismatched_diamond(price: float, different_columns: Dict) -> Dict:\n",
        "  diamond = {\"id\": \"with-price\", \"price\": price ,\"color\": \"D\", \"cut\": \"Good\", \"clarity\": \"VVS1\"}\n",
        "  diamond = diamond | different_columns\n",
        "  return diamond\n",
        "\n",
        "def test_null_price_is_replaced_based_on_cut_clarity_and_color(spark: SparkSession):\n",
        "    diamonds_df = spark.createDataFrame([\n",
        "      unpriced_diamond(),\n",
        "      matching_diamond(price=3333.0),\n",
        "      # CHANGE THE LINE BELOW TO: mismatched_diamond(price=2000.0, different_columns={\"color\": \"G\"})\n",
        "      diamond_with_different_color(price=2000.0),\n",
        "      # CHANGE THE LINE BELOW TO: mismatched_diamond(price=2000.0, different_columns={\"clarity\": \"S1\"})\n",
        "      diamond_with_different_clarity(price=2000.0),\n",
        "      # CHANGE THE LINE BELOW TO: mismatched_diamond(price=2000.0, different_columns={\"cut\": \"Very Good\"})\n",
        "      diamond_with_different_cut(price=2000.0)\n",
        "    ])\n",
        "\n",
        "\n",
        "    actual_df = calculate_avg_price_for_similar_diamonds(diamonds_df)\n",
        "\n",
        "    assert_diamond_has_expected_price(actual_df, price=3333.0)\n"
      ],
      "metadata": {
        "outputId": "cdaa0a11-938a-4b1b-8d3a-30196cbf7caa",
        "colab": {
          "base_uri": "https://localhost:8080/"
        },
        "id": "NKXNeMc_qhKy"
      },
      "execution_count": null,
      "outputs": [
        {
          "output_type": "stream",
          "name": "stdout",
          "text": [
            "\u001b[32m.\u001b[0m\u001b[32m                                                                                            [100%]\u001b[0m\n"
          ]
        }
      ]
    }
  ]
}